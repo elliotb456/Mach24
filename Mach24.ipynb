{
  "cells": [
    {
      "cell_type": "markdown",
      "metadata": {
        "id": "view-in-github",
        "colab_type": "text"
      },
      "source": [
        "<a href=\"https://colab.research.google.com/github/elliotb456/Mach24/blob/workingBranch/Mach24.ipynb\" target=\"_parent\"><img src=\"https://colab.research.google.com/assets/colab-badge.svg\" alt=\"Open In Colab\"/></a>"
      ]
    },
    {
      "cell_type": "markdown",
      "source": [
        "**SIONNA TEST #1**"
      ],
      "metadata": {
        "id": "x8y02jRoxKPh"
      }
    },
    {
      "cell_type": "markdown",
      "metadata": {
        "id": "nvAT8wcRNVEk"
      },
      "source": [
        "# Getting Started - RocketPy in Colab\n"
      ]
    },
    {
      "cell_type": "markdown",
      "metadata": {
        "id": "8gCWjpEyPNp1"
      },
      "source": [
        "We start by setting up our environment. To run this notebook, we will need:\n",
        "\n",
        "- RocketPy\n",
        "- netCDF4 (to get weather forecasts)\n",
        "- Data files (we will clone RocketPy's repository for these)\n",
        "\n",
        "Therefore, let's run the following lines of code:\n"
      ]
    },
    {
      "cell_type": "code",
      "execution_count": 29,
      "metadata": {
        "id": "zwDDabtpNc6Z",
        "colab": {
          "base_uri": "https://localhost:8080/"
        },
        "outputId": "ed199f9d-27a1-487f-c86d-04b1ccbd804b"
      },
      "outputs": [
        {
          "output_type": "stream",
          "name": "stdout",
          "text": [
            "Requirement already satisfied: rocketpy in /usr/local/lib/python3.10/dist-packages (1.1.5)\n",
            "Requirement already satisfied: netCDF4 in /usr/local/lib/python3.10/dist-packages (1.6.5)\n",
            "Requirement already satisfied: numpy>=1.13 in /usr/local/lib/python3.10/dist-packages (from rocketpy) (1.23.5)\n",
            "Requirement already satisfied: scipy>=1.0 in /usr/local/lib/python3.10/dist-packages (from rocketpy) (1.11.4)\n",
            "Requirement already satisfied: matplotlib>=3.0 in /usr/local/lib/python3.10/dist-packages (from rocketpy) (3.7.1)\n",
            "Requirement already satisfied: requests in /usr/local/lib/python3.10/dist-packages (from rocketpy) (2.31.0)\n",
            "Requirement already satisfied: pytz in /usr/local/lib/python3.10/dist-packages (from rocketpy) (2023.4)\n",
            "Requirement already satisfied: simplekml in /usr/local/lib/python3.10/dist-packages (from rocketpy) (1.3.6)\n",
            "Requirement already satisfied: cftime in /usr/local/lib/python3.10/dist-packages (from netCDF4) (1.6.3)\n",
            "Requirement already satisfied: certifi in /usr/local/lib/python3.10/dist-packages (from netCDF4) (2023.11.17)\n",
            "Requirement already satisfied: contourpy>=1.0.1 in /usr/local/lib/python3.10/dist-packages (from matplotlib>=3.0->rocketpy) (1.2.0)\n",
            "Requirement already satisfied: cycler>=0.10 in /usr/local/lib/python3.10/dist-packages (from matplotlib>=3.0->rocketpy) (0.12.1)\n",
            "Requirement already satisfied: fonttools>=4.22.0 in /usr/local/lib/python3.10/dist-packages (from matplotlib>=3.0->rocketpy) (4.47.2)\n",
            "Requirement already satisfied: kiwisolver>=1.0.1 in /usr/local/lib/python3.10/dist-packages (from matplotlib>=3.0->rocketpy) (1.4.5)\n",
            "Requirement already satisfied: packaging>=20.0 in /usr/local/lib/python3.10/dist-packages (from matplotlib>=3.0->rocketpy) (23.2)\n",
            "Requirement already satisfied: pillow>=6.2.0 in /usr/local/lib/python3.10/dist-packages (from matplotlib>=3.0->rocketpy) (9.4.0)\n",
            "Requirement already satisfied: pyparsing>=2.3.1 in /usr/local/lib/python3.10/dist-packages (from matplotlib>=3.0->rocketpy) (3.1.1)\n",
            "Requirement already satisfied: python-dateutil>=2.7 in /usr/local/lib/python3.10/dist-packages (from matplotlib>=3.0->rocketpy) (2.8.2)\n",
            "Requirement already satisfied: charset-normalizer<4,>=2 in /usr/local/lib/python3.10/dist-packages (from requests->rocketpy) (3.3.2)\n",
            "Requirement already satisfied: idna<4,>=2.5 in /usr/local/lib/python3.10/dist-packages (from requests->rocketpy) (3.6)\n",
            "Requirement already satisfied: urllib3<3,>=1.21.1 in /usr/local/lib/python3.10/dist-packages (from requests->rocketpy) (2.0.7)\n",
            "Requirement already satisfied: six>=1.5 in /usr/local/lib/python3.10/dist-packages (from python-dateutil>=2.7->matplotlib>=3.0->rocketpy) (1.16.0)\n",
            "Cloning into 'RocketPy'...\n",
            "remote: Enumerating objects: 17772, done.\u001b[K\n",
            "remote: Counting objects: 100% (4854/4854), done.\u001b[K\n",
            "remote: Compressing objects: 100% (1643/1643), done.\u001b[K\n",
            "remote: Total 17772 (delta 3639), reused 4108 (delta 3204), pack-reused 12918\u001b[K\n",
            "Receiving objects: 100% (17772/17772), 780.80 MiB | 37.86 MiB/s, done.\n",
            "Resolving deltas: 100% (12607/12607), done.\n"
          ]
        }
      ],
      "source": [
        "%pip install rocketpy netCDF4\n",
        "!git clone https://github.com/giovaniceotto/RocketPy.git"
      ]
    },
    {
      "cell_type": "code",
      "execution_count": 30,
      "metadata": {
        "id": "pY5XGge5OoGJ"
      },
      "outputs": [],
      "source": [
        "import os\n",
        "\n",
        "os.chdir(\"RocketPy/docs/notebooks\")"
      ]
    },
    {
      "cell_type": "markdown",
      "metadata": {
        "id": "55zcnvqdNVEo"
      },
      "source": [
        "Now we can start!\n",
        "\n",
        "Here we go through a simplified rocket trajectory simulation to get you started. Let's start by importing the rocketpy module.\n"
      ]
    },
    {
      "cell_type": "code",
      "execution_count": 31,
      "metadata": {
        "id": "0o6e1AsGBWSE",
        "colab": {
          "base_uri": "https://localhost:8080/"
        },
        "outputId": "3e7155b0-2ff8-40c4-a423-eb236fbb5741"
      },
      "outputs": [
        {
          "output_type": "stream",
          "name": "stdout",
          "text": [
            "The autoreload extension is already loaded. To reload it, use:\n",
            "  %reload_ext autoreload\n"
          ]
        }
      ],
      "source": [
        "%load_ext autoreload\n",
        "%autoreload 2"
      ]
    },
    {
      "cell_type": "code",
      "execution_count": 32,
      "metadata": {
        "id": "XGK9M8ecNVEp"
      },
      "outputs": [],
      "source": [
        "from rocketpy import Environment, SolidMotor, Rocket, Flight"
      ]
    },
    {
      "cell_type": "markdown",
      "metadata": {
        "id": "ImgkhEkZNVE8"
      },
      "source": [
        "If you are using Jupyter Notebooks, it is recommended to run the following line to make matplotlib plots which will be shown later interactive and higher quality.\n"
      ]
    },
    {
      "cell_type": "code",
      "execution_count": 33,
      "metadata": {
        "id": "uRa566HoNVE9"
      },
      "outputs": [],
      "source": [
        "%config InlineBackend.figure_formats = ['svg']\n",
        "%matplotlib inline"
      ]
    },
    {
      "cell_type": "markdown",
      "metadata": {
        "id": "sSeqramENVFB"
      },
      "source": [
        "## Setting Up a Simulation\n"
      ]
    },
    {
      "cell_type": "markdown",
      "metadata": {
        "id": "Vm4ZHAnnNVFC"
      },
      "source": [
        "### Creating an Environment for Mach24 launch site\n",
        "\n"
      ]
    },
    {
      "cell_type": "markdown",
      "metadata": {
        "id": "iLVnTZ3iBWSI"
      },
      "source": [
        "\n",
        "The `Environment` class is used to define the atmosphere, the winds, and the gravity models.\n",
        "\n",
        "You can find more information about the `Environment` class in the [Environment Class Usage Docs](https://docs.rocketpy.org/en/latest/notebooks/environment/environment_class_usage.html).\n",
        "\n",
        "**We will need to get the EXACT coordinates to ensure the most accurate simulations**"
      ]
    },
    {
      "cell_type": "code",
      "execution_count": 34,
      "metadata": {
        "id": "d7mooAZONVFD"
      },
      "outputs": [],
      "source": [
        "env = Environment(latitude=55.43753666449806, longitude=-5.687982477918211, elevation=13),"
      ]
    },
    {
      "cell_type": "markdown",
      "metadata": {
        "id": "Fz8Ha6usNVFH"
      },
      "source": [
        "To get weather data from the GFS forecast, available online, we run the following lines.\n",
        "\n",
        "First, we set tomorrow's date.\n",
        "\n",
        "**We will have to change this top the actual date/time once it is confirmed**\n"
      ]
    },
    {
      "cell_type": "code",
      "execution_count": 35,
      "metadata": {
        "id": "5kl-Je8dNVFI",
        "colab": {
          "base_uri": "https://localhost:8080/",
          "height": 246
        },
        "outputId": "c5842cf3-cc31-4b00-e7fc-c7a8d8114afa"
      },
      "outputs": [
        {
          "output_type": "error",
          "ename": "AttributeError",
          "evalue": "'tuple' object has no attribute 'set_date'",
          "traceback": [
            "\u001b[0;31m---------------------------------------------------------------------------\u001b[0m",
            "\u001b[0;31mAttributeError\u001b[0m                            Traceback (most recent call last)",
            "\u001b[0;32m<ipython-input-35-793cec2a68b1>\u001b[0m in \u001b[0;36m<cell line: 5>\u001b[0;34m()\u001b[0m\n\u001b[1;32m      3\u001b[0m \u001b[0mtomorrow\u001b[0m \u001b[0;34m=\u001b[0m \u001b[0mdatetime\u001b[0m\u001b[0;34m.\u001b[0m\u001b[0mdate\u001b[0m\u001b[0;34m.\u001b[0m\u001b[0mtoday\u001b[0m\u001b[0;34m(\u001b[0m\u001b[0;34m)\u001b[0m \u001b[0;34m+\u001b[0m \u001b[0mdatetime\u001b[0m\u001b[0;34m.\u001b[0m\u001b[0mtimedelta\u001b[0m\u001b[0;34m(\u001b[0m\u001b[0mdays\u001b[0m\u001b[0;34m=\u001b[0m\u001b[0;36m1\u001b[0m\u001b[0;34m)\u001b[0m\u001b[0;34m\u001b[0m\u001b[0;34m\u001b[0m\u001b[0m\n\u001b[1;32m      4\u001b[0m \u001b[0;34m\u001b[0m\u001b[0m\n\u001b[0;32m----> 5\u001b[0;31m env.set_date(\n\u001b[0m\u001b[1;32m      6\u001b[0m     \u001b[0;34m(\u001b[0m\u001b[0mtomorrow\u001b[0m\u001b[0;34m.\u001b[0m\u001b[0myear\u001b[0m\u001b[0;34m,\u001b[0m \u001b[0mtomorrow\u001b[0m\u001b[0;34m.\u001b[0m\u001b[0mmonth\u001b[0m\u001b[0;34m,\u001b[0m \u001b[0mtomorrow\u001b[0m\u001b[0;34m.\u001b[0m\u001b[0mday\u001b[0m\u001b[0;34m,\u001b[0m \u001b[0;36m12\u001b[0m\u001b[0;34m)\u001b[0m\u001b[0;34m\u001b[0m\u001b[0;34m\u001b[0m\u001b[0m\n\u001b[1;32m      7\u001b[0m )  # Hour given in UTC time\n",
            "\u001b[0;31mAttributeError\u001b[0m: 'tuple' object has no attribute 'set_date'"
          ]
        }
      ],
      "source": [
        "import datetime\n",
        "\n",
        "tomorrow = datetime.date.today() + datetime.timedelta(days=1)\n",
        "\n",
        "env.set_date(\n",
        "    (tomorrow.year, tomorrow.month, tomorrow.day, 12)\n",
        ")  # Hour given in UTC time"
      ]
    },
    {
      "cell_type": "markdown",
      "metadata": {
        "id": "or5MLF9gNVFM"
      },
      "source": [
        "Then, we tell env to use a GFS forecast to get the atmospheric conditions for flight.\n",
        "\n",
        "Don't mind the warning, it just means that not all variables, such as wind speed or atmospheric temperature, are available at all altitudes given by the forecast.\n"
      ]
    },
    {
      "cell_type": "code",
      "execution_count": null,
      "metadata": {
        "id": "g73fa7DWNVFN"
      },
      "outputs": [],
      "source": [
        "env.set_atmospheric_model(type=\"Forecast\", file=\"GFS\")"
      ]
    },
    {
      "cell_type": "markdown",
      "metadata": {
        "id": "wSnZQuRYNVFS"
      },
      "source": [
        "We can see what the weather will look like by calling the info method!\n"
      ]
    },
    {
      "cell_type": "code",
      "execution_count": null,
      "metadata": {
        "id": "H_AMjVTjNVFT"
      },
      "outputs": [],
      "source": [
        "env.info()"
      ]
    },
    {
      "cell_type": "markdown",
      "metadata": {
        "id": "Aksbs-pMNVFW"
      },
      "source": [
        "### Creating a Motor\n",
        "\n",
        "A solid rocket motor is used in this case. To create a motor, the SolidMotor class is used and the required arguments are given.\n",
        "\n",
        "The SolidMotor class requires the user to have a thrust curve ready. This can come either from a .eng file for a commercial motor, such as below, or a .csv file from a static test measurement.\n",
        "\n",
        "Besides the thrust curve, other parameters such as grain properties and nozzle dimensions must also be given.\n",
        "\n",
        "See [Solid Motor Class Usage Docs](https://docs.rocketpy.org/en/latest/user/motors/solidmotor.html) for more information.\n"
      ]
    },
    {
      "cell_type": "code",
      "execution_count": 46,
      "metadata": {
        "id": "Vx1dZObwNVFX"
      },
      "outputs": [],
      "source": [
        "PRO75L645 = SolidMotor(\n",
        "    thrust_source=\"/content/Cesaroni_3419L645-P.eng\",\n",
        "    dry_mass=1.607, #accurate\n",
        "    dry_inertia=(0.039, 0.039, 0.0015), #assumption\n",
        "    nozzle_radius=75 / 1000, #unknown\n",
        "    grain_number=3, #accurate\n",
        "    grain_density=1005 / 3, #assumption\n",
        "    grain_outer_radius=75 / 1000, #assumption\n",
        "    grain_initial_inner_radius=15 / 1000, #assumption\n",
        "    grain_initial_height=162 / 1000, #assumption\n",
        "    grain_separation=5 / 1000, #assumption\n",
        "    grains_center_of_mass_position=0.343, #assumption\n",
        "    center_of_dry_mass_position=0.231, #assumption\n",
        "    nozzle_position=0, #known\n",
        "    burn_time=5.3, #accurate\n",
        "    throat_radius=50 / 1000,\n",
        "    interpolation_method = 'linear', #known\n",
        "    coordinate_system_orientation=\"nozzle_to_combustion_chamber\",\n",
        ")"
      ]
    },
    {
      "cell_type": "markdown",
      "metadata": {
        "id": "E1LJDIa0NVFa"
      },
      "source": [
        "**Pay special attention to *position* related parameters:**\n",
        "More details on [Positions and Coordinate Systems](https://docs.rocketpy.org/en/latest/user/positions.html)\n"
      ]
    },
    {
      "cell_type": "markdown",
      "metadata": {
        "id": "ZajOOkXoBWSM"
      },
      "source": [
        "To see what our thrust curve looks like, along with other import properties, we invoke the info method yet again. You may try the all_info method if you want more information all at once!\n"
      ]
    },
    {
      "cell_type": "code",
      "execution_count": 48,
      "metadata": {
        "id": "vjyPT7GVNVFb",
        "colab": {
          "base_uri": "https://localhost:8080/",
          "height": 838
        },
        "outputId": "3e925ebb-fcd1-4a61-8bed-45655e3e8d07"
      },
      "outputs": [
        {
          "output_type": "stream",
          "name": "stdout",
          "text": [
            "Nozzle Details\n",
            "Nozzle Radius: 0.075 m\n",
            "Nozzle Throat Radius: 0.05 m\n",
            "\n",
            "Grain Details\n",
            "Number of Grains: 3\n",
            "Grain Spacing: 0.005 m\n",
            "Grain Density: 335.0 kg/m3\n",
            "Grain Outer Radius: 0.075 m\n",
            "Grain Inner Radius: 0.015 m\n",
            "Grain Height: 0.162 m\n",
            "Grain Volume: 0.003 m3\n",
            "Grain Mass: 0.921 kg\n",
            "\n",
            "Motor Details\n",
            "Total Burning Time: 5.3 s\n",
            "Total Propellant Mass: 2.762 kg\n",
            "Average Propellant Exhaust Velocity: 1242.262 m/s\n",
            "Average Thrust: 647.384 N\n",
            "Maximum Thrust: 764.97 N at 2.043 s after ignition.\n",
            "Total Impulse: 3431.136 Ns\n",
            "\n"
          ]
        },
        {
          "output_type": "display_data",
          "data": {
            "text/plain": [
              "<Figure size 640x480 with 1 Axes>"
            ],
            "image/svg+xml": "<?xml version=\"1.0\" encoding=\"utf-8\" standalone=\"no\"?>\n<!DOCTYPE svg PUBLIC \"-//W3C//DTD SVG 1.1//EN\"\n  \"http://www.w3.org/Graphics/SVG/1.1/DTD/svg11.dtd\">\n<svg xmlns:xlink=\"http://www.w3.org/1999/xlink\" width=\"411.285625pt\" height=\"325.986375pt\" viewBox=\"0 0 411.285625 325.986375\" xmlns=\"http://www.w3.org/2000/svg\" version=\"1.1\">\n <metadata>\n  <rdf:RDF xmlns:dc=\"http://purl.org/dc/elements/1.1/\" xmlns:cc=\"http://creativecommons.org/ns#\" xmlns:rdf=\"http://www.w3.org/1999/02/22-rdf-syntax-ns#\">\n   <cc:Work>\n    <dc:type rdf:resource=\"http://purl.org/dc/dcmitype/StillImage\"/>\n    <dc:date>2024-02-02T16:57:55.273922</dc:date>\n    <dc:format>image/svg+xml</dc:format>\n    <dc:creator>\n     <cc:Agent>\n      <dc:title>Matplotlib v3.7.1, https://matplotlib.org/</dc:title>\n     </cc:Agent>\n    </dc:creator>\n   </cc:Work>\n  </rdf:RDF>\n </metadata>\n <defs>\n  <style type=\"text/css\">*{stroke-linejoin: round; stroke-linecap: butt}</style>\n </defs>\n <g id=\"figure_1\">\n  <g id=\"patch_1\">\n   <path d=\"M 0 325.986375 \nL 411.285625 325.986375 \nL 411.285625 0 \nL 0 0 \nz\n\" style=\"fill: #ffffff\"/>\n  </g>\n  <g id=\"axes_1\">\n   <g id=\"patch_2\">\n    <path d=\"M 46.965625 288.430125 \nL 404.085625 288.430125 \nL 404.085625 22.318125 \nL 46.965625 22.318125 \nz\n\" style=\"fill: #ffffff\"/>\n   </g>\n   <g id=\"matplotlib.axis_1\">\n    <g id=\"xtick_1\">\n     <g id=\"line2d_1\">\n      <path d=\"M 63.198352 288.430125 \nL 63.198352 22.318125 \n\" clip-path=\"url(#p468d6794f0)\" style=\"fill: none; stroke: #b0b0b0; stroke-width: 0.8; stroke-linecap: square\"/>\n     </g>\n     <g id=\"line2d_2\">\n      <defs>\n       <path id=\"m2427bea7c3\" d=\"M 0 0 \nL 0 3.5 \n\" style=\"stroke: #000000; stroke-width: 0.8\"/>\n      </defs>\n      <g>\n       <use xlink:href=\"#m2427bea7c3\" x=\"63.198352\" y=\"288.430125\" style=\"stroke: #000000; stroke-width: 0.8\"/>\n      </g>\n     </g>\n     <g id=\"text_1\">\n      <!-- 0 -->\n      <g transform=\"translate(60.017102 303.028562) scale(0.1 -0.1)\">\n       <defs>\n        <path id=\"DejaVuSans-30\" d=\"M 2034 4250 \nQ 1547 4250 1301 3770 \nQ 1056 3291 1056 2328 \nQ 1056 1369 1301 889 \nQ 1547 409 2034 409 \nQ 2525 409 2770 889 \nQ 3016 1369 3016 2328 \nQ 3016 3291 2770 3770 \nQ 2525 4250 2034 4250 \nz\nM 2034 4750 \nQ 2819 4750 3233 4129 \nQ 3647 3509 3647 2328 \nQ 3647 1150 3233 529 \nQ 2819 -91 2034 -91 \nQ 1250 -91 836 529 \nQ 422 1150 422 2328 \nQ 422 3509 836 4129 \nQ 1250 4750 2034 4750 \nz\n\" transform=\"scale(0.015625)\"/>\n       </defs>\n       <use xlink:href=\"#DejaVuSans-30\"/>\n      </g>\n     </g>\n    </g>\n    <g id=\"xtick_2\">\n     <g id=\"line2d_3\">\n      <path d=\"M 124.453927 288.430125 \nL 124.453927 22.318125 \n\" clip-path=\"url(#p468d6794f0)\" style=\"fill: none; stroke: #b0b0b0; stroke-width: 0.8; stroke-linecap: square\"/>\n     </g>\n     <g id=\"line2d_4\">\n      <g>\n       <use xlink:href=\"#m2427bea7c3\" x=\"124.453927\" y=\"288.430125\" style=\"stroke: #000000; stroke-width: 0.8\"/>\n      </g>\n     </g>\n     <g id=\"text_2\">\n      <!-- 1 -->\n      <g transform=\"translate(121.272677 303.028562) scale(0.1 -0.1)\">\n       <defs>\n        <path id=\"DejaVuSans-31\" d=\"M 794 531 \nL 1825 531 \nL 1825 4091 \nL 703 3866 \nL 703 4441 \nL 1819 4666 \nL 2450 4666 \nL 2450 531 \nL 3481 531 \nL 3481 0 \nL 794 0 \nL 794 531 \nz\n\" transform=\"scale(0.015625)\"/>\n       </defs>\n       <use xlink:href=\"#DejaVuSans-31\"/>\n      </g>\n     </g>\n    </g>\n    <g id=\"xtick_3\">\n     <g id=\"line2d_5\">\n      <path d=\"M 185.709502 288.430125 \nL 185.709502 22.318125 \n\" clip-path=\"url(#p468d6794f0)\" style=\"fill: none; stroke: #b0b0b0; stroke-width: 0.8; stroke-linecap: square\"/>\n     </g>\n     <g id=\"line2d_6\">\n      <g>\n       <use xlink:href=\"#m2427bea7c3\" x=\"185.709502\" y=\"288.430125\" style=\"stroke: #000000; stroke-width: 0.8\"/>\n      </g>\n     </g>\n     <g id=\"text_3\">\n      <!-- 2 -->\n      <g transform=\"translate(182.528252 303.028562) scale(0.1 -0.1)\">\n       <defs>\n        <path id=\"DejaVuSans-32\" d=\"M 1228 531 \nL 3431 531 \nL 3431 0 \nL 469 0 \nL 469 531 \nQ 828 903 1448 1529 \nQ 2069 2156 2228 2338 \nQ 2531 2678 2651 2914 \nQ 2772 3150 2772 3378 \nQ 2772 3750 2511 3984 \nQ 2250 4219 1831 4219 \nQ 1534 4219 1204 4116 \nQ 875 4013 500 3803 \nL 500 4441 \nQ 881 4594 1212 4672 \nQ 1544 4750 1819 4750 \nQ 2544 4750 2975 4387 \nQ 3406 4025 3406 3419 \nQ 3406 3131 3298 2873 \nQ 3191 2616 2906 2266 \nQ 2828 2175 2409 1742 \nQ 1991 1309 1228 531 \nz\n\" transform=\"scale(0.015625)\"/>\n       </defs>\n       <use xlink:href=\"#DejaVuSans-32\"/>\n      </g>\n     </g>\n    </g>\n    <g id=\"xtick_4\">\n     <g id=\"line2d_7\">\n      <path d=\"M 246.965076 288.430125 \nL 246.965076 22.318125 \n\" clip-path=\"url(#p468d6794f0)\" style=\"fill: none; stroke: #b0b0b0; stroke-width: 0.8; stroke-linecap: square\"/>\n     </g>\n     <g id=\"line2d_8\">\n      <g>\n       <use xlink:href=\"#m2427bea7c3\" x=\"246.965076\" y=\"288.430125\" style=\"stroke: #000000; stroke-width: 0.8\"/>\n      </g>\n     </g>\n     <g id=\"text_4\">\n      <!-- 3 -->\n      <g transform=\"translate(243.783826 303.028562) scale(0.1 -0.1)\">\n       <defs>\n        <path id=\"DejaVuSans-33\" d=\"M 2597 2516 \nQ 3050 2419 3304 2112 \nQ 3559 1806 3559 1356 \nQ 3559 666 3084 287 \nQ 2609 -91 1734 -91 \nQ 1441 -91 1130 -33 \nQ 819 25 488 141 \nL 488 750 \nQ 750 597 1062 519 \nQ 1375 441 1716 441 \nQ 2309 441 2620 675 \nQ 2931 909 2931 1356 \nQ 2931 1769 2642 2001 \nQ 2353 2234 1838 2234 \nL 1294 2234 \nL 1294 2753 \nL 1863 2753 \nQ 2328 2753 2575 2939 \nQ 2822 3125 2822 3475 \nQ 2822 3834 2567 4026 \nQ 2313 4219 1838 4219 \nQ 1578 4219 1281 4162 \nQ 984 4106 628 3988 \nL 628 4550 \nQ 988 4650 1302 4700 \nQ 1616 4750 1894 4750 \nQ 2613 4750 3031 4423 \nQ 3450 4097 3450 3541 \nQ 3450 3153 3228 2886 \nQ 3006 2619 2597 2516 \nz\n\" transform=\"scale(0.015625)\"/>\n       </defs>\n       <use xlink:href=\"#DejaVuSans-33\"/>\n      </g>\n     </g>\n    </g>\n    <g id=\"xtick_5\">\n     <g id=\"line2d_9\">\n      <path d=\"M 308.220651 288.430125 \nL 308.220651 22.318125 \n\" clip-path=\"url(#p468d6794f0)\" style=\"fill: none; stroke: #b0b0b0; stroke-width: 0.8; stroke-linecap: square\"/>\n     </g>\n     <g id=\"line2d_10\">\n      <g>\n       <use xlink:href=\"#m2427bea7c3\" x=\"308.220651\" y=\"288.430125\" style=\"stroke: #000000; stroke-width: 0.8\"/>\n      </g>\n     </g>\n     <g id=\"text_5\">\n      <!-- 4 -->\n      <g transform=\"translate(305.039401 303.028562) scale(0.1 -0.1)\">\n       <defs>\n        <path id=\"DejaVuSans-34\" d=\"M 2419 4116 \nL 825 1625 \nL 2419 1625 \nL 2419 4116 \nz\nM 2253 4666 \nL 3047 4666 \nL 3047 1625 \nL 3713 1625 \nL 3713 1100 \nL 3047 1100 \nL 3047 0 \nL 2419 0 \nL 2419 1100 \nL 313 1100 \nL 313 1709 \nL 2253 4666 \nz\n\" transform=\"scale(0.015625)\"/>\n       </defs>\n       <use xlink:href=\"#DejaVuSans-34\"/>\n      </g>\n     </g>\n    </g>\n    <g id=\"xtick_6\">\n     <g id=\"line2d_11\">\n      <path d=\"M 369.476225 288.430125 \nL 369.476225 22.318125 \n\" clip-path=\"url(#p468d6794f0)\" style=\"fill: none; stroke: #b0b0b0; stroke-width: 0.8; stroke-linecap: square\"/>\n     </g>\n     <g id=\"line2d_12\">\n      <g>\n       <use xlink:href=\"#m2427bea7c3\" x=\"369.476225\" y=\"288.430125\" style=\"stroke: #000000; stroke-width: 0.8\"/>\n      </g>\n     </g>\n     <g id=\"text_6\">\n      <!-- 5 -->\n      <g transform=\"translate(366.294975 303.028562) scale(0.1 -0.1)\">\n       <defs>\n        <path id=\"DejaVuSans-35\" d=\"M 691 4666 \nL 3169 4666 \nL 3169 4134 \nL 1269 4134 \nL 1269 2991 \nQ 1406 3038 1543 3061 \nQ 1681 3084 1819 3084 \nQ 2600 3084 3056 2656 \nQ 3513 2228 3513 1497 \nQ 3513 744 3044 326 \nQ 2575 -91 1722 -91 \nQ 1428 -91 1123 -41 \nQ 819 9 494 109 \nL 494 744 \nQ 775 591 1075 516 \nQ 1375 441 1709 441 \nQ 2250 441 2565 725 \nQ 2881 1009 2881 1497 \nQ 2881 1984 2565 2268 \nQ 2250 2553 1709 2553 \nQ 1456 2553 1204 2497 \nQ 953 2441 691 2322 \nL 691 4666 \nz\n\" transform=\"scale(0.015625)\"/>\n       </defs>\n       <use xlink:href=\"#DejaVuSans-35\"/>\n      </g>\n     </g>\n    </g>\n    <g id=\"text_7\">\n     <!-- Time (S) -->\n     <g transform=\"translate(204.627188 316.706687) scale(0.1 -0.1)\">\n      <defs>\n       <path id=\"DejaVuSans-54\" d=\"M -19 4666 \nL 3928 4666 \nL 3928 4134 \nL 2272 4134 \nL 2272 0 \nL 1638 0 \nL 1638 4134 \nL -19 4134 \nL -19 4666 \nz\n\" transform=\"scale(0.015625)\"/>\n       <path id=\"DejaVuSans-69\" d=\"M 603 3500 \nL 1178 3500 \nL 1178 0 \nL 603 0 \nL 603 3500 \nz\nM 603 4863 \nL 1178 4863 \nL 1178 4134 \nL 603 4134 \nL 603 4863 \nz\n\" transform=\"scale(0.015625)\"/>\n       <path id=\"DejaVuSans-6d\" d=\"M 3328 2828 \nQ 3544 3216 3844 3400 \nQ 4144 3584 4550 3584 \nQ 5097 3584 5394 3201 \nQ 5691 2819 5691 2113 \nL 5691 0 \nL 5113 0 \nL 5113 2094 \nQ 5113 2597 4934 2840 \nQ 4756 3084 4391 3084 \nQ 3944 3084 3684 2787 \nQ 3425 2491 3425 1978 \nL 3425 0 \nL 2847 0 \nL 2847 2094 \nQ 2847 2600 2669 2842 \nQ 2491 3084 2119 3084 \nQ 1678 3084 1418 2786 \nQ 1159 2488 1159 1978 \nL 1159 0 \nL 581 0 \nL 581 3500 \nL 1159 3500 \nL 1159 2956 \nQ 1356 3278 1631 3431 \nQ 1906 3584 2284 3584 \nQ 2666 3584 2933 3390 \nQ 3200 3197 3328 2828 \nz\n\" transform=\"scale(0.015625)\"/>\n       <path id=\"DejaVuSans-65\" d=\"M 3597 1894 \nL 3597 1613 \nL 953 1613 \nQ 991 1019 1311 708 \nQ 1631 397 2203 397 \nQ 2534 397 2845 478 \nQ 3156 559 3463 722 \nL 3463 178 \nQ 3153 47 2828 -22 \nQ 2503 -91 2169 -91 \nQ 1331 -91 842 396 \nQ 353 884 353 1716 \nQ 353 2575 817 3079 \nQ 1281 3584 2069 3584 \nQ 2775 3584 3186 3129 \nQ 3597 2675 3597 1894 \nz\nM 3022 2063 \nQ 3016 2534 2758 2815 \nQ 2500 3097 2075 3097 \nQ 1594 3097 1305 2825 \nQ 1016 2553 972 2059 \nL 3022 2063 \nz\n\" transform=\"scale(0.015625)\"/>\n       <path id=\"DejaVuSans-20\" transform=\"scale(0.015625)\"/>\n       <path id=\"DejaVuSans-28\" d=\"M 1984 4856 \nQ 1566 4138 1362 3434 \nQ 1159 2731 1159 2009 \nQ 1159 1288 1364 580 \nQ 1569 -128 1984 -844 \nL 1484 -844 \nQ 1016 -109 783 600 \nQ 550 1309 550 2009 \nQ 550 2706 781 3412 \nQ 1013 4119 1484 4856 \nL 1984 4856 \nz\n\" transform=\"scale(0.015625)\"/>\n       <path id=\"DejaVuSans-53\" d=\"M 3425 4513 \nL 3425 3897 \nQ 3066 4069 2747 4153 \nQ 2428 4238 2131 4238 \nQ 1616 4238 1336 4038 \nQ 1056 3838 1056 3469 \nQ 1056 3159 1242 3001 \nQ 1428 2844 1947 2747 \nL 2328 2669 \nQ 3034 2534 3370 2195 \nQ 3706 1856 3706 1288 \nQ 3706 609 3251 259 \nQ 2797 -91 1919 -91 \nQ 1588 -91 1214 -16 \nQ 841 59 441 206 \nL 441 856 \nQ 825 641 1194 531 \nQ 1563 422 1919 422 \nQ 2459 422 2753 634 \nQ 3047 847 3047 1241 \nQ 3047 1584 2836 1778 \nQ 2625 1972 2144 2069 \nL 1759 2144 \nQ 1053 2284 737 2584 \nQ 422 2884 422 3419 \nQ 422 4038 858 4394 \nQ 1294 4750 2059 4750 \nQ 2388 4750 2728 4690 \nQ 3069 4631 3425 4513 \nz\n\" transform=\"scale(0.015625)\"/>\n       <path id=\"DejaVuSans-29\" d=\"M 513 4856 \nL 1013 4856 \nQ 1481 4119 1714 3412 \nQ 1947 2706 1947 2009 \nQ 1947 1309 1714 600 \nQ 1481 -109 1013 -844 \nL 513 -844 \nQ 928 -128 1133 580 \nQ 1338 1288 1338 2009 \nQ 1338 2731 1133 3434 \nQ 928 4138 513 4856 \nz\n\" transform=\"scale(0.015625)\"/>\n      </defs>\n      <use xlink:href=\"#DejaVuSans-54\"/>\n      <use xlink:href=\"#DejaVuSans-69\" x=\"57.958984\"/>\n      <use xlink:href=\"#DejaVuSans-6d\" x=\"85.742188\"/>\n      <use xlink:href=\"#DejaVuSans-65\" x=\"183.154297\"/>\n      <use xlink:href=\"#DejaVuSans-20\" x=\"244.677734\"/>\n      <use xlink:href=\"#DejaVuSans-28\" x=\"276.464844\"/>\n      <use xlink:href=\"#DejaVuSans-53\" x=\"315.478516\"/>\n      <use xlink:href=\"#DejaVuSans-29\" x=\"378.955078\"/>\n     </g>\n    </g>\n   </g>\n   <g id=\"matplotlib.axis_2\">\n    <g id=\"ytick_1\">\n     <g id=\"line2d_13\">\n      <path d=\"M 46.965625 276.334125 \nL 404.085625 276.334125 \n\" clip-path=\"url(#p468d6794f0)\" style=\"fill: none; stroke: #b0b0b0; stroke-width: 0.8; stroke-linecap: square\"/>\n     </g>\n     <g id=\"line2d_14\">\n      <defs>\n       <path id=\"mac85d9158a\" d=\"M 0 0 \nL -3.5 0 \n\" style=\"stroke: #000000; stroke-width: 0.8\"/>\n      </defs>\n      <g>\n       <use xlink:href=\"#mac85d9158a\" x=\"46.965625\" y=\"276.334125\" style=\"stroke: #000000; stroke-width: 0.8\"/>\n      </g>\n     </g>\n     <g id=\"text_8\">\n      <!-- 0 -->\n      <g transform=\"translate(33.603125 280.133344) scale(0.1 -0.1)\">\n       <use xlink:href=\"#DejaVuSans-30\"/>\n      </g>\n     </g>\n    </g>\n    <g id=\"ytick_2\">\n     <g id=\"line2d_15\">\n      <path d=\"M 46.965625 244.708257 \nL 404.085625 244.708257 \n\" clip-path=\"url(#p468d6794f0)\" style=\"fill: none; stroke: #b0b0b0; stroke-width: 0.8; stroke-linecap: square\"/>\n     </g>\n     <g id=\"line2d_16\">\n      <g>\n       <use xlink:href=\"#mac85d9158a\" x=\"46.965625\" y=\"244.708257\" style=\"stroke: #000000; stroke-width: 0.8\"/>\n      </g>\n     </g>\n     <g id=\"text_9\">\n      <!-- 100 -->\n      <g transform=\"translate(20.878125 248.507476) scale(0.1 -0.1)\">\n       <use xlink:href=\"#DejaVuSans-31\"/>\n       <use xlink:href=\"#DejaVuSans-30\" x=\"63.623047\"/>\n       <use xlink:href=\"#DejaVuSans-30\" x=\"127.246094\"/>\n      </g>\n     </g>\n    </g>\n    <g id=\"ytick_3\">\n     <g id=\"line2d_17\">\n      <path d=\"M 46.965625 213.082389 \nL 404.085625 213.082389 \n\" clip-path=\"url(#p468d6794f0)\" style=\"fill: none; stroke: #b0b0b0; stroke-width: 0.8; stroke-linecap: square\"/>\n     </g>\n     <g id=\"line2d_18\">\n      <g>\n       <use xlink:href=\"#mac85d9158a\" x=\"46.965625\" y=\"213.082389\" style=\"stroke: #000000; stroke-width: 0.8\"/>\n      </g>\n     </g>\n     <g id=\"text_10\">\n      <!-- 200 -->\n      <g transform=\"translate(20.878125 216.881608) scale(0.1 -0.1)\">\n       <use xlink:href=\"#DejaVuSans-32\"/>\n       <use xlink:href=\"#DejaVuSans-30\" x=\"63.623047\"/>\n       <use xlink:href=\"#DejaVuSans-30\" x=\"127.246094\"/>\n      </g>\n     </g>\n    </g>\n    <g id=\"ytick_4\">\n     <g id=\"line2d_19\">\n      <path d=\"M 46.965625 181.456521 \nL 404.085625 181.456521 \n\" clip-path=\"url(#p468d6794f0)\" style=\"fill: none; stroke: #b0b0b0; stroke-width: 0.8; stroke-linecap: square\"/>\n     </g>\n     <g id=\"line2d_20\">\n      <g>\n       <use xlink:href=\"#mac85d9158a\" x=\"46.965625\" y=\"181.456521\" style=\"stroke: #000000; stroke-width: 0.8\"/>\n      </g>\n     </g>\n     <g id=\"text_11\">\n      <!-- 300 -->\n      <g transform=\"translate(20.878125 185.25574) scale(0.1 -0.1)\">\n       <use xlink:href=\"#DejaVuSans-33\"/>\n       <use xlink:href=\"#DejaVuSans-30\" x=\"63.623047\"/>\n       <use xlink:href=\"#DejaVuSans-30\" x=\"127.246094\"/>\n      </g>\n     </g>\n    </g>\n    <g id=\"ytick_5\">\n     <g id=\"line2d_21\">\n      <path d=\"M 46.965625 149.830653 \nL 404.085625 149.830653 \n\" clip-path=\"url(#p468d6794f0)\" style=\"fill: none; stroke: #b0b0b0; stroke-width: 0.8; stroke-linecap: square\"/>\n     </g>\n     <g id=\"line2d_22\">\n      <g>\n       <use xlink:href=\"#mac85d9158a\" x=\"46.965625\" y=\"149.830653\" style=\"stroke: #000000; stroke-width: 0.8\"/>\n      </g>\n     </g>\n     <g id=\"text_12\">\n      <!-- 400 -->\n      <g transform=\"translate(20.878125 153.629871) scale(0.1 -0.1)\">\n       <use xlink:href=\"#DejaVuSans-34\"/>\n       <use xlink:href=\"#DejaVuSans-30\" x=\"63.623047\"/>\n       <use xlink:href=\"#DejaVuSans-30\" x=\"127.246094\"/>\n      </g>\n     </g>\n    </g>\n    <g id=\"ytick_6\">\n     <g id=\"line2d_23\">\n      <path d=\"M 46.965625 118.204785 \nL 404.085625 118.204785 \n\" clip-path=\"url(#p468d6794f0)\" style=\"fill: none; stroke: #b0b0b0; stroke-width: 0.8; stroke-linecap: square\"/>\n     </g>\n     <g id=\"line2d_24\">\n      <g>\n       <use xlink:href=\"#mac85d9158a\" x=\"46.965625\" y=\"118.204785\" style=\"stroke: #000000; stroke-width: 0.8\"/>\n      </g>\n     </g>\n     <g id=\"text_13\">\n      <!-- 500 -->\n      <g transform=\"translate(20.878125 122.004003) scale(0.1 -0.1)\">\n       <use xlink:href=\"#DejaVuSans-35\"/>\n       <use xlink:href=\"#DejaVuSans-30\" x=\"63.623047\"/>\n       <use xlink:href=\"#DejaVuSans-30\" x=\"127.246094\"/>\n      </g>\n     </g>\n    </g>\n    <g id=\"ytick_7\">\n     <g id=\"line2d_25\">\n      <path d=\"M 46.965625 86.578917 \nL 404.085625 86.578917 \n\" clip-path=\"url(#p468d6794f0)\" style=\"fill: none; stroke: #b0b0b0; stroke-width: 0.8; stroke-linecap: square\"/>\n     </g>\n     <g id=\"line2d_26\">\n      <g>\n       <use xlink:href=\"#mac85d9158a\" x=\"46.965625\" y=\"86.578917\" style=\"stroke: #000000; stroke-width: 0.8\"/>\n      </g>\n     </g>\n     <g id=\"text_14\">\n      <!-- 600 -->\n      <g transform=\"translate(20.878125 90.378135) scale(0.1 -0.1)\">\n       <defs>\n        <path id=\"DejaVuSans-36\" d=\"M 2113 2584 \nQ 1688 2584 1439 2293 \nQ 1191 2003 1191 1497 \nQ 1191 994 1439 701 \nQ 1688 409 2113 409 \nQ 2538 409 2786 701 \nQ 3034 994 3034 1497 \nQ 3034 2003 2786 2293 \nQ 2538 2584 2113 2584 \nz\nM 3366 4563 \nL 3366 3988 \nQ 3128 4100 2886 4159 \nQ 2644 4219 2406 4219 \nQ 1781 4219 1451 3797 \nQ 1122 3375 1075 2522 \nQ 1259 2794 1537 2939 \nQ 1816 3084 2150 3084 \nQ 2853 3084 3261 2657 \nQ 3669 2231 3669 1497 \nQ 3669 778 3244 343 \nQ 2819 -91 2113 -91 \nQ 1303 -91 875 529 \nQ 447 1150 447 2328 \nQ 447 3434 972 4092 \nQ 1497 4750 2381 4750 \nQ 2619 4750 2861 4703 \nQ 3103 4656 3366 4563 \nz\n\" transform=\"scale(0.015625)\"/>\n       </defs>\n       <use xlink:href=\"#DejaVuSans-36\"/>\n       <use xlink:href=\"#DejaVuSans-30\" x=\"63.623047\"/>\n       <use xlink:href=\"#DejaVuSans-30\" x=\"127.246094\"/>\n      </g>\n     </g>\n    </g>\n    <g id=\"ytick_8\">\n     <g id=\"line2d_27\">\n      <path d=\"M 46.965625 54.953049 \nL 404.085625 54.953049 \n\" clip-path=\"url(#p468d6794f0)\" style=\"fill: none; stroke: #b0b0b0; stroke-width: 0.8; stroke-linecap: square\"/>\n     </g>\n     <g id=\"line2d_28\">\n      <g>\n       <use xlink:href=\"#mac85d9158a\" x=\"46.965625\" y=\"54.953049\" style=\"stroke: #000000; stroke-width: 0.8\"/>\n      </g>\n     </g>\n     <g id=\"text_15\">\n      <!-- 700 -->\n      <g transform=\"translate(20.878125 58.752267) scale(0.1 -0.1)\">\n       <defs>\n        <path id=\"DejaVuSans-37\" d=\"M 525 4666 \nL 3525 4666 \nL 3525 4397 \nL 1831 0 \nL 1172 0 \nL 2766 4134 \nL 525 4134 \nL 525 4666 \nz\n\" transform=\"scale(0.015625)\"/>\n       </defs>\n       <use xlink:href=\"#DejaVuSans-37\"/>\n       <use xlink:href=\"#DejaVuSans-30\" x=\"63.623047\"/>\n       <use xlink:href=\"#DejaVuSans-30\" x=\"127.246094\"/>\n      </g>\n     </g>\n    </g>\n    <g id=\"ytick_9\">\n     <g id=\"line2d_29\">\n      <path d=\"M 46.965625 23.32718 \nL 404.085625 23.32718 \n\" clip-path=\"url(#p468d6794f0)\" style=\"fill: none; stroke: #b0b0b0; stroke-width: 0.8; stroke-linecap: square\"/>\n     </g>\n     <g id=\"line2d_30\">\n      <g>\n       <use xlink:href=\"#mac85d9158a\" x=\"46.965625\" y=\"23.32718\" style=\"stroke: #000000; stroke-width: 0.8\"/>\n      </g>\n     </g>\n     <g id=\"text_16\">\n      <!-- 800 -->\n      <g transform=\"translate(20.878125 27.126399) scale(0.1 -0.1)\">\n       <defs>\n        <path id=\"DejaVuSans-38\" d=\"M 2034 2216 \nQ 1584 2216 1326 1975 \nQ 1069 1734 1069 1313 \nQ 1069 891 1326 650 \nQ 1584 409 2034 409 \nQ 2484 409 2743 651 \nQ 3003 894 3003 1313 \nQ 3003 1734 2745 1975 \nQ 2488 2216 2034 2216 \nz\nM 1403 2484 \nQ 997 2584 770 2862 \nQ 544 3141 544 3541 \nQ 544 4100 942 4425 \nQ 1341 4750 2034 4750 \nQ 2731 4750 3128 4425 \nQ 3525 4100 3525 3541 \nQ 3525 3141 3298 2862 \nQ 3072 2584 2669 2484 \nQ 3125 2378 3379 2068 \nQ 3634 1759 3634 1313 \nQ 3634 634 3220 271 \nQ 2806 -91 2034 -91 \nQ 1263 -91 848 271 \nQ 434 634 434 1313 \nQ 434 1759 690 2068 \nQ 947 2378 1403 2484 \nz\nM 1172 3481 \nQ 1172 3119 1398 2916 \nQ 1625 2713 2034 2713 \nQ 2441 2713 2670 2916 \nQ 2900 3119 2900 3481 \nQ 2900 3844 2670 4047 \nQ 2441 4250 2034 4250 \nQ 1625 4250 1398 4047 \nQ 1172 3844 1172 3481 \nz\n\" transform=\"scale(0.015625)\"/>\n       </defs>\n       <use xlink:href=\"#DejaVuSans-38\"/>\n       <use xlink:href=\"#DejaVuSans-30\" x=\"63.623047\"/>\n       <use xlink:href=\"#DejaVuSans-30\" x=\"127.246094\"/>\n      </g>\n     </g>\n    </g>\n    <g id=\"text_17\">\n     <!-- Thrust (N) -->\n     <g transform=\"translate(14.798438 180.617094) rotate(-90) scale(0.1 -0.1)\">\n      <defs>\n       <path id=\"DejaVuSans-68\" d=\"M 3513 2113 \nL 3513 0 \nL 2938 0 \nL 2938 2094 \nQ 2938 2591 2744 2837 \nQ 2550 3084 2163 3084 \nQ 1697 3084 1428 2787 \nQ 1159 2491 1159 1978 \nL 1159 0 \nL 581 0 \nL 581 4863 \nL 1159 4863 \nL 1159 2956 \nQ 1366 3272 1645 3428 \nQ 1925 3584 2291 3584 \nQ 2894 3584 3203 3211 \nQ 3513 2838 3513 2113 \nz\n\" transform=\"scale(0.015625)\"/>\n       <path id=\"DejaVuSans-72\" d=\"M 2631 2963 \nQ 2534 3019 2420 3045 \nQ 2306 3072 2169 3072 \nQ 1681 3072 1420 2755 \nQ 1159 2438 1159 1844 \nL 1159 0 \nL 581 0 \nL 581 3500 \nL 1159 3500 \nL 1159 2956 \nQ 1341 3275 1631 3429 \nQ 1922 3584 2338 3584 \nQ 2397 3584 2469 3576 \nQ 2541 3569 2628 3553 \nL 2631 2963 \nz\n\" transform=\"scale(0.015625)\"/>\n       <path id=\"DejaVuSans-75\" d=\"M 544 1381 \nL 544 3500 \nL 1119 3500 \nL 1119 1403 \nQ 1119 906 1312 657 \nQ 1506 409 1894 409 \nQ 2359 409 2629 706 \nQ 2900 1003 2900 1516 \nL 2900 3500 \nL 3475 3500 \nL 3475 0 \nL 2900 0 \nL 2900 538 \nQ 2691 219 2414 64 \nQ 2138 -91 1772 -91 \nQ 1169 -91 856 284 \nQ 544 659 544 1381 \nz\nM 1991 3584 \nL 1991 3584 \nz\n\" transform=\"scale(0.015625)\"/>\n       <path id=\"DejaVuSans-73\" d=\"M 2834 3397 \nL 2834 2853 \nQ 2591 2978 2328 3040 \nQ 2066 3103 1784 3103 \nQ 1356 3103 1142 2972 \nQ 928 2841 928 2578 \nQ 928 2378 1081 2264 \nQ 1234 2150 1697 2047 \nL 1894 2003 \nQ 2506 1872 2764 1633 \nQ 3022 1394 3022 966 \nQ 3022 478 2636 193 \nQ 2250 -91 1575 -91 \nQ 1294 -91 989 -36 \nQ 684 19 347 128 \nL 347 722 \nQ 666 556 975 473 \nQ 1284 391 1588 391 \nQ 1994 391 2212 530 \nQ 2431 669 2431 922 \nQ 2431 1156 2273 1281 \nQ 2116 1406 1581 1522 \nL 1381 1569 \nQ 847 1681 609 1914 \nQ 372 2147 372 2553 \nQ 372 3047 722 3315 \nQ 1072 3584 1716 3584 \nQ 2034 3584 2315 3537 \nQ 2597 3491 2834 3397 \nz\n\" transform=\"scale(0.015625)\"/>\n       <path id=\"DejaVuSans-74\" d=\"M 1172 4494 \nL 1172 3500 \nL 2356 3500 \nL 2356 3053 \nL 1172 3053 \nL 1172 1153 \nQ 1172 725 1289 603 \nQ 1406 481 1766 481 \nL 2356 481 \nL 2356 0 \nL 1766 0 \nQ 1100 0 847 248 \nQ 594 497 594 1153 \nL 594 3053 \nL 172 3053 \nL 172 3500 \nL 594 3500 \nL 594 4494 \nL 1172 4494 \nz\n\" transform=\"scale(0.015625)\"/>\n       <path id=\"DejaVuSans-4e\" d=\"M 628 4666 \nL 1478 4666 \nL 3547 763 \nL 3547 4666 \nL 4159 4666 \nL 4159 0 \nL 3309 0 \nL 1241 3903 \nL 1241 0 \nL 628 0 \nL 628 4666 \nz\n\" transform=\"scale(0.015625)\"/>\n      </defs>\n      <use xlink:href=\"#DejaVuSans-54\"/>\n      <use xlink:href=\"#DejaVuSans-68\" x=\"61.083984\"/>\n      <use xlink:href=\"#DejaVuSans-72\" x=\"124.462891\"/>\n      <use xlink:href=\"#DejaVuSans-75\" x=\"165.576172\"/>\n      <use xlink:href=\"#DejaVuSans-73\" x=\"228.955078\"/>\n      <use xlink:href=\"#DejaVuSans-74\" x=\"281.054688\"/>\n      <use xlink:href=\"#DejaVuSans-20\" x=\"320.263672\"/>\n      <use xlink:href=\"#DejaVuSans-28\" x=\"352.050781\"/>\n      <use xlink:href=\"#DejaVuSans-4e\" x=\"391.064453\"/>\n      <use xlink:href=\"#DejaVuSans-29\" x=\"465.869141\"/>\n     </g>\n    </g>\n   </g>\n   <g id=\"line2d_31\">\n    <path d=\"M 63.198352 276.334125 \nL 66.123168 121.932198 \nL 66.448148 112.768588 \nL 70.672881 71.337352 \nL 78.797369 58.489163 \nL 79.122349 58.393919 \nL 89.521694 59.787018 \nL 160.042251 42.892491 \nL 188.315469 34.414125 \nL 190.590326 35.278361 \nL 252.661415 59.288638 \nL 342.355764 86.225684 \nL 354.380007 102.174422 \nL 355.029966 103.921008 \nL 368.679106 146.518153 \nL 386.877959 255.095292 \nL 387.852898 258.286838 \nL 387.852898 258.286838 \n\" clip-path=\"url(#p468d6794f0)\" style=\"fill: none; stroke: #1f77b4; stroke-width: 1.5; stroke-linecap: square\"/>\n   </g>\n   <g id=\"patch_3\">\n    <path d=\"M 46.965625 288.430125 \nL 46.965625 22.318125 \n\" style=\"fill: none; stroke: #000000; stroke-width: 0.8; stroke-linejoin: miter; stroke-linecap: square\"/>\n   </g>\n   <g id=\"patch_4\">\n    <path d=\"M 404.085625 288.430125 \nL 404.085625 22.318125 \n\" style=\"fill: none; stroke: #000000; stroke-width: 0.8; stroke-linejoin: miter; stroke-linecap: square\"/>\n   </g>\n   <g id=\"patch_5\">\n    <path d=\"M 46.965625 288.430125 \nL 404.085625 288.430125 \n\" style=\"fill: none; stroke: #000000; stroke-width: 0.8; stroke-linejoin: miter; stroke-linecap: square\"/>\n   </g>\n   <g id=\"patch_6\">\n    <path d=\"M 46.965625 22.318125 \nL 404.085625 22.318125 \n\" style=\"fill: none; stroke: #000000; stroke-width: 0.8; stroke-linejoin: miter; stroke-linecap: square\"/>\n   </g>\n   <g id=\"text_18\">\n    <!-- Thrust (N) x Time (S) -->\n    <g transform=\"translate(162.790938 16.318125) scale(0.12 -0.12)\">\n     <defs>\n      <path id=\"DejaVuSans-78\" d=\"M 3513 3500 \nL 2247 1797 \nL 3578 0 \nL 2900 0 \nL 1881 1375 \nL 863 0 \nL 184 0 \nL 1544 1831 \nL 300 3500 \nL 978 3500 \nL 1906 2253 \nL 2834 3500 \nL 3513 3500 \nz\n\" transform=\"scale(0.015625)\"/>\n     </defs>\n     <use xlink:href=\"#DejaVuSans-54\"/>\n     <use xlink:href=\"#DejaVuSans-68\" x=\"61.083984\"/>\n     <use xlink:href=\"#DejaVuSans-72\" x=\"124.462891\"/>\n     <use xlink:href=\"#DejaVuSans-75\" x=\"165.576172\"/>\n     <use xlink:href=\"#DejaVuSans-73\" x=\"228.955078\"/>\n     <use xlink:href=\"#DejaVuSans-74\" x=\"281.054688\"/>\n     <use xlink:href=\"#DejaVuSans-20\" x=\"320.263672\"/>\n     <use xlink:href=\"#DejaVuSans-28\" x=\"352.050781\"/>\n     <use xlink:href=\"#DejaVuSans-4e\" x=\"391.064453\"/>\n     <use xlink:href=\"#DejaVuSans-29\" x=\"465.869141\"/>\n     <use xlink:href=\"#DejaVuSans-20\" x=\"504.882812\"/>\n     <use xlink:href=\"#DejaVuSans-78\" x=\"536.669922\"/>\n     <use xlink:href=\"#DejaVuSans-20\" x=\"595.849609\"/>\n     <use xlink:href=\"#DejaVuSans-54\" x=\"627.636719\"/>\n     <use xlink:href=\"#DejaVuSans-69\" x=\"685.595703\"/>\n     <use xlink:href=\"#DejaVuSans-6d\" x=\"713.378906\"/>\n     <use xlink:href=\"#DejaVuSans-65\" x=\"810.791016\"/>\n     <use xlink:href=\"#DejaVuSans-20\" x=\"872.314453\"/>\n     <use xlink:href=\"#DejaVuSans-28\" x=\"904.101562\"/>\n     <use xlink:href=\"#DejaVuSans-53\" x=\"943.115234\"/>\n     <use xlink:href=\"#DejaVuSans-29\" x=\"1006.591797\"/>\n    </g>\n   </g>\n  </g>\n </g>\n <defs>\n  <clipPath id=\"p468d6794f0\">\n   <rect x=\"46.965625\" y=\"22.318125\" width=\"357.12\" height=\"266.112\"/>\n  </clipPath>\n </defs>\n</svg>\n"
          },
          "metadata": {}
        }
      ],
      "source": [
        "PRO75L645.info()"
      ]
    },
    {
      "cell_type": "markdown",
      "metadata": {
        "id": "kN7y1EwLNVFf"
      },
      "source": [
        "### Creating a Rocket\n"
      ]
    },
    {
      "cell_type": "markdown",
      "metadata": {
        "id": "_Ee-0vb5NVFg"
      },
      "source": [
        "A rocket is composed of several components. Namely, we must have a motor (good thing we have the Pro75M1670 ready), a couple of aerodynamic surfaces (nose cone, fins and tail) and parachutes (if we are not launching a missile).\n",
        "\n",
        "You can find more information about the `Rocket` class in the [Rocket Class Usage Docs](https://docs.rocketpy.org/en/latest/user/rocket.html).\n",
        "\n",
        "Let's start by initializing our rocket, named Calisto, entering inertia properties, some dimensions and drag curves.\n",
        "\n",
        "**Pay special attention to *position* related parameters:**\n",
        "More details on [Positions and Coordinate Systems](https://docs.rocketpy.org/en/latest/user/positions.html)\n",
        "\n"
      ]
    },
    {
      "cell_type": "code",
      "execution_count": 3,
      "metadata": {
        "id": "D1fyK8u_NVFh",
        "colab": {
          "base_uri": "https://localhost:8080/",
          "height": 246
        },
        "outputId": "9d02e535-881b-451e-d07d-0e2cfdf2047c"
      },
      "outputs": [
        {
          "output_type": "error",
          "ename": "NameError",
          "evalue": "name 'Rocket' is not defined",
          "traceback": [
            "\u001b[0;31m---------------------------------------------------------------------------\u001b[0m",
            "\u001b[0;31mNameError\u001b[0m                                 Traceback (most recent call last)",
            "\u001b[0;32m<ipython-input-3-654ff004ea27>\u001b[0m in \u001b[0;36m<cell line: 1>\u001b[0;34m()\u001b[0m\n\u001b[0;32m----> 1\u001b[0;31m tempName = Rocket(\n\u001b[0m\u001b[1;32m      2\u001b[0m     \u001b[0mradius\u001b[0m \u001b[0;34m=\u001b[0m \u001b[0;36m10.2\u001b[0m \u001b[0;34m/\u001b[0m \u001b[0;36m200\u001b[0m\u001b[0;34m,\u001b[0m\u001b[0;34m\u001b[0m\u001b[0;34m\u001b[0m\u001b[0m\n\u001b[1;32m      3\u001b[0m     \u001b[0mmass\u001b[0m \u001b[0;34m=\u001b[0m \u001b[0;36m3.944\u001b[0m\u001b[0;34m,\u001b[0m\u001b[0;34m\u001b[0m\u001b[0;34m\u001b[0m\u001b[0m\n\u001b[1;32m      4\u001b[0m     \u001b[0minertia\u001b[0m\u001b[0;34m=\u001b[0m\u001b[0;34m(\u001b[0m\u001b[0;36m7.42\u001b[0m\u001b[0;34m,\u001b[0m \u001b[0;36m7.42\u001b[0m\u001b[0;34m,\u001b[0m \u001b[0;36m0.01\u001b[0m\u001b[0;34m)\u001b[0m\u001b[0;34m,\u001b[0m\u001b[0;34m\u001b[0m\u001b[0;34m\u001b[0m\u001b[0m\n\u001b[1;32m      5\u001b[0m     \u001b[0mpower_off_drag\u001b[0m\u001b[0;34m=\u001b[0m\u001b[0;34m\"/content/CD Power Off 03-02-2024.CSV\"\u001b[0m\u001b[0;34m,\u001b[0m\u001b[0;34m\u001b[0m\u001b[0;34m\u001b[0m\u001b[0m\n",
            "\u001b[0;31mNameError\u001b[0m: name 'Rocket' is not defined"
          ]
        }
      ],
      "source": [
        "tempName = Rocket(\n",
        "    radius = 10.2 / 200,\n",
        "    mass = 3.944,\n",
        "    inertia=(7.42, 7.42, 0.01),\n",
        "    power_off_drag=\"/content/CD Power Off 03-02-2024.CSV\",\n",
        "    power_on_drag=\"/content/CD Power On 03-02-2024.CSV\",\n",
        "    center_of_mass_without_motor=89.3 / 100,\n",
        "    coordinate_system_orientation=\"nose_to_tail\",\n",
        ")\n",
        "\n",
        "'''\n",
        "rail_buttons = calisto.set_rail_buttons(\n",
        "    upper_button_position=0.0818,\n",
        "   lower_button_position=-0.618,\n",
        "    angular_position=45,\n",
        ")\n",
        "'''"
      ]
    },
    {
      "cell_type": "markdown",
      "metadata": {
        "id": "iGvahUdcBWSN"
      },
      "source": [
        "To add the motor to our rocket we need only inform what motor we are adding (Pro75M1670) and inform the position, in meters, of the motor's nozzle exit area relative to the previously defined coordinate system.\n"
      ]
    },
    {
      "cell_type": "code",
      "execution_count": null,
      "metadata": {
        "id": "VSbFbka_BWSN"
      },
      "outputs": [],
      "source": [
        "tempName.add_motor(PRO75L645, position=-1.255)"
      ]
    },
    {
      "cell_type": "markdown",
      "metadata": {
        "id": "CfOfqmroNVFk"
      },
      "source": [
        "#### Adding Aerodynamic Surfaces\n"
      ]
    },
    {
      "cell_type": "markdown",
      "metadata": {
        "id": "LuUdEmWhNVFl"
      },
      "source": [
        "Now we define the aerodynamic surfaces. They are really straight forward with special attention needed only for the position values. Here is a quick guide:\n",
        "\n",
        "- The positions given **must** be relative to the same coordinate system as the rockets;\n",
        "- Position of the Nosecone refers to the tip of the nose;\n",
        "- Position of fins refers to the point belonging to the root chord which is highest in the rocket coordinate system;\n",
        "- Position of the tail the point belonging to the tail which is highest in the rocket coordinate system.\n",
        "\n",
        "See more details in [Positions and Coordinate Systems](https://docs.rocketpy.org/en/latest/user/positions.html)"
      ]
    },
    {
      "cell_type": "code",
      "execution_count": null,
      "metadata": {
        "id": "AQbv244VNVFm"
      },
      "outputs": [],
      "source": [
        "nose_cone = calisto.add_nose(\n",
        "    length=0.484, kind=\"lvhaack\", position=0\n",
        ")\n",
        "\n",
        "fin_set = calisto.add_trapezoidal_fins(\n",
        "    n=3,\n",
        "    root_chord=0.175,\n",
        "    tip_chord=0.1,\n",
        "    span=0.15,\n",
        "    position=-1.48,\n",
        "    cant_angle=0,\n",
        "    airfoil=(\"\"),\n",
        ")\n",
        "\n",
        "tail = calisto.add_tail(\n",
        "    top_radius=0.106, bottom_radius=0.008, length=0.070, position=-1.66"
      ]
    },
    {
      "cell_type": "markdown",
      "metadata": {
        "id": "OT5rYWkEBWSO"
      },
      "source": [
        "To see all information regarding the rocket we just defined we run:\n"
      ]
    },
    {
      "cell_type": "code",
      "execution_count": null,
      "metadata": {
        "id": "HBDqSUzhBWSO"
      },
      "outputs": [],
      "source": [
        "calisto.all_info()"
      ]
    },
    {
      "cell_type": "markdown",
      "metadata": {
        "id": "D8oKc7s2NVFp"
      },
      "source": [
        "#### Adding Parachutes\n"
      ]
    },
    {
      "cell_type": "markdown",
      "metadata": {
        "id": "IxAX61ZENVFq"
      },
      "source": [
        "Finally, we have parachutes! Calisto will have two parachutes, Drogue and Main. The Drogue parachute will open at apogee while the Main parachute will open at 800m above ground level\n",
        "\n",
        "For more details see [Adding Parachutes](https://docs.rocketpy.org/en/latest/user/rocket.html#adding-parachutes)"
      ]
    },
    {
      "cell_type": "code",
      "execution_count": null,
      "metadata": {
        "id": "f0PmLcF8NVFr"
      },
      "outputs": [],
      "source": [
        "Main = calisto.add_parachute(\n",
        "    \"Main\",\n",
        "    cd_s=10.0,\n",
        "    trigger=200,\n",
        "    sampling_rate=105,\n",
        "    lag=1.5,\n",
        "    noise=(0, 8.3, 0.5),\n",
        ")\n",
        "\n",
        "Drogue = calisto.add_parachute(\n",
        "    \"Drogue\",\n",
        "    cd_s=1.0,\n",
        "    trigger=\"apogee\",\n",
        "    sampling_rate=105,\n",
        "    lag=1.5,\n",
        "    noise=(0, 8.3, 0.5),\n",
        ")"
      ]
    },
    {
      "cell_type": "markdown",
      "metadata": {
        "id": "xIoXe33FNVFv"
      },
      "source": [
        "Just be careful if you run this last cell multiple times! If you do so, your rocket will end up with lots of parachutes which activate together, which may cause problems during the flight simulation. We advise you to re-run all cells which define our rocket before running this, preventing unwanted old parachutes. Alternatively, you can run the following lines to remove parachutes.\n",
        "\n",
        "```python\n",
        "Calisto.parachutes.remove(Drogue)\n",
        "Calisto.parachutes.remove(Main)\n",
        "```\n"
      ]
    },
    {
      "cell_type": "markdown",
      "metadata": {
        "id": "4PR0fgSbNVFw"
      },
      "source": [
        "## Simulating a Flight\n",
        "\n",
        "Simulating a flight trajectory is as simple as initializing a Flight class object givin the rocket and environnement set up above as inputs. The launch rail inclination and heading are also given here.\n"
      ]
    },
    {
      "cell_type": "code",
      "execution_count": null,
      "metadata": {
        "id": "v__Ud2p2NVFx"
      },
      "outputs": [],
      "source": [
        "test_flight = Flight(\n",
        "    rocket=calisto, environment=env, rail_length=5.2, inclination=85, heading=0\n",
        ")"
      ]
    },
    {
      "cell_type": "markdown",
      "metadata": {
        "id": "8SjrGQqzNVF0"
      },
      "source": [
        "## Analyzing the Results\n",
        "\n",
        "RocketPy gives you many plots, thats for sure! They are divided into sections to keep them organized. Alternatively, see the Flight class documentation to see how to get plots for specific variables only, instead of all of them at once.\n"
      ]
    },
    {
      "cell_type": "code",
      "execution_count": null,
      "metadata": {
        "id": "Hh4A_RQzNVF0",
        "scrolled": false
      },
      "outputs": [],
      "source": [
        "test_flight.all_info()"
      ]
    },
    {
      "cell_type": "markdown",
      "metadata": {
        "id": "o6hvdxKhBWSU"
      },
      "source": [
        "Export Flight Trajectory to a .kml file so it can be opened on Google Earth\n"
      ]
    },
    {
      "cell_type": "code",
      "execution_count": null,
      "metadata": {
        "id": "fGTEvymGBWSV"
      },
      "outputs": [],
      "source": [
        "test_flight.export_kml(\n",
        "    file_name=\"trajectory.kml\",\n",
        "    extrude=True,\n",
        "    altitude_mode=\"relative_to_ground\",\n",
        ")"
      ]
    },
    {
      "cell_type": "markdown",
      "metadata": {
        "id": "Aun9D2OINVF4"
      },
      "source": [
        "## Using Simulation for Design\n",
        "\n",
        "Here, we go through a couple of examples which make use of RocketPy in cool ways to help us design our rocket.\n"
      ]
    },
    {
      "cell_type": "markdown",
      "metadata": {
        "id": "B0DDqW1BBWSV"
      },
      "source": [
        "### Apogee as a Function of Mass\n",
        "\n",
        "This one is a classic one! We always need to know how much our rocket's apogee will change when our payload gets heavier.\n"
      ]
    },
    {
      "cell_type": "code",
      "execution_count": null,
      "metadata": {
        "id": "iO4FFF53BWSV"
      },
      "outputs": [],
      "source": [
        "from rocketpy.utilities import apogee_by_mass\n",
        "\n",
        "apogee_by_mass(flight=test_flight, min_mass=5, max_mass=20, points=10, plot=True)"
      ]
    },
    {
      "cell_type": "markdown",
      "metadata": {
        "id": "b-EAhDraBWSV"
      },
      "source": [
        "### Out of Rail Speed as a Function of Mass\n",
        "\n",
        "Lets make a really important plot. Out of rail speed is the speed our rocket has when it is leaving the launch rail. This is crucial to make sure it can fly safely after leaving the rail. A common rule of thumb is that our rocket's out of rail speed should be 4 times the wind speed so that it does not stall and become unstable.\n"
      ]
    },
    {
      "cell_type": "code",
      "execution_count": null,
      "metadata": {
        "id": "GVn56hKDBWSV"
      },
      "outputs": [],
      "source": [
        "from rocketpy.utilities import liftoff_speed_by_mass\n",
        "\n",
        "liftoff_speed_by_mass(flight=test_flight, min_mass=5, max_mass=20, points=10, plot=True)"
      ]
    },
    {
      "cell_type": "markdown",
      "metadata": {
        "id": "HLKYNov-BWSW"
      },
      "source": [
        "### Dynamic Stability Analysis\n",
        "\n",
        "Ever wondered how static stability translates into dynamic stability? Different static margins result in different dynamic behavior, which also depends on the rocket's rotational inertial.\n",
        "\n",
        "Let's make use of RocketPy's helper class called Function to explore how the dynamic stability of Calisto varies if we change the fins span by a certain factor.\n"
      ]
    },
    {
      "cell_type": "code",
      "execution_count": null,
      "metadata": {
        "id": "HfiKkNF2BWSW"
      },
      "outputs": [],
      "source": [
        "# Helper class\n",
        "from rocketpy import Function\n",
        "import copy\n",
        "\n",
        "# Prepare a copy of the rocket\n",
        "calisto2 = copy.deepcopy(calisto)\n",
        "\n",
        "# Prepare Environment Class\n",
        "custom_env = Environment()\n",
        "custom_env.set_atmospheric_model(type=\"custom_atmosphere\", wind_v=-5)\n",
        "\n",
        "# Simulate Different Static Margins by Varying Fin Position\n",
        "simulation_results = []\n",
        "\n",
        "for factor in [-0.5, -0.2, 0.1, 0.4, 0.7]:\n",
        "    # Modify rocket fin set by removing previous one and adding new one\n",
        "    calisto2.aerodynamic_surfaces.pop(-1)\n",
        "\n",
        "    fin_set = calisto2.add_trapezoidal_fins(\n",
        "        n=4,\n",
        "        root_chord=0.120,\n",
        "        tip_chord=0.040,\n",
        "        span=0.100,\n",
        "        position=-1.04956 * factor,\n",
        "    )\n",
        "    # Simulate\n",
        "    print(\n",
        "        \"Simulating Rocket with Static Margin of {:1.3f}->{:1.3f} c\".format(\n",
        "            calisto2.static_margin(0),\n",
        "            calisto2.static_margin(calisto2.motor.burn_out_time),\n",
        "        )\n",
        "    )\n",
        "    test_flight = Flight(\n",
        "        rocket=calisto2,\n",
        "        environment=custom_env,\n",
        "        rail_length=5.2,\n",
        "        inclination=90,\n",
        "        heading=0,\n",
        "        max_time_step=0.01,\n",
        "        max_time=5,\n",
        "        terminate_on_apogee=True,\n",
        "        verbose=True,\n",
        "    )\n",
        "    # Store Results\n",
        "    static_margin_at_ignition = calisto2.static_margin(0)\n",
        "    static_margin_at_out_of_rail = calisto2.static_margin(test_flight.out_of_rail_time)\n",
        "    static_margin_at_steady_state = calisto2.static_margin(test_flight.t_final)\n",
        "    simulation_results += [\n",
        "        (\n",
        "            test_flight.attitude_angle,\n",
        "            \"{:1.2f} c | {:1.2f} c | {:1.2f} c\".format(\n",
        "                static_margin_at_ignition,\n",
        "                static_margin_at_out_of_rail,\n",
        "                static_margin_at_steady_state,\n",
        "            ),\n",
        "        )\n",
        "    ]\n",
        "\n",
        "Function.compare_plots(\n",
        "    simulation_results,\n",
        "    lower=0,\n",
        "    upper=1.5,\n",
        "    xlabel=\"Time (s)\",\n",
        "    ylabel=\"Attitude Angle (deg)\",\n",
        ")"
      ]
    },
    {
      "cell_type": "markdown",
      "metadata": {
        "id": "L5ym4DezBWSW"
      },
      "source": [
        "### Characteristic Frequency Calculation\n",
        "\n",
        "Here we analyse the characteristic frequency of oscillation of our rocket just as it leaves the launch rail. Note that when we ran test_flight.all_info(), one of the plots already showed us the frequency spectrum of our flight. Here, however, we have more control of what we are plotting.\n"
      ]
    },
    {
      "cell_type": "code",
      "execution_count": null,
      "metadata": {
        "id": "Ore5LIULBWSW"
      },
      "outputs": [],
      "source": [
        "import numpy as np\n",
        "import matplotlib.pyplot as plt\n",
        "\n",
        "# Simulate first 5 seconds of Flight\n",
        "flight = Flight(\n",
        "    rocket=calisto,\n",
        "    environment=env,\n",
        "    rail_length=5.2,\n",
        "    inclination=90,\n",
        "    heading=0,\n",
        "    max_time_step=0.01,\n",
        "    max_time=5,\n",
        ")\n",
        "\n",
        "# Perform a Fourier Analysis\n",
        "Fs = 100.0\n",
        "# sampling rate\n",
        "Ts = 1.0 / Fs\n",
        "# sampling interval\n",
        "t = np.arange(1, 400, Ts)  # time vector\n",
        "ff = 5\n",
        "# frequency of the signal\n",
        "y = flight.attitude_angle(t) - np.mean(flight.attitude_angle(t))\n",
        "n = len(y)  # length of the signal\n",
        "k = np.arange(n)\n",
        "T = n / Fs\n",
        "frq = k / T  # two sides frequency range\n",
        "frq = frq[range(n // 2)]  # one side frequency range\n",
        "Y = np.fft.fft(y) / n  # fft computing and normalization\n",
        "Y = Y[range(n // 2)]\n",
        "\n",
        "# Create the plot\n",
        "fig, ax = plt.subplots(2, 1)\n",
        "ax[0].plot(t, y)\n",
        "ax[0].set_xlabel(\"Time\")\n",
        "ax[0].set_ylabel(\"Signal\")\n",
        "ax[0].set_xlim((0, 5))\n",
        "ax[0].grid()\n",
        "ax[1].plot(frq, abs(Y), \"r\")  # plotting the spectrum\n",
        "ax[1].set_xlabel(\"Freq (Hz)\")\n",
        "ax[1].set_ylabel(\"|Y(freq)|\")\n",
        "ax[1].set_xlim((0, 5))\n",
        "ax[1].grid()\n",
        "plt.subplots_adjust(hspace=0.5)\n",
        "plt.show()"
      ]
    }
  ],
  "metadata": {
    "colab": {
      "provenance": [],
      "include_colab_link": true
    },
    "hide_input": false,
    "kernelspec": {
      "display_name": "Python 3.10.0 ('rocketpy_dev')",
      "language": "python",
      "name": "python3"
    },
    "language_info": {
      "codemirror_mode": {
        "name": "ipython",
        "version": 3
      },
      "file_extension": ".py",
      "mimetype": "text/x-python",
      "name": "python",
      "nbconvert_exporter": "python",
      "pygments_lexer": "ipython3",
      "version": "3.10.5"
    },
    "vscode": {
      "interpreter": {
        "hash": "18e93d5347af13ace37d47ea4e2a2ad720f0331bd9cb28f9983f5585f4dfaa5c"
      }
    }
  },
  "nbformat": 4,
  "nbformat_minor": 0
}
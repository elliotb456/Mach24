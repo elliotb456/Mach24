{
  "cells": [
    {
      "cell_type": "markdown",
      "metadata": {
        "id": "view-in-github",
        "colab_type": "text"
      },
      "source": [
        "<a href=\"https://colab.research.google.com/github/elliotb456/Mach24/blob/workingBranch/Mach24.ipynb\" target=\"_parent\"><img src=\"https://colab.research.google.com/assets/colab-badge.svg\" alt=\"Open In Colab\"/></a>"
      ]
    },
    {
      "cell_type": "markdown",
      "source": [
        "**SIONNA TEST #1**"
      ],
      "metadata": {
        "id": "x8y02jRoxKPh"
      }
    },
    {
      "cell_type": "markdown",
      "metadata": {
        "id": "nvAT8wcRNVEk"
      },
      "source": [
        "# Getting Started - RocketPy in Colab\n"
      ]
    },
    {
      "cell_type": "markdown",
      "metadata": {
        "id": "8gCWjpEyPNp1"
      },
      "source": [
        "We start by setting up our environment. To run this notebook, we will need:\n",
        "\n",
        "- RocketPy\n",
        "- netCDF4 (to get weather forecasts)\n",
        "- Data files (we will clone RocketPy's repository for these)\n",
        "\n",
        "Therefore, let's run the following lines of code:\n"
      ]
    },
    {
      "cell_type": "code",
      "execution_count": null,
      "metadata": {
        "id": "zwDDabtpNc6Z",
        "colab": {
          "base_uri": "https://localhost:8080/"
        },
        "outputId": "536a8c40-7757-4919-812f-3b3df4f8cf52"
      },
      "outputs": [
        {
          "output_type": "stream",
          "name": "stdout",
          "text": [
            "Collecting rocketpy\n",
            "  Downloading rocketpy-1.1.5-py3-none-any.whl (272 kB)\n",
            "\u001b[2K     \u001b[90m━━━━━━━━━━━━━━━━━━━━━━━━━━━━━━━━━━━━━━━━\u001b[0m \u001b[32m272.2/272.2 kB\u001b[0m \u001b[31m2.1 MB/s\u001b[0m eta \u001b[36m0:00:00\u001b[0m\n",
            "\u001b[?25hCollecting netCDF4\n",
            "  Downloading netCDF4-1.6.5-cp310-cp310-manylinux_2_17_x86_64.manylinux2014_x86_64.whl (5.5 MB)\n",
            "\u001b[2K     \u001b[90m━━━━━━━━━━━━━━━━━━━━━━━━━━━━━━━━━━━━━━━━\u001b[0m \u001b[32m5.5/5.5 MB\u001b[0m \u001b[31m26.5 MB/s\u001b[0m eta \u001b[36m0:00:00\u001b[0m\n",
            "\u001b[?25hRequirement already satisfied: numpy>=1.13 in /usr/local/lib/python3.10/dist-packages (from rocketpy) (1.23.5)\n",
            "Requirement already satisfied: scipy>=1.0 in /usr/local/lib/python3.10/dist-packages (from rocketpy) (1.11.4)\n",
            "Requirement already satisfied: matplotlib>=3.0 in /usr/local/lib/python3.10/dist-packages (from rocketpy) (3.7.1)\n",
            "Requirement already satisfied: requests in /usr/local/lib/python3.10/dist-packages (from rocketpy) (2.31.0)\n",
            "Requirement already satisfied: pytz in /usr/local/lib/python3.10/dist-packages (from rocketpy) (2023.3.post1)\n",
            "Collecting simplekml (from rocketpy)\n",
            "  Downloading simplekml-1.3.6.tar.gz (52 kB)\n",
            "\u001b[2K     \u001b[90m━━━━━━━━━━━━━━━━━━━━━━━━━━━━━━━━━━━━━━━━\u001b[0m \u001b[32m53.0/53.0 kB\u001b[0m \u001b[31m4.4 MB/s\u001b[0m eta \u001b[36m0:00:00\u001b[0m\n",
            "\u001b[?25h  Preparing metadata (setup.py) ... \u001b[?25l\u001b[?25hdone\n",
            "Collecting cftime (from netCDF4)\n",
            "  Downloading cftime-1.6.3-cp310-cp310-manylinux_2_17_x86_64.manylinux2014_x86_64.whl (1.3 MB)\n",
            "\u001b[2K     \u001b[90m━━━━━━━━━━━━━━━━━━━━━━━━━━━━━━━━━━━━━━━━\u001b[0m \u001b[32m1.3/1.3 MB\u001b[0m \u001b[31m61.4 MB/s\u001b[0m eta \u001b[36m0:00:00\u001b[0m\n",
            "\u001b[?25hRequirement already satisfied: certifi in /usr/local/lib/python3.10/dist-packages (from netCDF4) (2023.11.17)\n",
            "Requirement already satisfied: contourpy>=1.0.1 in /usr/local/lib/python3.10/dist-packages (from matplotlib>=3.0->rocketpy) (1.2.0)\n",
            "Requirement already satisfied: cycler>=0.10 in /usr/local/lib/python3.10/dist-packages (from matplotlib>=3.0->rocketpy) (0.12.1)\n",
            "Requirement already satisfied: fonttools>=4.22.0 in /usr/local/lib/python3.10/dist-packages (from matplotlib>=3.0->rocketpy) (4.47.2)\n",
            "Requirement already satisfied: kiwisolver>=1.0.1 in /usr/local/lib/python3.10/dist-packages (from matplotlib>=3.0->rocketpy) (1.4.5)\n",
            "Requirement already satisfied: packaging>=20.0 in /usr/local/lib/python3.10/dist-packages (from matplotlib>=3.0->rocketpy) (23.2)\n",
            "Requirement already satisfied: pillow>=6.2.0 in /usr/local/lib/python3.10/dist-packages (from matplotlib>=3.0->rocketpy) (9.4.0)\n",
            "Requirement already satisfied: pyparsing>=2.3.1 in /usr/local/lib/python3.10/dist-packages (from matplotlib>=3.0->rocketpy) (3.1.1)\n",
            "Requirement already satisfied: python-dateutil>=2.7 in /usr/local/lib/python3.10/dist-packages (from matplotlib>=3.0->rocketpy) (2.8.2)\n",
            "Requirement already satisfied: charset-normalizer<4,>=2 in /usr/local/lib/python3.10/dist-packages (from requests->rocketpy) (3.3.2)\n",
            "Requirement already satisfied: idna<4,>=2.5 in /usr/local/lib/python3.10/dist-packages (from requests->rocketpy) (3.6)\n",
            "Requirement already satisfied: urllib3<3,>=1.21.1 in /usr/local/lib/python3.10/dist-packages (from requests->rocketpy) (2.0.7)\n",
            "Requirement already satisfied: six>=1.5 in /usr/local/lib/python3.10/dist-packages (from python-dateutil>=2.7->matplotlib>=3.0->rocketpy) (1.16.0)\n",
            "Building wheels for collected packages: simplekml\n",
            "  Building wheel for simplekml (setup.py) ... \u001b[?25l\u001b[?25hdone\n",
            "  Created wheel for simplekml: filename=simplekml-1.3.6-py3-none-any.whl size=65860 sha256=976c8e80f7d4f3cd75bc094559757aa9f1f6fd53c2e26707de18a44717df2c29\n",
            "  Stored in directory: /root/.cache/pip/wheels/16/7c/e6/621a95f24bd1ff987368f1c37881ffe013433ff6b413d87fcb\n",
            "Successfully built simplekml\n",
            "Installing collected packages: simplekml, cftime, netCDF4, rocketpy\n",
            "Successfully installed cftime-1.6.3 netCDF4-1.6.5 rocketpy-1.1.5 simplekml-1.3.6\n",
            "Cloning into 'RocketPy'...\n",
            "remote: Enumerating objects: 17719, done.\u001b[K\n",
            "remote: Counting objects: 100% (4122/4122), done.\u001b[K\n",
            "remote: Compressing objects: 100% (851/851), done.\u001b[K\n",
            "remote: Total 17719 (delta 3622), reused 3414 (delta 3270), pack-reused 13597\u001b[K\n",
            "Receiving objects: 100% (17719/17719), 780.99 MiB | 25.92 MiB/s, done.\n",
            "Resolving deltas: 100% (12595/12595), done.\n",
            "Updating files: 100% (348/348), done.\n"
          ]
        }
      ],
      "source": [
        "%pip install rocketpy netCDF4\n",
        "!git clone https://github.com/giovaniceotto/RocketPy.git"
      ]
    },
    {
      "cell_type": "code",
      "execution_count": null,
      "metadata": {
        "id": "pY5XGge5OoGJ"
      },
      "outputs": [],
      "source": [
        "import os\n",
        "\n",
        "os.chdir(\"RocketPy/docs/notebooks\")"
      ]
    },
    {
      "cell_type": "markdown",
      "metadata": {
        "id": "55zcnvqdNVEo"
      },
      "source": [
        "Now we can start!\n",
        "\n",
        "Here we go through a simplified rocket trajectory simulation to get you started. Let's start by importing the rocketpy module.\n"
      ]
    },
    {
      "cell_type": "code",
      "execution_count": null,
      "metadata": {
        "id": "0o6e1AsGBWSE"
      },
      "outputs": [],
      "source": [
        "%load_ext autoreload\n",
        "%autoreload 2"
      ]
    },
    {
      "cell_type": "code",
      "execution_count": null,
      "metadata": {
        "id": "XGK9M8ecNVEp"
      },
      "outputs": [],
      "source": [
        "from rocketpy import Environment, SolidMotor, Rocket, Flight"
      ]
    },
    {
      "cell_type": "markdown",
      "metadata": {
        "id": "ImgkhEkZNVE8"
      },
      "source": [
        "If you are using Jupyter Notebooks, it is recommended to run the following line to make matplotlib plots which will be shown later interactive and higher quality.\n"
      ]
    },
    {
      "cell_type": "code",
      "execution_count": null,
      "metadata": {
        "id": "uRa566HoNVE9"
      },
      "outputs": [],
      "source": [
        "%config InlineBackend.figure_formats = ['svg']\n",
        "%matplotlib inline"
      ]
    },
    {
      "cell_type": "markdown",
      "metadata": {
        "id": "sSeqramENVFB"
      },
      "source": [
        "## Setting Up a Simulation\n"
      ]
    },
    {
      "cell_type": "markdown",
      "metadata": {
        "id": "Vm4ZHAnnNVFC"
      },
      "source": [
        "### Creating an Environment for Sionna launch site\n",
        "\n"
      ]
    },
    {
      "cell_type": "markdown",
      "metadata": {
        "id": "iLVnTZ3iBWSI"
      },
      "source": [
        "\n",
        "The `Environment` class is used to define the atmosphere, the winds, and the gravity models.\n",
        "\n",
        "You can find more information about the `Environment` class in the [Environment Class Usage Docs](https://docs.rocketpy.org/en/latest/notebooks/environment/environment_class_usage.html).\n",
        "\n",
        "**We will need to get the EXACT coordinates to ensure the most accurate simulations**"
      ]
    },
    {
      "cell_type": "code",
      "execution_count": null,
      "metadata": {
        "id": "d7mooAZONVFD"
      },
      "outputs": [],
      "source": [
        "env = Environment(latitude=52.176628, longitude=-8.24390, elevation=72)"
      ]
    },
    {
      "cell_type": "markdown",
      "metadata": {
        "id": "Fz8Ha6usNVFH"
      },
      "source": [
        "To get weather data from the GFS forecast, available online, we run the following lines.\n",
        "\n",
        "First, we set tomorrow's date.\n",
        "\n",
        "**We will have to change this top the actual date/time once it is confirmed**\n"
      ]
    },
    {
      "cell_type": "code",
      "execution_count": null,
      "metadata": {
        "id": "5kl-Je8dNVFI"
      },
      "outputs": [],
      "source": [
        "import datetime\n",
        "\n",
        "tomorrow = datetime.date.today() + datetime.timedelta(days=1)\n",
        "\n",
        "env.set_date(\n",
        "    (tomorrow.year, tomorrow.month, tomorrow.day, 12)\n",
        ")  # Hour given in UTC time"
      ]
    },
    {
      "cell_type": "markdown",
      "metadata": {
        "id": "or5MLF9gNVFM"
      },
      "source": [
        "Then, we tell env to use a GFS forecast to get the atmospheric conditions for flight.\n",
        "\n",
        "Don't mind the warning, it just means that not all variables, such as wind speed or atmospheric temperature, are available at all altitudes given by the forecast.\n"
      ]
    },
    {
      "cell_type": "code",
      "execution_count": null,
      "metadata": {
        "id": "g73fa7DWNVFN"
      },
      "outputs": [],
      "source": [
        "env.set_atmospheric_model(type=\"Forecast\", file=\"GFS\")"
      ]
    },
    {
      "cell_type": "markdown",
      "metadata": {
        "id": "wSnZQuRYNVFS"
      },
      "source": [
        "We can see what the weather will look like by calling the info method!\n"
      ]
    },
    {
      "cell_type": "code",
      "execution_count": null,
      "metadata": {
        "id": "H_AMjVTjNVFT",
        "outputId": "f2540624-c67b-44f7-9617-9fba3f753207",
        "colab": {
          "base_uri": "https://localhost:8080/",
          "height": 1000
        }
      },
      "outputs": [
        {
          "output_type": "stream",
          "name": "stdout",
          "text": [
            "\n",
            "Gravity Details\n",
            "\n",
            "Acceleration of gravity at surface level:    9.8122 m/s²\n",
            "Acceleration of gravity at  77.065 km (ASL): 9.5792 m/s²\n",
            "\n",
            "\n",
            "Launch Site Details\n",
            "\n",
            "Launch Date: 2024-01-31 12:00:00 UTC\n",
            "Launch Site Latitude: 52.17663°\n",
            "Launch Site Longitude: -8.24390°\n",
            "Reference Datum: SIRGAS2000\n",
            "Launch Site UTM coordinates: 141546.25 W    5793656.66 N\n",
            "Launch Site UTM zone: 30U\n",
            "Launch Site Surface Elevation: 142.8 m\n",
            "\n",
            "\n",
            "Atmospheric Model Details\n",
            "\n",
            "Atmospheric Model Type: Forecast\n",
            "Forecast Maximum Height: 77.065 km\n",
            "Forecast Time Period: From  2024-01-30 06:00:00  to  2024-02-15 06:00:00  UTC\n",
            "Forecast Hour Interval: 3  hrs\n",
            "Forecast Latitude Range: From  -90.0 ° To  90.0 °\n",
            "Forecast Longitude Range: From  0.0 ° To  359.75 °\n",
            "\n",
            "\n",
            "Surface Atmospheric Conditions\n",
            "\n",
            "Surface Wind Speed: 9.97 m/s\n",
            "Surface Wind Direction: 220.49°\n",
            "Surface Wind Heading: 40.49°\n",
            "Surface Pressure: 1000.00 hPa\n",
            "Surface Temperature: 282.25 K\n",
            "Surface Air Density: 1.234 kg/m³\n",
            "Surface Speed of Sound: 336.79 m/s\n",
            "\n",
            "\n",
            "Earth Model Details\n",
            "\n",
            "Earth Radius at Launch site: 6364.84 km\n",
            "Semi-major Axis: 6378.14 km\n",
            "Semi-minor Axis: 6356.75 km\n",
            "Flattening: 0.0034\n",
            "\n",
            "\n",
            "Atmospheric Model Plots\n",
            "\n"
          ]
        },
        {
          "output_type": "display_data",
          "data": {
            "text/plain": [
              "<Figure size 900x450 with 4 Axes>"
            ],
            "image/svg+xml": "<?xml version=\"1.0\" encoding=\"utf-8\" standalone=\"no\"?>\n<!DOCTYPE svg PUBLIC \"-//W3C//DTD SVG 1.1//EN\"\n  \"http://www.w3.org/Graphics/SVG/1.1/DTD/svg11.dtd\">\n<svg xmlns:xlink=\"http://www.w3.org/1999/xlink\" width=\"573.421041pt\" height=\"322.512812pt\" viewBox=\"0 0 573.421041 322.512812\" xmlns=\"http://www.w3.org/2000/svg\" version=\"1.1\">\n <metadata>\n  <rdf:RDF xmlns:dc=\"http://purl.org/dc/elements/1.1/\" xmlns:cc=\"http://creativecommons.org/ns#\" xmlns:rdf=\"http://www.w3.org/1999/02/22-rdf-syntax-ns#\">\n   <cc:Work>\n    <dc:type rdf:resource=\"http://purl.org/dc/dcmitype/StillImage\"/>\n    <dc:date>2024-01-30T17:37:21.571236</dc:date>\n    <dc:format>image/svg+xml</dc:format>\n    <dc:creator>\n     <cc:Agent>\n      <dc:title>Matplotlib v3.7.1, https://matplotlib.org/</dc:title>\n     </cc:Agent>\n    </dc:creator>\n   </cc:Work>\n  </rdf:RDF>\n </metadata>\n <defs>\n  <style type=\"text/css\">*{stroke-linejoin: round; stroke-linecap: butt}</style>\n </defs>\n <g id=\"figure_1\">\n  <g id=\"patch_1\">\n   <path d=\"M 0 322.512812 \nL 573.421041 322.512812 \nL 573.421041 0 \nL 0 0 \nz\n\" style=\"fill: #ffffff\"/>\n  </g>\n  <g id=\"axes_1\">\n   <g id=\"patch_2\">\n    <path d=\"M 59.690625 284.956563 \nL 260.570625 284.956563 \nL 260.570625 35.476563 \nL 59.690625 35.476563 \nz\n\" style=\"fill: #ffffff\"/>\n   </g>\n   <g id=\"matplotlib.axis_1\">\n    <g id=\"xtick_1\">\n     <g id=\"line2d_1\">\n      <path d=\"M 101.004192 284.956563 \nL 101.004192 35.476563 \n\" clip-path=\"url(#pc3f8c5efa5)\" style=\"fill: none; stroke: #b0b0b0; stroke-width: 0.8; stroke-linecap: square\"/>\n     </g>\n     <g id=\"line2d_2\">\n      <defs>\n       <path id=\"mf0d9ef636f\" d=\"M 0 0 \nL 0 3.5 \n\" style=\"stroke: #ff7f0e; stroke-width: 0.8\"/>\n      </defs>\n      <g>\n       <use xlink:href=\"#mf0d9ef636f\" x=\"101.004192\" y=\"284.956563\" style=\"fill: #ff7f0e; stroke: #ff7f0e; stroke-width: 0.8\"/>\n      </g>\n     </g>\n     <g id=\"text_1\">\n      <!-- 20 -->\n      <g style=\"fill: #ff7f0e\" transform=\"translate(94.641692 299.555) scale(0.1 -0.1)\">\n       <defs>\n        <path id=\"DejaVuSans-32\" d=\"M 1228 531 \nL 3431 531 \nL 3431 0 \nL 469 0 \nL 469 531 \nQ 828 903 1448 1529 \nQ 2069 2156 2228 2338 \nQ 2531 2678 2651 2914 \nQ 2772 3150 2772 3378 \nQ 2772 3750 2511 3984 \nQ 2250 4219 1831 4219 \nQ 1534 4219 1204 4116 \nQ 875 4013 500 3803 \nL 500 4441 \nQ 881 4594 1212 4672 \nQ 1544 4750 1819 4750 \nQ 2544 4750 2975 4387 \nQ 3406 4025 3406 3419 \nQ 3406 3131 3298 2873 \nQ 3191 2616 2906 2266 \nQ 2828 2175 2409 1742 \nQ 1991 1309 1228 531 \nz\n\" transform=\"scale(0.015625)\"/>\n        <path id=\"DejaVuSans-30\" d=\"M 2034 4250 \nQ 1547 4250 1301 3770 \nQ 1056 3291 1056 2328 \nQ 1056 1369 1301 889 \nQ 1547 409 2034 409 \nQ 2525 409 2770 889 \nQ 3016 1369 3016 2328 \nQ 3016 3291 2770 3770 \nQ 2525 4250 2034 4250 \nz\nM 2034 4750 \nQ 2819 4750 3233 4129 \nQ 3647 3509 3647 2328 \nQ 3647 1150 3233 529 \nQ 2819 -91 2034 -91 \nQ 1250 -91 836 529 \nQ 422 1150 422 2328 \nQ 422 3509 836 4129 \nQ 1250 4750 2034 4750 \nz\n\" transform=\"scale(0.015625)\"/>\n       </defs>\n       <use xlink:href=\"#DejaVuSans-32\"/>\n       <use xlink:href=\"#DejaVuSans-30\" x=\"63.623047\"/>\n      </g>\n     </g>\n    </g>\n    <g id=\"xtick_2\">\n     <g id=\"line2d_3\">\n      <path d=\"M 163.562949 284.956563 \nL 163.562949 35.476563 \n\" clip-path=\"url(#pc3f8c5efa5)\" style=\"fill: none; stroke: #b0b0b0; stroke-width: 0.8; stroke-linecap: square\"/>\n     </g>\n     <g id=\"line2d_4\">\n      <g>\n       <use xlink:href=\"#mf0d9ef636f\" x=\"163.562949\" y=\"284.956563\" style=\"fill: #ff7f0e; stroke: #ff7f0e; stroke-width: 0.8\"/>\n      </g>\n     </g>\n     <g id=\"text_2\">\n      <!-- 40 -->\n      <g style=\"fill: #ff7f0e\" transform=\"translate(157.200449 299.555) scale(0.1 -0.1)\">\n       <defs>\n        <path id=\"DejaVuSans-34\" d=\"M 2419 4116 \nL 825 1625 \nL 2419 1625 \nL 2419 4116 \nz\nM 2253 4666 \nL 3047 4666 \nL 3047 1625 \nL 3713 1625 \nL 3713 1100 \nL 3047 1100 \nL 3047 0 \nL 2419 0 \nL 2419 1100 \nL 313 1100 \nL 313 1709 \nL 2253 4666 \nz\n\" transform=\"scale(0.015625)\"/>\n       </defs>\n       <use xlink:href=\"#DejaVuSans-34\"/>\n       <use xlink:href=\"#DejaVuSans-30\" x=\"63.623047\"/>\n      </g>\n     </g>\n    </g>\n    <g id=\"xtick_3\">\n     <g id=\"line2d_5\">\n      <path d=\"M 226.121705 284.956563 \nL 226.121705 35.476563 \n\" clip-path=\"url(#pc3f8c5efa5)\" style=\"fill: none; stroke: #b0b0b0; stroke-width: 0.8; stroke-linecap: square\"/>\n     </g>\n     <g id=\"line2d_6\">\n      <g>\n       <use xlink:href=\"#mf0d9ef636f\" x=\"226.121705\" y=\"284.956563\" style=\"fill: #ff7f0e; stroke: #ff7f0e; stroke-width: 0.8\"/>\n      </g>\n     </g>\n     <g id=\"text_3\">\n      <!-- 60 -->\n      <g style=\"fill: #ff7f0e\" transform=\"translate(219.759205 299.555) scale(0.1 -0.1)\">\n       <defs>\n        <path id=\"DejaVuSans-36\" d=\"M 2113 2584 \nQ 1688 2584 1439 2293 \nQ 1191 2003 1191 1497 \nQ 1191 994 1439 701 \nQ 1688 409 2113 409 \nQ 2538 409 2786 701 \nQ 3034 994 3034 1497 \nQ 3034 2003 2786 2293 \nQ 2538 2584 2113 2584 \nz\nM 3366 4563 \nL 3366 3988 \nQ 3128 4100 2886 4159 \nQ 2644 4219 2406 4219 \nQ 1781 4219 1451 3797 \nQ 1122 3375 1075 2522 \nQ 1259 2794 1537 2939 \nQ 1816 3084 2150 3084 \nQ 2853 3084 3261 2657 \nQ 3669 2231 3669 1497 \nQ 3669 778 3244 343 \nQ 2819 -91 2113 -91 \nQ 1303 -91 875 529 \nQ 447 1150 447 2328 \nQ 447 3434 972 4092 \nQ 1497 4750 2381 4750 \nQ 2619 4750 2861 4703 \nQ 3103 4656 3366 4563 \nz\n\" transform=\"scale(0.015625)\"/>\n       </defs>\n       <use xlink:href=\"#DejaVuSans-36\"/>\n       <use xlink:href=\"#DejaVuSans-30\" x=\"63.623047\"/>\n      </g>\n     </g>\n    </g>\n    <g id=\"text_4\">\n     <!-- Wind Speed (m/s) -->\n     <g style=\"fill: #ff7f0e\" transform=\"translate(115.6525 313.233125) scale(0.1 -0.1)\">\n      <defs>\n       <path id=\"DejaVuSans-57\" d=\"M 213 4666 \nL 850 4666 \nL 1831 722 \nL 2809 4666 \nL 3519 4666 \nL 4500 722 \nL 5478 4666 \nL 6119 4666 \nL 4947 0 \nL 4153 0 \nL 3169 4050 \nL 2175 0 \nL 1381 0 \nL 213 4666 \nz\n\" transform=\"scale(0.015625)\"/>\n       <path id=\"DejaVuSans-69\" d=\"M 603 3500 \nL 1178 3500 \nL 1178 0 \nL 603 0 \nL 603 3500 \nz\nM 603 4863 \nL 1178 4863 \nL 1178 4134 \nL 603 4134 \nL 603 4863 \nz\n\" transform=\"scale(0.015625)\"/>\n       <path id=\"DejaVuSans-6e\" d=\"M 3513 2113 \nL 3513 0 \nL 2938 0 \nL 2938 2094 \nQ 2938 2591 2744 2837 \nQ 2550 3084 2163 3084 \nQ 1697 3084 1428 2787 \nQ 1159 2491 1159 1978 \nL 1159 0 \nL 581 0 \nL 581 3500 \nL 1159 3500 \nL 1159 2956 \nQ 1366 3272 1645 3428 \nQ 1925 3584 2291 3584 \nQ 2894 3584 3203 3211 \nQ 3513 2838 3513 2113 \nz\n\" transform=\"scale(0.015625)\"/>\n       <path id=\"DejaVuSans-64\" d=\"M 2906 2969 \nL 2906 4863 \nL 3481 4863 \nL 3481 0 \nL 2906 0 \nL 2906 525 \nQ 2725 213 2448 61 \nQ 2172 -91 1784 -91 \nQ 1150 -91 751 415 \nQ 353 922 353 1747 \nQ 353 2572 751 3078 \nQ 1150 3584 1784 3584 \nQ 2172 3584 2448 3432 \nQ 2725 3281 2906 2969 \nz\nM 947 1747 \nQ 947 1113 1208 752 \nQ 1469 391 1925 391 \nQ 2381 391 2643 752 \nQ 2906 1113 2906 1747 \nQ 2906 2381 2643 2742 \nQ 2381 3103 1925 3103 \nQ 1469 3103 1208 2742 \nQ 947 2381 947 1747 \nz\n\" transform=\"scale(0.015625)\"/>\n       <path id=\"DejaVuSans-20\" transform=\"scale(0.015625)\"/>\n       <path id=\"DejaVuSans-53\" d=\"M 3425 4513 \nL 3425 3897 \nQ 3066 4069 2747 4153 \nQ 2428 4238 2131 4238 \nQ 1616 4238 1336 4038 \nQ 1056 3838 1056 3469 \nQ 1056 3159 1242 3001 \nQ 1428 2844 1947 2747 \nL 2328 2669 \nQ 3034 2534 3370 2195 \nQ 3706 1856 3706 1288 \nQ 3706 609 3251 259 \nQ 2797 -91 1919 -91 \nQ 1588 -91 1214 -16 \nQ 841 59 441 206 \nL 441 856 \nQ 825 641 1194 531 \nQ 1563 422 1919 422 \nQ 2459 422 2753 634 \nQ 3047 847 3047 1241 \nQ 3047 1584 2836 1778 \nQ 2625 1972 2144 2069 \nL 1759 2144 \nQ 1053 2284 737 2584 \nQ 422 2884 422 3419 \nQ 422 4038 858 4394 \nQ 1294 4750 2059 4750 \nQ 2388 4750 2728 4690 \nQ 3069 4631 3425 4513 \nz\n\" transform=\"scale(0.015625)\"/>\n       <path id=\"DejaVuSans-70\" d=\"M 1159 525 \nL 1159 -1331 \nL 581 -1331 \nL 581 3500 \nL 1159 3500 \nL 1159 2969 \nQ 1341 3281 1617 3432 \nQ 1894 3584 2278 3584 \nQ 2916 3584 3314 3078 \nQ 3713 2572 3713 1747 \nQ 3713 922 3314 415 \nQ 2916 -91 2278 -91 \nQ 1894 -91 1617 61 \nQ 1341 213 1159 525 \nz\nM 3116 1747 \nQ 3116 2381 2855 2742 \nQ 2594 3103 2138 3103 \nQ 1681 3103 1420 2742 \nQ 1159 2381 1159 1747 \nQ 1159 1113 1420 752 \nQ 1681 391 2138 391 \nQ 2594 391 2855 752 \nQ 3116 1113 3116 1747 \nz\n\" transform=\"scale(0.015625)\"/>\n       <path id=\"DejaVuSans-65\" d=\"M 3597 1894 \nL 3597 1613 \nL 953 1613 \nQ 991 1019 1311 708 \nQ 1631 397 2203 397 \nQ 2534 397 2845 478 \nQ 3156 559 3463 722 \nL 3463 178 \nQ 3153 47 2828 -22 \nQ 2503 -91 2169 -91 \nQ 1331 -91 842 396 \nQ 353 884 353 1716 \nQ 353 2575 817 3079 \nQ 1281 3584 2069 3584 \nQ 2775 3584 3186 3129 \nQ 3597 2675 3597 1894 \nz\nM 3022 2063 \nQ 3016 2534 2758 2815 \nQ 2500 3097 2075 3097 \nQ 1594 3097 1305 2825 \nQ 1016 2553 972 2059 \nL 3022 2063 \nz\n\" transform=\"scale(0.015625)\"/>\n       <path id=\"DejaVuSans-28\" d=\"M 1984 4856 \nQ 1566 4138 1362 3434 \nQ 1159 2731 1159 2009 \nQ 1159 1288 1364 580 \nQ 1569 -128 1984 -844 \nL 1484 -844 \nQ 1016 -109 783 600 \nQ 550 1309 550 2009 \nQ 550 2706 781 3412 \nQ 1013 4119 1484 4856 \nL 1984 4856 \nz\n\" transform=\"scale(0.015625)\"/>\n       <path id=\"DejaVuSans-6d\" d=\"M 3328 2828 \nQ 3544 3216 3844 3400 \nQ 4144 3584 4550 3584 \nQ 5097 3584 5394 3201 \nQ 5691 2819 5691 2113 \nL 5691 0 \nL 5113 0 \nL 5113 2094 \nQ 5113 2597 4934 2840 \nQ 4756 3084 4391 3084 \nQ 3944 3084 3684 2787 \nQ 3425 2491 3425 1978 \nL 3425 0 \nL 2847 0 \nL 2847 2094 \nQ 2847 2600 2669 2842 \nQ 2491 3084 2119 3084 \nQ 1678 3084 1418 2786 \nQ 1159 2488 1159 1978 \nL 1159 0 \nL 581 0 \nL 581 3500 \nL 1159 3500 \nL 1159 2956 \nQ 1356 3278 1631 3431 \nQ 1906 3584 2284 3584 \nQ 2666 3584 2933 3390 \nQ 3200 3197 3328 2828 \nz\n\" transform=\"scale(0.015625)\"/>\n       <path id=\"DejaVuSans-2f\" d=\"M 1625 4666 \nL 2156 4666 \nL 531 -594 \nL 0 -594 \nL 1625 4666 \nz\n\" transform=\"scale(0.015625)\"/>\n       <path id=\"DejaVuSans-73\" d=\"M 2834 3397 \nL 2834 2853 \nQ 2591 2978 2328 3040 \nQ 2066 3103 1784 3103 \nQ 1356 3103 1142 2972 \nQ 928 2841 928 2578 \nQ 928 2378 1081 2264 \nQ 1234 2150 1697 2047 \nL 1894 2003 \nQ 2506 1872 2764 1633 \nQ 3022 1394 3022 966 \nQ 3022 478 2636 193 \nQ 2250 -91 1575 -91 \nQ 1294 -91 989 -36 \nQ 684 19 347 128 \nL 347 722 \nQ 666 556 975 473 \nQ 1284 391 1588 391 \nQ 1994 391 2212 530 \nQ 2431 669 2431 922 \nQ 2431 1156 2273 1281 \nQ 2116 1406 1581 1522 \nL 1381 1569 \nQ 847 1681 609 1914 \nQ 372 2147 372 2553 \nQ 372 3047 722 3315 \nQ 1072 3584 1716 3584 \nQ 2034 3584 2315 3537 \nQ 2597 3491 2834 3397 \nz\n\" transform=\"scale(0.015625)\"/>\n       <path id=\"DejaVuSans-29\" d=\"M 513 4856 \nL 1013 4856 \nQ 1481 4119 1714 3412 \nQ 1947 2706 1947 2009 \nQ 1947 1309 1714 600 \nQ 1481 -109 1013 -844 \nL 513 -844 \nQ 928 -128 1133 580 \nQ 1338 1288 1338 2009 \nQ 1338 2731 1133 3434 \nQ 928 4138 513 4856 \nz\n\" transform=\"scale(0.015625)\"/>\n      </defs>\n      <use xlink:href=\"#DejaVuSans-57\"/>\n      <use xlink:href=\"#DejaVuSans-69\" x=\"96.626953\"/>\n      <use xlink:href=\"#DejaVuSans-6e\" x=\"124.410156\"/>\n      <use xlink:href=\"#DejaVuSans-64\" x=\"187.789062\"/>\n      <use xlink:href=\"#DejaVuSans-20\" x=\"251.265625\"/>\n      <use xlink:href=\"#DejaVuSans-53\" x=\"283.052734\"/>\n      <use xlink:href=\"#DejaVuSans-70\" x=\"346.529297\"/>\n      <use xlink:href=\"#DejaVuSans-65\" x=\"410.005859\"/>\n      <use xlink:href=\"#DejaVuSans-65\" x=\"471.529297\"/>\n      <use xlink:href=\"#DejaVuSans-64\" x=\"533.052734\"/>\n      <use xlink:href=\"#DejaVuSans-20\" x=\"596.529297\"/>\n      <use xlink:href=\"#DejaVuSans-28\" x=\"628.316406\"/>\n      <use xlink:href=\"#DejaVuSans-6d\" x=\"667.330078\"/>\n      <use xlink:href=\"#DejaVuSans-2f\" x=\"764.742188\"/>\n      <use xlink:href=\"#DejaVuSans-73\" x=\"798.433594\"/>\n      <use xlink:href=\"#DejaVuSans-29\" x=\"850.533203\"/>\n     </g>\n    </g>\n   </g>\n   <g id=\"matplotlib.axis_2\">\n    <g id=\"ytick_1\">\n     <g id=\"line2d_7\">\n      <path d=\"M 59.690625 252.786849 \nL 260.570625 252.786849 \n\" clip-path=\"url(#pc3f8c5efa5)\" style=\"fill: none; stroke: #b0b0b0; stroke-width: 0.8; stroke-linecap: square\"/>\n     </g>\n     <g id=\"line2d_8\">\n      <defs>\n       <path id=\"m9c7e7404e8\" d=\"M 0 0 \nL -3.5 0 \n\" style=\"stroke: #000000; stroke-width: 0.8\"/>\n      </defs>\n      <g>\n       <use xlink:href=\"#m9c7e7404e8\" x=\"59.690625\" y=\"252.786849\" style=\"stroke: #000000; stroke-width: 0.8\"/>\n      </g>\n     </g>\n     <g id=\"text_5\">\n      <!-- 10000 -->\n      <g transform=\"translate(20.878125 256.586068) scale(0.1 -0.1)\">\n       <defs>\n        <path id=\"DejaVuSans-31\" d=\"M 794 531 \nL 1825 531 \nL 1825 4091 \nL 703 3866 \nL 703 4441 \nL 1819 4666 \nL 2450 4666 \nL 2450 531 \nL 3481 531 \nL 3481 0 \nL 794 0 \nL 794 531 \nz\n\" transform=\"scale(0.015625)\"/>\n       </defs>\n       <use xlink:href=\"#DejaVuSans-31\"/>\n       <use xlink:href=\"#DejaVuSans-30\" x=\"63.623047\"/>\n       <use xlink:href=\"#DejaVuSans-30\" x=\"127.246094\"/>\n       <use xlink:href=\"#DejaVuSans-30\" x=\"190.869141\"/>\n       <use xlink:href=\"#DejaVuSans-30\" x=\"254.492188\"/>\n      </g>\n     </g>\n    </g>\n    <g id=\"ytick_2\">\n     <g id=\"line2d_9\">\n      <path d=\"M 59.690625 220.383835 \nL 260.570625 220.383835 \n\" clip-path=\"url(#pc3f8c5efa5)\" style=\"fill: none; stroke: #b0b0b0; stroke-width: 0.8; stroke-linecap: square\"/>\n     </g>\n     <g id=\"line2d_10\">\n      <g>\n       <use xlink:href=\"#m9c7e7404e8\" x=\"59.690625\" y=\"220.383835\" style=\"stroke: #000000; stroke-width: 0.8\"/>\n      </g>\n     </g>\n     <g id=\"text_6\">\n      <!-- 20000 -->\n      <g transform=\"translate(20.878125 224.183053) scale(0.1 -0.1)\">\n       <use xlink:href=\"#DejaVuSans-32\"/>\n       <use xlink:href=\"#DejaVuSans-30\" x=\"63.623047\"/>\n       <use xlink:href=\"#DejaVuSans-30\" x=\"127.246094\"/>\n       <use xlink:href=\"#DejaVuSans-30\" x=\"190.869141\"/>\n       <use xlink:href=\"#DejaVuSans-30\" x=\"254.492188\"/>\n      </g>\n     </g>\n    </g>\n    <g id=\"ytick_3\">\n     <g id=\"line2d_11\">\n      <path d=\"M 59.690625 187.98082 \nL 260.570625 187.98082 \n\" clip-path=\"url(#pc3f8c5efa5)\" style=\"fill: none; stroke: #b0b0b0; stroke-width: 0.8; stroke-linecap: square\"/>\n     </g>\n     <g id=\"line2d_12\">\n      <g>\n       <use xlink:href=\"#m9c7e7404e8\" x=\"59.690625\" y=\"187.98082\" style=\"stroke: #000000; stroke-width: 0.8\"/>\n      </g>\n     </g>\n     <g id=\"text_7\">\n      <!-- 30000 -->\n      <g transform=\"translate(20.878125 191.780039) scale(0.1 -0.1)\">\n       <defs>\n        <path id=\"DejaVuSans-33\" d=\"M 2597 2516 \nQ 3050 2419 3304 2112 \nQ 3559 1806 3559 1356 \nQ 3559 666 3084 287 \nQ 2609 -91 1734 -91 \nQ 1441 -91 1130 -33 \nQ 819 25 488 141 \nL 488 750 \nQ 750 597 1062 519 \nQ 1375 441 1716 441 \nQ 2309 441 2620 675 \nQ 2931 909 2931 1356 \nQ 2931 1769 2642 2001 \nQ 2353 2234 1838 2234 \nL 1294 2234 \nL 1294 2753 \nL 1863 2753 \nQ 2328 2753 2575 2939 \nQ 2822 3125 2822 3475 \nQ 2822 3834 2567 4026 \nQ 2313 4219 1838 4219 \nQ 1578 4219 1281 4162 \nQ 984 4106 628 3988 \nL 628 4550 \nQ 988 4650 1302 4700 \nQ 1616 4750 1894 4750 \nQ 2613 4750 3031 4423 \nQ 3450 4097 3450 3541 \nQ 3450 3153 3228 2886 \nQ 3006 2619 2597 2516 \nz\n\" transform=\"scale(0.015625)\"/>\n       </defs>\n       <use xlink:href=\"#DejaVuSans-33\"/>\n       <use xlink:href=\"#DejaVuSans-30\" x=\"63.623047\"/>\n       <use xlink:href=\"#DejaVuSans-30\" x=\"127.246094\"/>\n       <use xlink:href=\"#DejaVuSans-30\" x=\"190.869141\"/>\n       <use xlink:href=\"#DejaVuSans-30\" x=\"254.492188\"/>\n      </g>\n     </g>\n    </g>\n    <g id=\"ytick_4\">\n     <g id=\"line2d_13\">\n      <path d=\"M 59.690625 155.577805 \nL 260.570625 155.577805 \n\" clip-path=\"url(#pc3f8c5efa5)\" style=\"fill: none; stroke: #b0b0b0; stroke-width: 0.8; stroke-linecap: square\"/>\n     </g>\n     <g id=\"line2d_14\">\n      <g>\n       <use xlink:href=\"#m9c7e7404e8\" x=\"59.690625\" y=\"155.577805\" style=\"stroke: #000000; stroke-width: 0.8\"/>\n      </g>\n     </g>\n     <g id=\"text_8\">\n      <!-- 40000 -->\n      <g transform=\"translate(20.878125 159.377024) scale(0.1 -0.1)\">\n       <use xlink:href=\"#DejaVuSans-34\"/>\n       <use xlink:href=\"#DejaVuSans-30\" x=\"63.623047\"/>\n       <use xlink:href=\"#DejaVuSans-30\" x=\"127.246094\"/>\n       <use xlink:href=\"#DejaVuSans-30\" x=\"190.869141\"/>\n       <use xlink:href=\"#DejaVuSans-30\" x=\"254.492188\"/>\n      </g>\n     </g>\n    </g>\n    <g id=\"ytick_5\">\n     <g id=\"line2d_15\">\n      <path d=\"M 59.690625 123.17479 \nL 260.570625 123.17479 \n\" clip-path=\"url(#pc3f8c5efa5)\" style=\"fill: none; stroke: #b0b0b0; stroke-width: 0.8; stroke-linecap: square\"/>\n     </g>\n     <g id=\"line2d_16\">\n      <g>\n       <use xlink:href=\"#m9c7e7404e8\" x=\"59.690625\" y=\"123.17479\" style=\"stroke: #000000; stroke-width: 0.8\"/>\n      </g>\n     </g>\n     <g id=\"text_9\">\n      <!-- 50000 -->\n      <g transform=\"translate(20.878125 126.974009) scale(0.1 -0.1)\">\n       <defs>\n        <path id=\"DejaVuSans-35\" d=\"M 691 4666 \nL 3169 4666 \nL 3169 4134 \nL 1269 4134 \nL 1269 2991 \nQ 1406 3038 1543 3061 \nQ 1681 3084 1819 3084 \nQ 2600 3084 3056 2656 \nQ 3513 2228 3513 1497 \nQ 3513 744 3044 326 \nQ 2575 -91 1722 -91 \nQ 1428 -91 1123 -41 \nQ 819 9 494 109 \nL 494 744 \nQ 775 591 1075 516 \nQ 1375 441 1709 441 \nQ 2250 441 2565 725 \nQ 2881 1009 2881 1497 \nQ 2881 1984 2565 2268 \nQ 2250 2553 1709 2553 \nQ 1456 2553 1204 2497 \nQ 953 2441 691 2322 \nL 691 4666 \nz\n\" transform=\"scale(0.015625)\"/>\n       </defs>\n       <use xlink:href=\"#DejaVuSans-35\"/>\n       <use xlink:href=\"#DejaVuSans-30\" x=\"63.623047\"/>\n       <use xlink:href=\"#DejaVuSans-30\" x=\"127.246094\"/>\n       <use xlink:href=\"#DejaVuSans-30\" x=\"190.869141\"/>\n       <use xlink:href=\"#DejaVuSans-30\" x=\"254.492188\"/>\n      </g>\n     </g>\n    </g>\n    <g id=\"ytick_6\">\n     <g id=\"line2d_17\">\n      <path d=\"M 59.690625 90.771776 \nL 260.570625 90.771776 \n\" clip-path=\"url(#pc3f8c5efa5)\" style=\"fill: none; stroke: #b0b0b0; stroke-width: 0.8; stroke-linecap: square\"/>\n     </g>\n     <g id=\"line2d_18\">\n      <g>\n       <use xlink:href=\"#m9c7e7404e8\" x=\"59.690625\" y=\"90.771776\" style=\"stroke: #000000; stroke-width: 0.8\"/>\n      </g>\n     </g>\n     <g id=\"text_10\">\n      <!-- 60000 -->\n      <g transform=\"translate(20.878125 94.570994) scale(0.1 -0.1)\">\n       <use xlink:href=\"#DejaVuSans-36\"/>\n       <use xlink:href=\"#DejaVuSans-30\" x=\"63.623047\"/>\n       <use xlink:href=\"#DejaVuSans-30\" x=\"127.246094\"/>\n       <use xlink:href=\"#DejaVuSans-30\" x=\"190.869141\"/>\n       <use xlink:href=\"#DejaVuSans-30\" x=\"254.492188\"/>\n      </g>\n     </g>\n    </g>\n    <g id=\"ytick_7\">\n     <g id=\"line2d_19\">\n      <path d=\"M 59.690625 58.368761 \nL 260.570625 58.368761 \n\" clip-path=\"url(#pc3f8c5efa5)\" style=\"fill: none; stroke: #b0b0b0; stroke-width: 0.8; stroke-linecap: square\"/>\n     </g>\n     <g id=\"line2d_20\">\n      <g>\n       <use xlink:href=\"#m9c7e7404e8\" x=\"59.690625\" y=\"58.368761\" style=\"stroke: #000000; stroke-width: 0.8\"/>\n      </g>\n     </g>\n     <g id=\"text_11\">\n      <!-- 70000 -->\n      <g transform=\"translate(20.878125 62.16798) scale(0.1 -0.1)\">\n       <defs>\n        <path id=\"DejaVuSans-37\" d=\"M 525 4666 \nL 3525 4666 \nL 3525 4397 \nL 1831 0 \nL 1172 0 \nL 2766 4134 \nL 525 4134 \nL 525 4666 \nz\n\" transform=\"scale(0.015625)\"/>\n       </defs>\n       <use xlink:href=\"#DejaVuSans-37\"/>\n       <use xlink:href=\"#DejaVuSans-30\" x=\"63.623047\"/>\n       <use xlink:href=\"#DejaVuSans-30\" x=\"127.246094\"/>\n       <use xlink:href=\"#DejaVuSans-30\" x=\"190.869141\"/>\n       <use xlink:href=\"#DejaVuSans-30\" x=\"254.492188\"/>\n      </g>\n     </g>\n    </g>\n    <g id=\"text_12\">\n     <!-- Height Above Sea Level (m) -->\n     <g transform=\"translate(14.798438 230.078281) rotate(-90) scale(0.1 -0.1)\">\n      <defs>\n       <path id=\"DejaVuSans-48\" d=\"M 628 4666 \nL 1259 4666 \nL 1259 2753 \nL 3553 2753 \nL 3553 4666 \nL 4184 4666 \nL 4184 0 \nL 3553 0 \nL 3553 2222 \nL 1259 2222 \nL 1259 0 \nL 628 0 \nL 628 4666 \nz\n\" transform=\"scale(0.015625)\"/>\n       <path id=\"DejaVuSans-67\" d=\"M 2906 1791 \nQ 2906 2416 2648 2759 \nQ 2391 3103 1925 3103 \nQ 1463 3103 1205 2759 \nQ 947 2416 947 1791 \nQ 947 1169 1205 825 \nQ 1463 481 1925 481 \nQ 2391 481 2648 825 \nQ 2906 1169 2906 1791 \nz\nM 3481 434 \nQ 3481 -459 3084 -895 \nQ 2688 -1331 1869 -1331 \nQ 1566 -1331 1297 -1286 \nQ 1028 -1241 775 -1147 \nL 775 -588 \nQ 1028 -725 1275 -790 \nQ 1522 -856 1778 -856 \nQ 2344 -856 2625 -561 \nQ 2906 -266 2906 331 \nL 2906 616 \nQ 2728 306 2450 153 \nQ 2172 0 1784 0 \nQ 1141 0 747 490 \nQ 353 981 353 1791 \nQ 353 2603 747 3093 \nQ 1141 3584 1784 3584 \nQ 2172 3584 2450 3431 \nQ 2728 3278 2906 2969 \nL 2906 3500 \nL 3481 3500 \nL 3481 434 \nz\n\" transform=\"scale(0.015625)\"/>\n       <path id=\"DejaVuSans-68\" d=\"M 3513 2113 \nL 3513 0 \nL 2938 0 \nL 2938 2094 \nQ 2938 2591 2744 2837 \nQ 2550 3084 2163 3084 \nQ 1697 3084 1428 2787 \nQ 1159 2491 1159 1978 \nL 1159 0 \nL 581 0 \nL 581 4863 \nL 1159 4863 \nL 1159 2956 \nQ 1366 3272 1645 3428 \nQ 1925 3584 2291 3584 \nQ 2894 3584 3203 3211 \nQ 3513 2838 3513 2113 \nz\n\" transform=\"scale(0.015625)\"/>\n       <path id=\"DejaVuSans-74\" d=\"M 1172 4494 \nL 1172 3500 \nL 2356 3500 \nL 2356 3053 \nL 1172 3053 \nL 1172 1153 \nQ 1172 725 1289 603 \nQ 1406 481 1766 481 \nL 2356 481 \nL 2356 0 \nL 1766 0 \nQ 1100 0 847 248 \nQ 594 497 594 1153 \nL 594 3053 \nL 172 3053 \nL 172 3500 \nL 594 3500 \nL 594 4494 \nL 1172 4494 \nz\n\" transform=\"scale(0.015625)\"/>\n       <path id=\"DejaVuSans-41\" d=\"M 2188 4044 \nL 1331 1722 \nL 3047 1722 \nL 2188 4044 \nz\nM 1831 4666 \nL 2547 4666 \nL 4325 0 \nL 3669 0 \nL 3244 1197 \nL 1141 1197 \nL 716 0 \nL 50 0 \nL 1831 4666 \nz\n\" transform=\"scale(0.015625)\"/>\n       <path id=\"DejaVuSans-62\" d=\"M 3116 1747 \nQ 3116 2381 2855 2742 \nQ 2594 3103 2138 3103 \nQ 1681 3103 1420 2742 \nQ 1159 2381 1159 1747 \nQ 1159 1113 1420 752 \nQ 1681 391 2138 391 \nQ 2594 391 2855 752 \nQ 3116 1113 3116 1747 \nz\nM 1159 2969 \nQ 1341 3281 1617 3432 \nQ 1894 3584 2278 3584 \nQ 2916 3584 3314 3078 \nQ 3713 2572 3713 1747 \nQ 3713 922 3314 415 \nQ 2916 -91 2278 -91 \nQ 1894 -91 1617 61 \nQ 1341 213 1159 525 \nL 1159 0 \nL 581 0 \nL 581 4863 \nL 1159 4863 \nL 1159 2969 \nz\n\" transform=\"scale(0.015625)\"/>\n       <path id=\"DejaVuSans-6f\" d=\"M 1959 3097 \nQ 1497 3097 1228 2736 \nQ 959 2375 959 1747 \nQ 959 1119 1226 758 \nQ 1494 397 1959 397 \nQ 2419 397 2687 759 \nQ 2956 1122 2956 1747 \nQ 2956 2369 2687 2733 \nQ 2419 3097 1959 3097 \nz\nM 1959 3584 \nQ 2709 3584 3137 3096 \nQ 3566 2609 3566 1747 \nQ 3566 888 3137 398 \nQ 2709 -91 1959 -91 \nQ 1206 -91 779 398 \nQ 353 888 353 1747 \nQ 353 2609 779 3096 \nQ 1206 3584 1959 3584 \nz\n\" transform=\"scale(0.015625)\"/>\n       <path id=\"DejaVuSans-76\" d=\"M 191 3500 \nL 800 3500 \nL 1894 563 \nL 2988 3500 \nL 3597 3500 \nL 2284 0 \nL 1503 0 \nL 191 3500 \nz\n\" transform=\"scale(0.015625)\"/>\n       <path id=\"DejaVuSans-61\" d=\"M 2194 1759 \nQ 1497 1759 1228 1600 \nQ 959 1441 959 1056 \nQ 959 750 1161 570 \nQ 1363 391 1709 391 \nQ 2188 391 2477 730 \nQ 2766 1069 2766 1631 \nL 2766 1759 \nL 2194 1759 \nz\nM 3341 1997 \nL 3341 0 \nL 2766 0 \nL 2766 531 \nQ 2569 213 2275 61 \nQ 1981 -91 1556 -91 \nQ 1019 -91 701 211 \nQ 384 513 384 1019 \nQ 384 1609 779 1909 \nQ 1175 2209 1959 2209 \nL 2766 2209 \nL 2766 2266 \nQ 2766 2663 2505 2880 \nQ 2244 3097 1772 3097 \nQ 1472 3097 1187 3025 \nQ 903 2953 641 2809 \nL 641 3341 \nQ 956 3463 1253 3523 \nQ 1550 3584 1831 3584 \nQ 2591 3584 2966 3190 \nQ 3341 2797 3341 1997 \nz\n\" transform=\"scale(0.015625)\"/>\n       <path id=\"DejaVuSans-4c\" d=\"M 628 4666 \nL 1259 4666 \nL 1259 531 \nL 3531 531 \nL 3531 0 \nL 628 0 \nL 628 4666 \nz\n\" transform=\"scale(0.015625)\"/>\n       <path id=\"DejaVuSans-6c\" d=\"M 603 4863 \nL 1178 4863 \nL 1178 0 \nL 603 0 \nL 603 4863 \nz\n\" transform=\"scale(0.015625)\"/>\n      </defs>\n      <use xlink:href=\"#DejaVuSans-48\"/>\n      <use xlink:href=\"#DejaVuSans-65\" x=\"75.195312\"/>\n      <use xlink:href=\"#DejaVuSans-69\" x=\"136.71875\"/>\n      <use xlink:href=\"#DejaVuSans-67\" x=\"164.501953\"/>\n      <use xlink:href=\"#DejaVuSans-68\" x=\"227.978516\"/>\n      <use xlink:href=\"#DejaVuSans-74\" x=\"291.357422\"/>\n      <use xlink:href=\"#DejaVuSans-20\" x=\"330.566406\"/>\n      <use xlink:href=\"#DejaVuSans-41\" x=\"362.353516\"/>\n      <use xlink:href=\"#DejaVuSans-62\" x=\"430.761719\"/>\n      <use xlink:href=\"#DejaVuSans-6f\" x=\"494.238281\"/>\n      <use xlink:href=\"#DejaVuSans-76\" x=\"555.419922\"/>\n      <use xlink:href=\"#DejaVuSans-65\" x=\"614.599609\"/>\n      <use xlink:href=\"#DejaVuSans-20\" x=\"676.123047\"/>\n      <use xlink:href=\"#DejaVuSans-53\" x=\"707.910156\"/>\n      <use xlink:href=\"#DejaVuSans-65\" x=\"771.386719\"/>\n      <use xlink:href=\"#DejaVuSans-61\" x=\"832.910156\"/>\n      <use xlink:href=\"#DejaVuSans-20\" x=\"894.189453\"/>\n      <use xlink:href=\"#DejaVuSans-4c\" x=\"925.976562\"/>\n      <use xlink:href=\"#DejaVuSans-65\" x=\"979.939453\"/>\n      <use xlink:href=\"#DejaVuSans-76\" x=\"1041.462891\"/>\n      <use xlink:href=\"#DejaVuSans-65\" x=\"1100.642578\"/>\n      <use xlink:href=\"#DejaVuSans-6c\" x=\"1162.166016\"/>\n      <use xlink:href=\"#DejaVuSans-20\" x=\"1189.949219\"/>\n      <use xlink:href=\"#DejaVuSans-28\" x=\"1221.736328\"/>\n      <use xlink:href=\"#DejaVuSans-6d\" x=\"1260.75\"/>\n      <use xlink:href=\"#DejaVuSans-29\" x=\"1358.162109\"/>\n     </g>\n    </g>\n   </g>\n   <g id=\"line2d_21\">\n    <path d=\"M 69.644192 284.956563 \nL 122.876668 279.865134 \nL 118.483517 274.773705 \nL 124.032122 269.682277 \nL 130.415198 264.590848 \nL 126.956394 259.49942 \nL 130.013034 254.407991 \nL 128.993974 249.316563 \nL 117.100989 244.225134 \nL 108.445722 239.133705 \nL 102.353641 234.042277 \nL 93.177273 228.950848 \nL 83.205933 223.85942 \nL 74.247118 218.767991 \nL 72.520682 213.676563 \nL 68.821534 208.585134 \nL 72.798436 203.493705 \nL 77.782644 198.402277 \nL 83.23847 193.310848 \nL 98.371474 188.21942 \nL 109.830766 183.127991 \nL 116.588257 178.036563 \nL 118.973047 172.945134 \nL 119.541204 167.853705 \nL 119.039877 162.762277 \nL 128.210889 157.670848 \nL 145.361489 152.57942 \nL 145.041853 147.487991 \nL 142.240779 142.396563 \nL 139.439705 137.305134 \nL 145.058805 132.213705 \nL 156.340957 127.122277 \nL 178.741098 122.030848 \nL 201.141239 116.93942 \nL 209.953413 111.847991 \nL 213.914312 106.756563 \nL 217.875211 101.665134 \nL 225.172704 96.573705 \nL 235.499322 91.482277 \nL 245.82594 86.390848 \nL 251.439716 81.29942 \nL 250.003465 76.207991 \nL 240.650534 71.116563 \nL 229.941655 66.025134 \nL 215.369933 60.933705 \nL 195.99281 55.842277 \nL 176.615688 50.750848 \nL 167.321128 45.65942 \nL 166.097805 40.567991 \nL 164.874481 35.476563 \n\" clip-path=\"url(#pc3f8c5efa5)\" style=\"fill: none; stroke: #ff7f0e; stroke-width: 1.5; stroke-linecap: square\"/>\n   </g>\n   <g id=\"patch_3\">\n    <path d=\"M 59.690625 284.956563 \nL 59.690625 35.476563 \n\" style=\"fill: none; stroke: #000000; stroke-width: 0.8; stroke-linejoin: miter; stroke-linecap: square\"/>\n   </g>\n   <g id=\"patch_4\">\n    <path d=\"M 260.570625 284.956563 \nL 260.570625 35.476563 \n\" style=\"fill: none; stroke: #000000; stroke-width: 0.8; stroke-linejoin: miter; stroke-linecap: square\"/>\n   </g>\n   <g id=\"patch_5\">\n    <path d=\"M 59.690625 284.956563 \nL 260.570625 284.956563 \n\" style=\"fill: none; stroke: #000000; stroke-width: 0.8; stroke-linejoin: miter; stroke-linecap: square\"/>\n   </g>\n   <g id=\"patch_6\">\n    <path d=\"M 59.690625 35.476563 \nL 260.570625 35.476563 \n\" style=\"fill: none; stroke: #000000; stroke-width: 0.8; stroke-linejoin: miter; stroke-linecap: square\"/>\n   </g>\n  </g>\n  <g id=\"axes_2\">\n   <g id=\"matplotlib.axis_3\">\n    <g id=\"xtick_4\">\n     <g id=\"line2d_22\">\n      <defs>\n       <path id=\"m650976fcb2\" d=\"M 0 0 \nL 0 -3.5 \n\" style=\"stroke: #1f77b4; stroke-width: 0.8\"/>\n      </defs>\n      <g>\n       <use xlink:href=\"#m650976fcb2\" x=\"59.690625\" y=\"35.476563\" style=\"fill: #1f77b4; stroke: #1f77b4; stroke-width: 0.8\"/>\n      </g>\n     </g>\n     <g id=\"text_13\">\n      <!-- 0 -->\n      <g style=\"fill: #1f77b4\" transform=\"translate(56.509375 26.396875) scale(0.1 -0.1)\">\n       <use xlink:href=\"#DejaVuSans-30\"/>\n      </g>\n     </g>\n    </g>\n    <g id=\"xtick_5\">\n     <g id=\"line2d_23\">\n      <g>\n       <use xlink:href=\"#m650976fcb2\" x=\"115.490625\" y=\"35.476563\" style=\"fill: #1f77b4; stroke: #1f77b4; stroke-width: 0.8\"/>\n      </g>\n     </g>\n     <g id=\"text_14\">\n      <!-- 100 -->\n      <g style=\"fill: #1f77b4\" transform=\"translate(105.946875 26.396875) scale(0.1 -0.1)\">\n       <use xlink:href=\"#DejaVuSans-31\"/>\n       <use xlink:href=\"#DejaVuSans-30\" x=\"63.623047\"/>\n       <use xlink:href=\"#DejaVuSans-30\" x=\"127.246094\"/>\n      </g>\n     </g>\n    </g>\n    <g id=\"xtick_6\">\n     <g id=\"line2d_24\">\n      <g>\n       <use xlink:href=\"#m650976fcb2\" x=\"171.290625\" y=\"35.476563\" style=\"fill: #1f77b4; stroke: #1f77b4; stroke-width: 0.8\"/>\n      </g>\n     </g>\n     <g id=\"text_15\">\n      <!-- 200 -->\n      <g style=\"fill: #1f77b4\" transform=\"translate(161.746875 26.396875) scale(0.1 -0.1)\">\n       <use xlink:href=\"#DejaVuSans-32\"/>\n       <use xlink:href=\"#DejaVuSans-30\" x=\"63.623047\"/>\n       <use xlink:href=\"#DejaVuSans-30\" x=\"127.246094\"/>\n      </g>\n     </g>\n    </g>\n    <g id=\"xtick_7\">\n     <g id=\"line2d_25\">\n      <g>\n       <use xlink:href=\"#m650976fcb2\" x=\"227.090625\" y=\"35.476563\" style=\"fill: #1f77b4; stroke: #1f77b4; stroke-width: 0.8\"/>\n      </g>\n     </g>\n     <g id=\"text_16\">\n      <!-- 300 -->\n      <g style=\"fill: #1f77b4\" transform=\"translate(217.546875 26.396875) scale(0.1 -0.1)\">\n       <use xlink:href=\"#DejaVuSans-33\"/>\n       <use xlink:href=\"#DejaVuSans-30\" x=\"63.623047\"/>\n       <use xlink:href=\"#DejaVuSans-30\" x=\"127.246094\"/>\n      </g>\n     </g>\n    </g>\n    <g id=\"text_17\">\n     <!-- Wind Direction (°) -->\n     <g style=\"fill: #1f77b4\" transform=\"translate(115.4025 14.798437) scale(0.1 -0.1)\">\n      <defs>\n       <path id=\"DejaVuSans-44\" d=\"M 1259 4147 \nL 1259 519 \nL 2022 519 \nQ 2988 519 3436 956 \nQ 3884 1394 3884 2338 \nQ 3884 3275 3436 3711 \nQ 2988 4147 2022 4147 \nL 1259 4147 \nz\nM 628 4666 \nL 1925 4666 \nQ 3281 4666 3915 4102 \nQ 4550 3538 4550 2338 \nQ 4550 1131 3912 565 \nQ 3275 0 1925 0 \nL 628 0 \nL 628 4666 \nz\n\" transform=\"scale(0.015625)\"/>\n       <path id=\"DejaVuSans-72\" d=\"M 2631 2963 \nQ 2534 3019 2420 3045 \nQ 2306 3072 2169 3072 \nQ 1681 3072 1420 2755 \nQ 1159 2438 1159 1844 \nL 1159 0 \nL 581 0 \nL 581 3500 \nL 1159 3500 \nL 1159 2956 \nQ 1341 3275 1631 3429 \nQ 1922 3584 2338 3584 \nQ 2397 3584 2469 3576 \nQ 2541 3569 2628 3553 \nL 2631 2963 \nz\n\" transform=\"scale(0.015625)\"/>\n       <path id=\"DejaVuSans-63\" d=\"M 3122 3366 \nL 3122 2828 \nQ 2878 2963 2633 3030 \nQ 2388 3097 2138 3097 \nQ 1578 3097 1268 2742 \nQ 959 2388 959 1747 \nQ 959 1106 1268 751 \nQ 1578 397 2138 397 \nQ 2388 397 2633 464 \nQ 2878 531 3122 666 \nL 3122 134 \nQ 2881 22 2623 -34 \nQ 2366 -91 2075 -91 \nQ 1284 -91 818 406 \nQ 353 903 353 1747 \nQ 353 2603 823 3093 \nQ 1294 3584 2113 3584 \nQ 2378 3584 2631 3529 \nQ 2884 3475 3122 3366 \nz\n\" transform=\"scale(0.015625)\"/>\n       <path id=\"DejaVuSans-b0\" d=\"M 1600 4347 \nQ 1350 4347 1178 4173 \nQ 1006 4000 1006 3750 \nQ 1006 3503 1178 3333 \nQ 1350 3163 1600 3163 \nQ 1850 3163 2022 3333 \nQ 2194 3503 2194 3750 \nQ 2194 3997 2020 4172 \nQ 1847 4347 1600 4347 \nz\nM 1600 4750 \nQ 1800 4750 1984 4673 \nQ 2169 4597 2303 4453 \nQ 2447 4313 2519 4134 \nQ 2591 3956 2591 3750 \nQ 2591 3338 2302 3052 \nQ 2013 2766 1594 2766 \nQ 1172 2766 890 3047 \nQ 609 3328 609 3750 \nQ 609 4169 896 4459 \nQ 1184 4750 1600 4750 \nz\n\" transform=\"scale(0.015625)\"/>\n      </defs>\n      <use xlink:href=\"#DejaVuSans-57\"/>\n      <use xlink:href=\"#DejaVuSans-69\" x=\"96.626953\"/>\n      <use xlink:href=\"#DejaVuSans-6e\" x=\"124.410156\"/>\n      <use xlink:href=\"#DejaVuSans-64\" x=\"187.789062\"/>\n      <use xlink:href=\"#DejaVuSans-20\" x=\"251.265625\"/>\n      <use xlink:href=\"#DejaVuSans-44\" x=\"283.052734\"/>\n      <use xlink:href=\"#DejaVuSans-69\" x=\"360.054688\"/>\n      <use xlink:href=\"#DejaVuSans-72\" x=\"387.837891\"/>\n      <use xlink:href=\"#DejaVuSans-65\" x=\"426.701172\"/>\n      <use xlink:href=\"#DejaVuSans-63\" x=\"488.224609\"/>\n      <use xlink:href=\"#DejaVuSans-74\" x=\"543.205078\"/>\n      <use xlink:href=\"#DejaVuSans-69\" x=\"582.414062\"/>\n      <use xlink:href=\"#DejaVuSans-6f\" x=\"610.197266\"/>\n      <use xlink:href=\"#DejaVuSans-6e\" x=\"671.378906\"/>\n      <use xlink:href=\"#DejaVuSans-20\" x=\"734.757812\"/>\n      <use xlink:href=\"#DejaVuSans-28\" x=\"766.544922\"/>\n      <use xlink:href=\"#DejaVuSans-b0\" x=\"805.558594\"/>\n      <use xlink:href=\"#DejaVuSans-29\" x=\"855.558594\"/>\n     </g>\n    </g>\n   </g>\n   <g id=\"line2d_26\">\n    <path d=\"M 182.721536 284.956563 \nL 204.613608 279.865134 \nL 207.522342 274.773705 \nL 205.43031 269.682277 \nL 207.160984 264.590848 \nL 207.0331 259.49942 \nL 216.127818 254.407991 \nL 214.280239 249.316563 \nL 217.148175 244.225134 \nL 221.191508 239.133705 \nL 216.433681 234.042277 \nL 217.598623 228.950848 \nL 220.639045 223.85942 \nL 222.588784 218.767991 \nL 224.824936 213.676563 \nL 237.836987 208.585134 \nL 247.168377 203.493705 \nL 254.323127 198.402277 \nL 256.078659 193.310848 \nL 258.496696 188.21942 \nL 259.345317 183.127991 \nL 258.185321 178.036563 \nL 253.453153 172.945134 \nL 248.66002 167.853705 \nL 243.835452 162.762277 \nL 238.748505 157.670848 \nL 233.445099 152.57942 \nL 231.237014 147.487991 \nL 229.468582 142.396563 \nL 227.70015 137.305134 \nL 222.651615 132.213705 \nL 218.707415 127.122277 \nL 218.496665 122.030848 \nL 218.285915 116.93942 \nL 218.479799 111.847991 \nL 218.818149 106.756563 \nL 219.156498 101.665134 \nL 218.683432 96.573705 \nL 217.473723 91.482277 \nL 216.264014 86.390848 \nL 215.200851 81.29942 \nL 214.35691 76.207991 \nL 213.592567 71.116563 \nL 212.841857 66.025134 \nL 213.109623 60.933705 \nL 214.644377 55.842277 \nL 216.179131 50.750848 \nL 217.142511 45.65942 \nL 217.648498 40.567991 \nL 218.154485 35.476563 \n\" clip-path=\"url(#pc3f8c5efa5)\" style=\"fill: none; stroke: #1f77b4; stroke-width: 1.5; stroke-linecap: square\"/>\n   </g>\n   <g id=\"patch_7\">\n    <path d=\"M 59.690625 284.956563 \nL 59.690625 35.476563 \n\" style=\"fill: none; stroke: #000000; stroke-width: 0.8; stroke-linejoin: miter; stroke-linecap: square\"/>\n   </g>\n   <g id=\"patch_8\">\n    <path d=\"M 260.570625 284.956563 \nL 260.570625 35.476563 \n\" style=\"fill: none; stroke: #000000; stroke-width: 0.8; stroke-linejoin: miter; stroke-linecap: square\"/>\n   </g>\n   <g id=\"patch_9\">\n    <path d=\"M 59.690625 284.956563 \nL 260.570625 284.956563 \n\" style=\"fill: none; stroke: #000000; stroke-width: 0.8; stroke-linejoin: miter; stroke-linecap: square\"/>\n   </g>\n   <g id=\"patch_10\">\n    <path d=\"M 59.690625 35.476563 \nL 260.570625 35.476563 \n\" style=\"fill: none; stroke: #000000; stroke-width: 0.8; stroke-linejoin: miter; stroke-linecap: square\"/>\n   </g>\n  </g>\n  <g id=\"axes_3\">\n   <g id=\"patch_11\">\n    <path d=\"M 361.010625 284.956563 \nL 561.890625 284.956563 \nL 561.890625 35.476563 \nL 361.010625 35.476563 \nz\n\" style=\"fill: #ffffff\"/>\n   </g>\n   <g id=\"matplotlib.axis_4\">\n    <g id=\"xtick_8\">\n     <g id=\"line2d_27\">\n      <path d=\"M 390.736109 284.956563 \nL 390.736109 35.476563 \n\" clip-path=\"url(#p4e052f4ce4)\" style=\"fill: none; stroke: #b0b0b0; stroke-width: 0.8; stroke-linecap: square\"/>\n     </g>\n     <g id=\"line2d_28\">\n      <g>\n       <use xlink:href=\"#mf0d9ef636f\" x=\"390.736109\" y=\"284.956563\" style=\"fill: #ff7f0e; stroke: #ff7f0e; stroke-width: 0.8\"/>\n      </g>\n     </g>\n     <g id=\"text_18\">\n      <!-- 280 -->\n      <g style=\"fill: #ff7f0e\" transform=\"translate(381.192359 299.555) scale(0.1 -0.1)\">\n       <defs>\n        <path id=\"DejaVuSans-38\" d=\"M 2034 2216 \nQ 1584 2216 1326 1975 \nQ 1069 1734 1069 1313 \nQ 1069 891 1326 650 \nQ 1584 409 2034 409 \nQ 2484 409 2743 651 \nQ 3003 894 3003 1313 \nQ 3003 1734 2745 1975 \nQ 2488 2216 2034 2216 \nz\nM 1403 2484 \nQ 997 2584 770 2862 \nQ 544 3141 544 3541 \nQ 544 4100 942 4425 \nQ 1341 4750 2034 4750 \nQ 2731 4750 3128 4425 \nQ 3525 4100 3525 3541 \nQ 3525 3141 3298 2862 \nQ 3072 2584 2669 2484 \nQ 3125 2378 3379 2068 \nQ 3634 1759 3634 1313 \nQ 3634 634 3220 271 \nQ 2806 -91 2034 -91 \nQ 1263 -91 848 271 \nQ 434 634 434 1313 \nQ 434 1759 690 2068 \nQ 947 2378 1403 2484 \nz\nM 1172 3481 \nQ 1172 3119 1398 2916 \nQ 1625 2713 2034 2713 \nQ 2441 2713 2670 2916 \nQ 2900 3119 2900 3481 \nQ 2900 3844 2670 4047 \nQ 2441 4250 2034 4250 \nQ 1625 4250 1398 4047 \nQ 1172 3844 1172 3481 \nz\n\" transform=\"scale(0.015625)\"/>\n       </defs>\n       <use xlink:href=\"#DejaVuSans-32\"/>\n       <use xlink:href=\"#DejaVuSans-38\" x=\"63.623047\"/>\n       <use xlink:href=\"#DejaVuSans-30\" x=\"127.246094\"/>\n      </g>\n     </g>\n    </g>\n    <g id=\"xtick_9\">\n     <g id=\"line2d_29\">\n      <path d=\"M 447.795894 284.956563 \nL 447.795894 35.476563 \n\" clip-path=\"url(#p4e052f4ce4)\" style=\"fill: none; stroke: #b0b0b0; stroke-width: 0.8; stroke-linecap: square\"/>\n     </g>\n     <g id=\"line2d_30\">\n      <g>\n       <use xlink:href=\"#mf0d9ef636f\" x=\"447.795894\" y=\"284.956563\" style=\"fill: #ff7f0e; stroke: #ff7f0e; stroke-width: 0.8\"/>\n      </g>\n     </g>\n     <g id=\"text_19\">\n      <!-- 300 -->\n      <g style=\"fill: #ff7f0e\" transform=\"translate(438.252144 299.555) scale(0.1 -0.1)\">\n       <use xlink:href=\"#DejaVuSans-33\"/>\n       <use xlink:href=\"#DejaVuSans-30\" x=\"63.623047\"/>\n       <use xlink:href=\"#DejaVuSans-30\" x=\"127.246094\"/>\n      </g>\n     </g>\n    </g>\n    <g id=\"xtick_10\">\n     <g id=\"line2d_31\">\n      <path d=\"M 504.855678 284.956563 \nL 504.855678 35.476563 \n\" clip-path=\"url(#p4e052f4ce4)\" style=\"fill: none; stroke: #b0b0b0; stroke-width: 0.8; stroke-linecap: square\"/>\n     </g>\n     <g id=\"line2d_32\">\n      <g>\n       <use xlink:href=\"#mf0d9ef636f\" x=\"504.855678\" y=\"284.956563\" style=\"fill: #ff7f0e; stroke: #ff7f0e; stroke-width: 0.8\"/>\n      </g>\n     </g>\n     <g id=\"text_20\">\n      <!-- 320 -->\n      <g style=\"fill: #ff7f0e\" transform=\"translate(495.311928 299.555) scale(0.1 -0.1)\">\n       <use xlink:href=\"#DejaVuSans-33\"/>\n       <use xlink:href=\"#DejaVuSans-32\" x=\"63.623047\"/>\n       <use xlink:href=\"#DejaVuSans-30\" x=\"127.246094\"/>\n      </g>\n     </g>\n    </g>\n    <g id=\"text_21\">\n     <!-- Speed of Sound (m/s) -->\n     <g style=\"fill: #ff7f0e\" transform=\"translate(407.381875 313.233125) scale(0.1 -0.1)\">\n      <defs>\n       <path id=\"DejaVuSans-66\" d=\"M 2375 4863 \nL 2375 4384 \nL 1825 4384 \nQ 1516 4384 1395 4259 \nQ 1275 4134 1275 3809 \nL 1275 3500 \nL 2222 3500 \nL 2222 3053 \nL 1275 3053 \nL 1275 0 \nL 697 0 \nL 697 3053 \nL 147 3053 \nL 147 3500 \nL 697 3500 \nL 697 3744 \nQ 697 4328 969 4595 \nQ 1241 4863 1831 4863 \nL 2375 4863 \nz\n\" transform=\"scale(0.015625)\"/>\n       <path id=\"DejaVuSans-75\" d=\"M 544 1381 \nL 544 3500 \nL 1119 3500 \nL 1119 1403 \nQ 1119 906 1312 657 \nQ 1506 409 1894 409 \nQ 2359 409 2629 706 \nQ 2900 1003 2900 1516 \nL 2900 3500 \nL 3475 3500 \nL 3475 0 \nL 2900 0 \nL 2900 538 \nQ 2691 219 2414 64 \nQ 2138 -91 1772 -91 \nQ 1169 -91 856 284 \nQ 544 659 544 1381 \nz\nM 1991 3584 \nL 1991 3584 \nz\n\" transform=\"scale(0.015625)\"/>\n      </defs>\n      <use xlink:href=\"#DejaVuSans-53\"/>\n      <use xlink:href=\"#DejaVuSans-70\" x=\"63.476562\"/>\n      <use xlink:href=\"#DejaVuSans-65\" x=\"126.953125\"/>\n      <use xlink:href=\"#DejaVuSans-65\" x=\"188.476562\"/>\n      <use xlink:href=\"#DejaVuSans-64\" x=\"250\"/>\n      <use xlink:href=\"#DejaVuSans-20\" x=\"313.476562\"/>\n      <use xlink:href=\"#DejaVuSans-6f\" x=\"345.263672\"/>\n      <use xlink:href=\"#DejaVuSans-66\" x=\"406.445312\"/>\n      <use xlink:href=\"#DejaVuSans-20\" x=\"441.650391\"/>\n      <use xlink:href=\"#DejaVuSans-53\" x=\"473.4375\"/>\n      <use xlink:href=\"#DejaVuSans-6f\" x=\"536.914062\"/>\n      <use xlink:href=\"#DejaVuSans-75\" x=\"598.095703\"/>\n      <use xlink:href=\"#DejaVuSans-6e\" x=\"661.474609\"/>\n      <use xlink:href=\"#DejaVuSans-64\" x=\"724.853516\"/>\n      <use xlink:href=\"#DejaVuSans-20\" x=\"788.330078\"/>\n      <use xlink:href=\"#DejaVuSans-28\" x=\"820.117188\"/>\n      <use xlink:href=\"#DejaVuSans-6d\" x=\"859.130859\"/>\n      <use xlink:href=\"#DejaVuSans-2f\" x=\"956.542969\"/>\n      <use xlink:href=\"#DejaVuSans-73\" x=\"990.234375\"/>\n      <use xlink:href=\"#DejaVuSans-29\" x=\"1042.333984\"/>\n     </g>\n    </g>\n   </g>\n   <g id=\"matplotlib.axis_5\">\n    <g id=\"ytick_8\">\n     <g id=\"line2d_33\">\n      <path d=\"M 361.010625 252.786849 \nL 561.890625 252.786849 \n\" clip-path=\"url(#p4e052f4ce4)\" style=\"fill: none; stroke: #b0b0b0; stroke-width: 0.8; stroke-linecap: square\"/>\n     </g>\n     <g id=\"line2d_34\">\n      <g>\n       <use xlink:href=\"#m9c7e7404e8\" x=\"361.010625\" y=\"252.786849\" style=\"stroke: #000000; stroke-width: 0.8\"/>\n      </g>\n     </g>\n     <g id=\"text_22\">\n      <!-- 10000 -->\n      <g transform=\"translate(322.198125 256.586068) scale(0.1 -0.1)\">\n       <use xlink:href=\"#DejaVuSans-31\"/>\n       <use xlink:href=\"#DejaVuSans-30\" x=\"63.623047\"/>\n       <use xlink:href=\"#DejaVuSans-30\" x=\"127.246094\"/>\n       <use xlink:href=\"#DejaVuSans-30\" x=\"190.869141\"/>\n       <use xlink:href=\"#DejaVuSans-30\" x=\"254.492188\"/>\n      </g>\n     </g>\n    </g>\n    <g id=\"ytick_9\">\n     <g id=\"line2d_35\">\n      <path d=\"M 361.010625 220.383835 \nL 561.890625 220.383835 \n\" clip-path=\"url(#p4e052f4ce4)\" style=\"fill: none; stroke: #b0b0b0; stroke-width: 0.8; stroke-linecap: square\"/>\n     </g>\n     <g id=\"line2d_36\">\n      <g>\n       <use xlink:href=\"#m9c7e7404e8\" x=\"361.010625\" y=\"220.383835\" style=\"stroke: #000000; stroke-width: 0.8\"/>\n      </g>\n     </g>\n     <g id=\"text_23\">\n      <!-- 20000 -->\n      <g transform=\"translate(322.198125 224.183053) scale(0.1 -0.1)\">\n       <use xlink:href=\"#DejaVuSans-32\"/>\n       <use xlink:href=\"#DejaVuSans-30\" x=\"63.623047\"/>\n       <use xlink:href=\"#DejaVuSans-30\" x=\"127.246094\"/>\n       <use xlink:href=\"#DejaVuSans-30\" x=\"190.869141\"/>\n       <use xlink:href=\"#DejaVuSans-30\" x=\"254.492188\"/>\n      </g>\n     </g>\n    </g>\n    <g id=\"ytick_10\">\n     <g id=\"line2d_37\">\n      <path d=\"M 361.010625 187.98082 \nL 561.890625 187.98082 \n\" clip-path=\"url(#p4e052f4ce4)\" style=\"fill: none; stroke: #b0b0b0; stroke-width: 0.8; stroke-linecap: square\"/>\n     </g>\n     <g id=\"line2d_38\">\n      <g>\n       <use xlink:href=\"#m9c7e7404e8\" x=\"361.010625\" y=\"187.98082\" style=\"stroke: #000000; stroke-width: 0.8\"/>\n      </g>\n     </g>\n     <g id=\"text_24\">\n      <!-- 30000 -->\n      <g transform=\"translate(322.198125 191.780039) scale(0.1 -0.1)\">\n       <use xlink:href=\"#DejaVuSans-33\"/>\n       <use xlink:href=\"#DejaVuSans-30\" x=\"63.623047\"/>\n       <use xlink:href=\"#DejaVuSans-30\" x=\"127.246094\"/>\n       <use xlink:href=\"#DejaVuSans-30\" x=\"190.869141\"/>\n       <use xlink:href=\"#DejaVuSans-30\" x=\"254.492188\"/>\n      </g>\n     </g>\n    </g>\n    <g id=\"ytick_11\">\n     <g id=\"line2d_39\">\n      <path d=\"M 361.010625 155.577805 \nL 561.890625 155.577805 \n\" clip-path=\"url(#p4e052f4ce4)\" style=\"fill: none; stroke: #b0b0b0; stroke-width: 0.8; stroke-linecap: square\"/>\n     </g>\n     <g id=\"line2d_40\">\n      <g>\n       <use xlink:href=\"#m9c7e7404e8\" x=\"361.010625\" y=\"155.577805\" style=\"stroke: #000000; stroke-width: 0.8\"/>\n      </g>\n     </g>\n     <g id=\"text_25\">\n      <!-- 40000 -->\n      <g transform=\"translate(322.198125 159.377024) scale(0.1 -0.1)\">\n       <use xlink:href=\"#DejaVuSans-34\"/>\n       <use xlink:href=\"#DejaVuSans-30\" x=\"63.623047\"/>\n       <use xlink:href=\"#DejaVuSans-30\" x=\"127.246094\"/>\n       <use xlink:href=\"#DejaVuSans-30\" x=\"190.869141\"/>\n       <use xlink:href=\"#DejaVuSans-30\" x=\"254.492188\"/>\n      </g>\n     </g>\n    </g>\n    <g id=\"ytick_12\">\n     <g id=\"line2d_41\">\n      <path d=\"M 361.010625 123.17479 \nL 561.890625 123.17479 \n\" clip-path=\"url(#p4e052f4ce4)\" style=\"fill: none; stroke: #b0b0b0; stroke-width: 0.8; stroke-linecap: square\"/>\n     </g>\n     <g id=\"line2d_42\">\n      <g>\n       <use xlink:href=\"#m9c7e7404e8\" x=\"361.010625\" y=\"123.17479\" style=\"stroke: #000000; stroke-width: 0.8\"/>\n      </g>\n     </g>\n     <g id=\"text_26\">\n      <!-- 50000 -->\n      <g transform=\"translate(322.198125 126.974009) scale(0.1 -0.1)\">\n       <use xlink:href=\"#DejaVuSans-35\"/>\n       <use xlink:href=\"#DejaVuSans-30\" x=\"63.623047\"/>\n       <use xlink:href=\"#DejaVuSans-30\" x=\"127.246094\"/>\n       <use xlink:href=\"#DejaVuSans-30\" x=\"190.869141\"/>\n       <use xlink:href=\"#DejaVuSans-30\" x=\"254.492188\"/>\n      </g>\n     </g>\n    </g>\n    <g id=\"ytick_13\">\n     <g id=\"line2d_43\">\n      <path d=\"M 361.010625 90.771776 \nL 561.890625 90.771776 \n\" clip-path=\"url(#p4e052f4ce4)\" style=\"fill: none; stroke: #b0b0b0; stroke-width: 0.8; stroke-linecap: square\"/>\n     </g>\n     <g id=\"line2d_44\">\n      <g>\n       <use xlink:href=\"#m9c7e7404e8\" x=\"361.010625\" y=\"90.771776\" style=\"stroke: #000000; stroke-width: 0.8\"/>\n      </g>\n     </g>\n     <g id=\"text_27\">\n      <!-- 60000 -->\n      <g transform=\"translate(322.198125 94.570994) scale(0.1 -0.1)\">\n       <use xlink:href=\"#DejaVuSans-36\"/>\n       <use xlink:href=\"#DejaVuSans-30\" x=\"63.623047\"/>\n       <use xlink:href=\"#DejaVuSans-30\" x=\"127.246094\"/>\n       <use xlink:href=\"#DejaVuSans-30\" x=\"190.869141\"/>\n       <use xlink:href=\"#DejaVuSans-30\" x=\"254.492188\"/>\n      </g>\n     </g>\n    </g>\n    <g id=\"ytick_14\">\n     <g id=\"line2d_45\">\n      <path d=\"M 361.010625 58.368761 \nL 561.890625 58.368761 \n\" clip-path=\"url(#p4e052f4ce4)\" style=\"fill: none; stroke: #b0b0b0; stroke-width: 0.8; stroke-linecap: square\"/>\n     </g>\n     <g id=\"line2d_46\">\n      <g>\n       <use xlink:href=\"#m9c7e7404e8\" x=\"361.010625\" y=\"58.368761\" style=\"stroke: #000000; stroke-width: 0.8\"/>\n      </g>\n     </g>\n     <g id=\"text_28\">\n      <!-- 70000 -->\n      <g transform=\"translate(322.198125 62.16798) scale(0.1 -0.1)\">\n       <use xlink:href=\"#DejaVuSans-37\"/>\n       <use xlink:href=\"#DejaVuSans-30\" x=\"63.623047\"/>\n       <use xlink:href=\"#DejaVuSans-30\" x=\"127.246094\"/>\n       <use xlink:href=\"#DejaVuSans-30\" x=\"190.869141\"/>\n       <use xlink:href=\"#DejaVuSans-30\" x=\"254.492188\"/>\n      </g>\n     </g>\n    </g>\n    <g id=\"text_29\">\n     <!-- Height Above Sea Level (m) -->\n     <g transform=\"translate(316.118438 230.078281) rotate(-90) scale(0.1 -0.1)\">\n      <use xlink:href=\"#DejaVuSans-48\"/>\n      <use xlink:href=\"#DejaVuSans-65\" x=\"75.195312\"/>\n      <use xlink:href=\"#DejaVuSans-69\" x=\"136.71875\"/>\n      <use xlink:href=\"#DejaVuSans-67\" x=\"164.501953\"/>\n      <use xlink:href=\"#DejaVuSans-68\" x=\"227.978516\"/>\n      <use xlink:href=\"#DejaVuSans-74\" x=\"291.357422\"/>\n      <use xlink:href=\"#DejaVuSans-20\" x=\"330.566406\"/>\n      <use xlink:href=\"#DejaVuSans-41\" x=\"362.353516\"/>\n      <use xlink:href=\"#DejaVuSans-62\" x=\"430.761719\"/>\n      <use xlink:href=\"#DejaVuSans-6f\" x=\"494.238281\"/>\n      <use xlink:href=\"#DejaVuSans-76\" x=\"555.419922\"/>\n      <use xlink:href=\"#DejaVuSans-65\" x=\"614.599609\"/>\n      <use xlink:href=\"#DejaVuSans-20\" x=\"676.123047\"/>\n      <use xlink:href=\"#DejaVuSans-53\" x=\"707.910156\"/>\n      <use xlink:href=\"#DejaVuSans-65\" x=\"771.386719\"/>\n      <use xlink:href=\"#DejaVuSans-61\" x=\"832.910156\"/>\n      <use xlink:href=\"#DejaVuSans-20\" x=\"894.189453\"/>\n      <use xlink:href=\"#DejaVuSans-4c\" x=\"925.976562\"/>\n      <use xlink:href=\"#DejaVuSans-65\" x=\"979.939453\"/>\n      <use xlink:href=\"#DejaVuSans-76\" x=\"1041.462891\"/>\n      <use xlink:href=\"#DejaVuSans-65\" x=\"1100.642578\"/>\n      <use xlink:href=\"#DejaVuSans-6c\" x=\"1162.166016\"/>\n      <use xlink:href=\"#DejaVuSans-20\" x=\"1189.949219\"/>\n      <use xlink:href=\"#DejaVuSans-28\" x=\"1221.736328\"/>\n      <use xlink:href=\"#DejaVuSans-6d\" x=\"1260.75\"/>\n      <use xlink:href=\"#DejaVuSans-29\" x=\"1358.162109\"/>\n     </g>\n    </g>\n   </g>\n   <g id=\"line2d_47\">\n    <path d=\"M 552.759716 284.956563 \nL 544.359107 279.865134 \nL 536.694562 274.773705 \nL 519.303722 269.682277 \nL 500.614474 264.590848 \nL 481.679887 259.49942 \nL 457.66677 254.407991 \nL 431.240779 249.316563 \nL 415.834359 244.225134 \nL 419.383574 239.133705 \nL 425.306885 234.042277 \nL 427.998394 228.950848 \nL 429.344642 223.85942 \nL 430.49843 218.767991 \nL 429.225018 213.676563 \nL 432.876861 208.585134 \nL 432.378893 203.493705 \nL 431.124924 198.402277 \nL 429.43409 193.310848 \nL 429.238362 188.21942 \nL 429.777987 183.127991 \nL 431.258754 178.036563 \nL 433.123974 172.945134 \nL 433.435226 167.853705 \nL 432.826265 162.762277 \nL 436.828141 157.670848 \nL 444.633914 152.57942 \nL 451.665014 147.487991 \nL 458.586081 142.396563 \nL 465.507148 137.305134 \nL 471.721477 132.213705 \nL 476.910925 127.122277 \nL 479.828406 122.030848 \nL 482.745887 116.93942 \nL 483.623285 111.847991 \nL 483.772319 106.756563 \nL 483.921353 101.665134 \nL 480.107647 96.573705 \nL 472.696369 91.482277 \nL 465.285092 86.390848 \nL 458.493398 81.29942 \nL 452.628553 76.207991 \nL 450.8976 71.116563 \nL 449.874689 66.025134 \nL 444.541589 60.933705 \nL 433.846591 55.842277 \nL 423.151592 50.750848 \nL 407.908684 45.65942 \nL 389.025109 40.567991 \nL 370.141534 35.476563 \n\" clip-path=\"url(#p4e052f4ce4)\" style=\"fill: none; stroke: #ff7f0e; stroke-width: 1.5; stroke-linecap: square\"/>\n   </g>\n   <g id=\"patch_12\">\n    <path d=\"M 361.010625 284.956563 \nL 361.010625 35.476563 \n\" style=\"fill: none; stroke: #000000; stroke-width: 0.8; stroke-linejoin: miter; stroke-linecap: square\"/>\n   </g>\n   <g id=\"patch_13\">\n    <path d=\"M 561.890625 284.956563 \nL 561.890625 35.476563 \n\" style=\"fill: none; stroke: #000000; stroke-width: 0.8; stroke-linejoin: miter; stroke-linecap: square\"/>\n   </g>\n   <g id=\"patch_14\">\n    <path d=\"M 361.010625 284.956563 \nL 561.890625 284.956563 \n\" style=\"fill: none; stroke: #000000; stroke-width: 0.8; stroke-linejoin: miter; stroke-linecap: square\"/>\n   </g>\n   <g id=\"patch_15\">\n    <path d=\"M 361.010625 35.476563 \nL 561.890625 35.476563 \n\" style=\"fill: none; stroke: #000000; stroke-width: 0.8; stroke-linejoin: miter; stroke-linecap: square\"/>\n   </g>\n  </g>\n  <g id=\"axes_4\">\n   <g id=\"matplotlib.axis_6\">\n    <g id=\"xtick_11\">\n     <g id=\"line2d_48\">\n      <g>\n       <use xlink:href=\"#m650976fcb2\" x=\"370.13875\" y=\"35.476563\" style=\"fill: #1f77b4; stroke: #1f77b4; stroke-width: 0.8\"/>\n      </g>\n     </g>\n     <g id=\"text_30\">\n      <!-- 0.00 -->\n      <g style=\"fill: #1f77b4\" transform=\"translate(359.005938 26.396875) scale(0.1 -0.1)\">\n       <defs>\n        <path id=\"DejaVuSans-2e\" d=\"M 684 794 \nL 1344 794 \nL 1344 0 \nL 684 0 \nL 684 794 \nz\n\" transform=\"scale(0.015625)\"/>\n       </defs>\n       <use xlink:href=\"#DejaVuSans-30\"/>\n       <use xlink:href=\"#DejaVuSans-2e\" x=\"63.623047\"/>\n       <use xlink:href=\"#DejaVuSans-30\" x=\"95.410156\"/>\n       <use xlink:href=\"#DejaVuSans-30\" x=\"159.033203\"/>\n      </g>\n     </g>\n    </g>\n    <g id=\"xtick_12\">\n     <g id=\"line2d_49\">\n      <g>\n       <use xlink:href=\"#m650976fcb2\" x=\"407.128646\" y=\"35.476563\" style=\"fill: #1f77b4; stroke: #1f77b4; stroke-width: 0.8\"/>\n      </g>\n     </g>\n     <g id=\"text_31\">\n      <!-- 0.25 -->\n      <g style=\"fill: #1f77b4\" transform=\"translate(395.995833 26.396875) scale(0.1 -0.1)\">\n       <use xlink:href=\"#DejaVuSans-30\"/>\n       <use xlink:href=\"#DejaVuSans-2e\" x=\"63.623047\"/>\n       <use xlink:href=\"#DejaVuSans-32\" x=\"95.410156\"/>\n       <use xlink:href=\"#DejaVuSans-35\" x=\"159.033203\"/>\n      </g>\n     </g>\n    </g>\n    <g id=\"xtick_13\">\n     <g id=\"line2d_50\">\n      <g>\n       <use xlink:href=\"#m650976fcb2\" x=\"444.118542\" y=\"35.476563\" style=\"fill: #1f77b4; stroke: #1f77b4; stroke-width: 0.8\"/>\n      </g>\n     </g>\n     <g id=\"text_32\">\n      <!-- 0.50 -->\n      <g style=\"fill: #1f77b4\" transform=\"translate(432.985729 26.396875) scale(0.1 -0.1)\">\n       <use xlink:href=\"#DejaVuSans-30\"/>\n       <use xlink:href=\"#DejaVuSans-2e\" x=\"63.623047\"/>\n       <use xlink:href=\"#DejaVuSans-35\" x=\"95.410156\"/>\n       <use xlink:href=\"#DejaVuSans-30\" x=\"159.033203\"/>\n      </g>\n     </g>\n    </g>\n    <g id=\"xtick_14\">\n     <g id=\"line2d_51\">\n      <g>\n       <use xlink:href=\"#m650976fcb2\" x=\"481.108437\" y=\"35.476563\" style=\"fill: #1f77b4; stroke: #1f77b4; stroke-width: 0.8\"/>\n      </g>\n     </g>\n     <g id=\"text_33\">\n      <!-- 0.75 -->\n      <g style=\"fill: #1f77b4\" transform=\"translate(469.975625 26.396875) scale(0.1 -0.1)\">\n       <use xlink:href=\"#DejaVuSans-30\"/>\n       <use xlink:href=\"#DejaVuSans-2e\" x=\"63.623047\"/>\n       <use xlink:href=\"#DejaVuSans-37\" x=\"95.410156\"/>\n       <use xlink:href=\"#DejaVuSans-35\" x=\"159.033203\"/>\n      </g>\n     </g>\n    </g>\n    <g id=\"xtick_15\">\n     <g id=\"line2d_52\">\n      <g>\n       <use xlink:href=\"#m650976fcb2\" x=\"518.098333\" y=\"35.476563\" style=\"fill: #1f77b4; stroke: #1f77b4; stroke-width: 0.8\"/>\n      </g>\n     </g>\n     <g id=\"text_34\">\n      <!-- 1.00 -->\n      <g style=\"fill: #1f77b4\" transform=\"translate(506.965521 26.396875) scale(0.1 -0.1)\">\n       <use xlink:href=\"#DejaVuSans-31\"/>\n       <use xlink:href=\"#DejaVuSans-2e\" x=\"63.623047\"/>\n       <use xlink:href=\"#DejaVuSans-30\" x=\"95.410156\"/>\n       <use xlink:href=\"#DejaVuSans-30\" x=\"159.033203\"/>\n      </g>\n     </g>\n    </g>\n    <g id=\"xtick_16\">\n     <g id=\"line2d_53\">\n      <g>\n       <use xlink:href=\"#m650976fcb2\" x=\"555.088229\" y=\"35.476563\" style=\"fill: #1f77b4; stroke: #1f77b4; stroke-width: 0.8\"/>\n      </g>\n     </g>\n     <g id=\"text_35\">\n      <!-- 1.25 -->\n      <g style=\"fill: #1f77b4\" transform=\"translate(543.955416 26.396875) scale(0.1 -0.1)\">\n       <use xlink:href=\"#DejaVuSans-31\"/>\n       <use xlink:href=\"#DejaVuSans-2e\" x=\"63.623047\"/>\n       <use xlink:href=\"#DejaVuSans-32\" x=\"95.410156\"/>\n       <use xlink:href=\"#DejaVuSans-35\" x=\"159.033203\"/>\n      </g>\n     </g>\n    </g>\n    <g id=\"text_36\">\n     <!-- Density (kg/m³) -->\n     <g style=\"fill: #1f77b4\" transform=\"translate(422.3225 14.798437) scale(0.1 -0.1)\">\n      <defs>\n       <path id=\"DejaVuSans-79\" d=\"M 2059 -325 \nQ 1816 -950 1584 -1140 \nQ 1353 -1331 966 -1331 \nL 506 -1331 \nL 506 -850 \nL 844 -850 \nQ 1081 -850 1212 -737 \nQ 1344 -625 1503 -206 \nL 1606 56 \nL 191 3500 \nL 800 3500 \nL 1894 763 \nL 2988 3500 \nL 3597 3500 \nL 2059 -325 \nz\n\" transform=\"scale(0.015625)\"/>\n       <path id=\"DejaVuSans-6b\" d=\"M 581 4863 \nL 1159 4863 \nL 1159 1991 \nL 2875 3500 \nL 3609 3500 \nL 1753 1863 \nL 3688 0 \nL 2938 0 \nL 1159 1709 \nL 1159 0 \nL 581 0 \nL 581 4863 \nz\n\" transform=\"scale(0.015625)\"/>\n       <path id=\"DejaVuSans-b3\" d=\"M 1638 3500 \nQ 1925 3444 2083 3273 \nQ 2241 3103 2241 2847 \nQ 2241 2459 1944 2250 \nQ 1647 2041 1094 2041 \nQ 916 2041 720 2073 \nQ 525 2106 306 2169 \nL 306 2547 \nQ 469 2463 655 2422 \nQ 841 2381 1050 2381 \nQ 1391 2381 1578 2504 \nQ 1766 2628 1766 2847 \nQ 1766 3078 1592 3197 \nQ 1419 3316 1081 3316 \nL 813 3316 \nL 813 3653 \nL 1106 3653 \nQ 1400 3653 1551 3751 \nQ 1703 3850 1703 4038 \nQ 1703 4219 1547 4314 \nQ 1391 4409 1094 4409 \nQ 969 4409 809 4381 \nQ 650 4353 397 4281 \nL 397 4641 \nQ 625 4694 825 4722 \nQ 1025 4750 1197 4750 \nQ 1647 4750 1911 4565 \nQ 2175 4381 2175 4072 \nQ 2175 3856 2034 3706 \nQ 1894 3556 1638 3500 \nz\n\" transform=\"scale(0.015625)\"/>\n      </defs>\n      <use xlink:href=\"#DejaVuSans-44\"/>\n      <use xlink:href=\"#DejaVuSans-65\" x=\"77.001953\"/>\n      <use xlink:href=\"#DejaVuSans-6e\" x=\"138.525391\"/>\n      <use xlink:href=\"#DejaVuSans-73\" x=\"201.904297\"/>\n      <use xlink:href=\"#DejaVuSans-69\" x=\"254.003906\"/>\n      <use xlink:href=\"#DejaVuSans-74\" x=\"281.787109\"/>\n      <use xlink:href=\"#DejaVuSans-79\" x=\"320.996094\"/>\n      <use xlink:href=\"#DejaVuSans-20\" x=\"380.175781\"/>\n      <use xlink:href=\"#DejaVuSans-28\" x=\"411.962891\"/>\n      <use xlink:href=\"#DejaVuSans-6b\" x=\"450.976562\"/>\n      <use xlink:href=\"#DejaVuSans-67\" x=\"508.886719\"/>\n      <use xlink:href=\"#DejaVuSans-2f\" x=\"572.363281\"/>\n      <use xlink:href=\"#DejaVuSans-6d\" x=\"606.054688\"/>\n      <use xlink:href=\"#DejaVuSans-b3\" x=\"703.466797\"/>\n      <use xlink:href=\"#DejaVuSans-29\" x=\"743.554688\"/>\n     </g>\n    </g>\n   </g>\n   <g id=\"line2d_54\">\n    <path d=\"M 552.759716 284.956563 \nL 525.953082 279.865134 \nL 500.496469 274.773705 \nL 480.97472 269.682277 \nL 463.930904 264.590848 \nL 448.975895 259.49942 \nL 436.466134 254.407991 \nL 425.68125 249.316563 \nL 415.091324 244.225134 \nL 404.655294 239.133705 \nL 396.58816 234.042277 \nL 390.626951 228.950848 \nL 385.940773 223.85942 \nL 382.354871 218.767991 \nL 379.680282 213.676563 \nL 377.547882 208.585134 \nL 376.024327 203.493705 \nL 374.685757 198.402277 \nL 373.691828 193.310848 \nL 372.956768 188.21942 \nL 372.321842 183.127991 \nL 371.815074 178.036563 \nL 371.459978 172.945134 \nL 371.185064 167.853705 \nL 370.95741 162.762277 \nL 370.77158 157.670848 \nL 370.620256 152.57942 \nL 370.530542 147.487991 \nL 370.44958 142.396563 \nL 370.368617 137.305134 \nL 370.320666 132.213705 \nL 370.282189 127.122277 \nL 370.256294 122.030848 \nL 370.230399 116.93942 \nL 370.213846 111.847991 \nL 370.200629 106.756563 \nL 370.187412 101.665134 \nL 370.177759 96.573705 \nL 370.171343 91.482277 \nL 370.164926 86.390848 \nL 370.159431 81.29942 \nL 370.155315 76.207991 \nL 370.152306 71.116563 \nL 370.149487 66.025134 \nL 370.147271 60.933705 \nL 370.145805 55.842277 \nL 370.144339 50.750848 \nL 370.143219 45.65942 \nL 370.142376 40.567991 \nL 370.141534 35.476563 \n\" clip-path=\"url(#p4e052f4ce4)\" style=\"fill: none; stroke: #1f77b4; stroke-width: 1.5; stroke-linecap: square\"/>\n   </g>\n   <g id=\"patch_16\">\n    <path d=\"M 361.010625 284.956563 \nL 361.010625 35.476563 \n\" style=\"fill: none; stroke: #000000; stroke-width: 0.8; stroke-linejoin: miter; stroke-linecap: square\"/>\n   </g>\n   <g id=\"patch_17\">\n    <path d=\"M 561.890625 284.956563 \nL 561.890625 35.476563 \n\" style=\"fill: none; stroke: #000000; stroke-width: 0.8; stroke-linejoin: miter; stroke-linecap: square\"/>\n   </g>\n   <g id=\"patch_18\">\n    <path d=\"M 361.010625 284.956563 \nL 561.890625 284.956563 \n\" style=\"fill: none; stroke: #000000; stroke-width: 0.8; stroke-linejoin: miter; stroke-linecap: square\"/>\n   </g>\n   <g id=\"patch_19\">\n    <path d=\"M 361.010625 35.476563 \nL 561.890625 35.476563 \n\" style=\"fill: none; stroke: #000000; stroke-width: 0.8; stroke-linejoin: miter; stroke-linecap: square\"/>\n   </g>\n  </g>\n </g>\n <defs>\n  <clipPath id=\"pc3f8c5efa5\">\n   <rect x=\"59.690625\" y=\"35.476562\" width=\"200.88\" height=\"249.48\"/>\n  </clipPath>\n  <clipPath id=\"p4e052f4ce4\">\n   <rect x=\"361.010625\" y=\"35.476562\" width=\"200.88\" height=\"249.48\"/>\n  </clipPath>\n </defs>\n</svg>\n"
          },
          "metadata": {}
        }
      ],
      "source": [
        "env.info()"
      ]
    },
    {
      "cell_type": "markdown",
      "metadata": {
        "id": "Aksbs-pMNVFW"
      },
      "source": [
        "### Creating a Motor\n",
        "\n",
        "A solid rocket motor is used in this case. To create a motor, the SolidMotor class is used and the required arguments are given.\n",
        "\n",
        "The SolidMotor class requires the user to have a thrust curve ready. This can come either from a .eng file for a commercial motor, such as below, or a .csv file from a static test measurement.\n",
        "\n",
        "Besides the thrust curve, other parameters such as grain properties and nozzle dimensions must also be given.\n",
        "\n",
        "See [Solid Motor Class Usage Docs](https://docs.rocketpy.org/en/latest/user/motors/solidmotor.html) for more information.\n"
      ]
    },
    {
      "cell_type": "code",
      "execution_count": null,
      "metadata": {
        "id": "Vx1dZObwNVFX"
      },
      "outputs": [],
      "source": [
        "J250W = SolidMotor(\n",
        "    thrust_source=\"/content/AeroTech_J250W.eng\",\n",
        "    dry_mass=0.365,\n",
        "    dry_inertia=(0.125, 0.125, 0.002),\n",
        "    nozzle_radius=33 / 1000,\n",
        "    grain_number=5,\n",
        "    grain_density=1815,\n",
        "    grain_outer_radius=33 / 1000,\n",
        "    grain_initial_inner_radius=15 / 1000,\n",
        "    grain_initial_height=120 / 1000,\n",
        "    grain_separation=5 / 1000,\n",
        "    grains_center_of_mass_position=0.397,\n",
        "    center_of_dry_mass_position=0.317,\n",
        "    nozzle_position=0,\n",
        "    burn_time=2.8,\n",
        "    throat_radius=11 / 1000,\n",
        "    interpolation_method = 'linear',\n",
        "    coordinate_system_orientation=\"nozzle_to_combustion_chamber\",\n",
        ")"
      ]
    },
    {
      "cell_type": "markdown",
      "metadata": {
        "id": "E1LJDIa0NVFa"
      },
      "source": [
        "**Pay special attention to *position* related parameters:**\n",
        "More details on [Positions and Coordinate Systems](https://docs.rocketpy.org/en/latest/user/positions.html)\n"
      ]
    },
    {
      "cell_type": "markdown",
      "metadata": {
        "id": "ZajOOkXoBWSM"
      },
      "source": [
        "To see what our thrust curve looks like, along with other import properties, we invoke the info method yet again. You may try the all_info method if you want more information all at once!\n"
      ]
    },
    {
      "cell_type": "code",
      "execution_count": null,
      "metadata": {
        "id": "vjyPT7GVNVFb",
        "outputId": "b2f4ebe2-65db-41b2-b05f-36cc2a72e2b2",
        "colab": {
          "base_uri": "https://localhost:8080/",
          "height": 837
        }
      },
      "outputs": [
        {
          "output_type": "stream",
          "name": "stdout",
          "text": [
            "Nozzle Details\n",
            "Nozzle Radius: 0.033 m\n",
            "Nozzle Throat Radius: 0.011 m\n",
            "\n",
            "Grain Details\n",
            "Number of Grains: 5\n",
            "Grain Spacing: 0.005 m\n",
            "Grain Density: 1815 kg/m3\n",
            "Grain Outer Radius: 0.033 m\n",
            "Grain Inner Radius: 0.015 m\n",
            "Grain Height: 0.12 m\n",
            "Grain Volume: 0.000 m3\n",
            "Grain Mass: 0.591 kg\n",
            "\n",
            "Motor Details\n",
            "Total Burning Time: 2.8 s\n",
            "Total Propellant Mass: 2.956 kg\n",
            "Average Propellant Exhaust Velocity: 239.390 m/s\n",
            "Average Thrust: 252.720 N\n",
            "Maximum Thrust: 335.735 N at 0.497 s after ignition.\n",
            "Total Impulse: 707.615 Ns\n",
            "\n"
          ]
        },
        {
          "output_type": "display_data",
          "data": {
            "text/plain": [
              "<Figure size 640x480 with 1 Axes>"
            ],
            "image/svg+xml": "<?xml version=\"1.0\" encoding=\"utf-8\" standalone=\"no\"?>\n<!DOCTYPE svg PUBLIC \"-//W3C//DTD SVG 1.1//EN\"\n  \"http://www.w3.org/Graphics/SVG/1.1/DTD/svg11.dtd\">\n<svg xmlns:xlink=\"http://www.w3.org/1999/xlink\" width=\"411.285625pt\" height=\"325.986375pt\" viewBox=\"0 0 411.285625 325.986375\" xmlns=\"http://www.w3.org/2000/svg\" version=\"1.1\">\n <metadata>\n  <rdf:RDF xmlns:dc=\"http://purl.org/dc/elements/1.1/\" xmlns:cc=\"http://creativecommons.org/ns#\" xmlns:rdf=\"http://www.w3.org/1999/02/22-rdf-syntax-ns#\">\n   <cc:Work>\n    <dc:type rdf:resource=\"http://purl.org/dc/dcmitype/StillImage\"/>\n    <dc:date>2024-01-30T17:37:22.476201</dc:date>\n    <dc:format>image/svg+xml</dc:format>\n    <dc:creator>\n     <cc:Agent>\n      <dc:title>Matplotlib v3.7.1, https://matplotlib.org/</dc:title>\n     </cc:Agent>\n    </dc:creator>\n   </cc:Work>\n  </rdf:RDF>\n </metadata>\n <defs>\n  <style type=\"text/css\">*{stroke-linejoin: round; stroke-linecap: butt}</style>\n </defs>\n <g id=\"figure_1\">\n  <g id=\"patch_1\">\n   <path d=\"M 0 325.986375 \nL 411.285625 325.986375 \nL 411.285625 0 \nL 0 0 \nz\n\" style=\"fill: #ffffff\"/>\n  </g>\n  <g id=\"axes_1\">\n   <g id=\"patch_2\">\n    <path d=\"M 46.965625 288.430125 \nL 404.085625 288.430125 \nL 404.085625 22.318125 \nL 46.965625 22.318125 \nz\n\" style=\"fill: #ffffff\"/>\n   </g>\n   <g id=\"matplotlib.axis_1\">\n    <g id=\"xtick_1\">\n     <g id=\"line2d_1\">\n      <path d=\"M 63.198352 288.430125 \nL 63.198352 22.318125 \n\" clip-path=\"url(#p623f076adf)\" style=\"fill: none; stroke: #b0b0b0; stroke-width: 0.8; stroke-linecap: square\"/>\n     </g>\n     <g id=\"line2d_2\">\n      <defs>\n       <path id=\"m1e613b42f2\" d=\"M 0 0 \nL 0 3.5 \n\" style=\"stroke: #000000; stroke-width: 0.8\"/>\n      </defs>\n      <g>\n       <use xlink:href=\"#m1e613b42f2\" x=\"63.198352\" y=\"288.430125\" style=\"stroke: #000000; stroke-width: 0.8\"/>\n      </g>\n     </g>\n     <g id=\"text_1\">\n      <!-- 0.0 -->\n      <g transform=\"translate(55.24679 303.028562) scale(0.1 -0.1)\">\n       <defs>\n        <path id=\"DejaVuSans-30\" d=\"M 2034 4250 \nQ 1547 4250 1301 3770 \nQ 1056 3291 1056 2328 \nQ 1056 1369 1301 889 \nQ 1547 409 2034 409 \nQ 2525 409 2770 889 \nQ 3016 1369 3016 2328 \nQ 3016 3291 2770 3770 \nQ 2525 4250 2034 4250 \nz\nM 2034 4750 \nQ 2819 4750 3233 4129 \nQ 3647 3509 3647 2328 \nQ 3647 1150 3233 529 \nQ 2819 -91 2034 -91 \nQ 1250 -91 836 529 \nQ 422 1150 422 2328 \nQ 422 3509 836 4129 \nQ 1250 4750 2034 4750 \nz\n\" transform=\"scale(0.015625)\"/>\n        <path id=\"DejaVuSans-2e\" d=\"M 684 794 \nL 1344 794 \nL 1344 0 \nL 684 0 \nL 684 794 \nz\n\" transform=\"scale(0.015625)\"/>\n       </defs>\n       <use xlink:href=\"#DejaVuSans-30\"/>\n       <use xlink:href=\"#DejaVuSans-2e\" x=\"63.623047\"/>\n       <use xlink:href=\"#DejaVuSans-30\" x=\"95.410156\"/>\n      </g>\n     </g>\n    </g>\n    <g id=\"xtick_2\">\n     <g id=\"line2d_3\">\n      <path d=\"M 121.172378 288.430125 \nL 121.172378 22.318125 \n\" clip-path=\"url(#p623f076adf)\" style=\"fill: none; stroke: #b0b0b0; stroke-width: 0.8; stroke-linecap: square\"/>\n     </g>\n     <g id=\"line2d_4\">\n      <g>\n       <use xlink:href=\"#m1e613b42f2\" x=\"121.172378\" y=\"288.430125\" style=\"stroke: #000000; stroke-width: 0.8\"/>\n      </g>\n     </g>\n     <g id=\"text_2\">\n      <!-- 0.5 -->\n      <g transform=\"translate(113.220816 303.028562) scale(0.1 -0.1)\">\n       <defs>\n        <path id=\"DejaVuSans-35\" d=\"M 691 4666 \nL 3169 4666 \nL 3169 4134 \nL 1269 4134 \nL 1269 2991 \nQ 1406 3038 1543 3061 \nQ 1681 3084 1819 3084 \nQ 2600 3084 3056 2656 \nQ 3513 2228 3513 1497 \nQ 3513 744 3044 326 \nQ 2575 -91 1722 -91 \nQ 1428 -91 1123 -41 \nQ 819 9 494 109 \nL 494 744 \nQ 775 591 1075 516 \nQ 1375 441 1709 441 \nQ 2250 441 2565 725 \nQ 2881 1009 2881 1497 \nQ 2881 1984 2565 2268 \nQ 2250 2553 1709 2553 \nQ 1456 2553 1204 2497 \nQ 953 2441 691 2322 \nL 691 4666 \nz\n\" transform=\"scale(0.015625)\"/>\n       </defs>\n       <use xlink:href=\"#DejaVuSans-30\"/>\n       <use xlink:href=\"#DejaVuSans-2e\" x=\"63.623047\"/>\n       <use xlink:href=\"#DejaVuSans-35\" x=\"95.410156\"/>\n      </g>\n     </g>\n    </g>\n    <g id=\"xtick_3\">\n     <g id=\"line2d_5\">\n      <path d=\"M 179.146404 288.430125 \nL 179.146404 22.318125 \n\" clip-path=\"url(#p623f076adf)\" style=\"fill: none; stroke: #b0b0b0; stroke-width: 0.8; stroke-linecap: square\"/>\n     </g>\n     <g id=\"line2d_6\">\n      <g>\n       <use xlink:href=\"#m1e613b42f2\" x=\"179.146404\" y=\"288.430125\" style=\"stroke: #000000; stroke-width: 0.8\"/>\n      </g>\n     </g>\n     <g id=\"text_3\">\n      <!-- 1.0 -->\n      <g transform=\"translate(171.194842 303.028562) scale(0.1 -0.1)\">\n       <defs>\n        <path id=\"DejaVuSans-31\" d=\"M 794 531 \nL 1825 531 \nL 1825 4091 \nL 703 3866 \nL 703 4441 \nL 1819 4666 \nL 2450 4666 \nL 2450 531 \nL 3481 531 \nL 3481 0 \nL 794 0 \nL 794 531 \nz\n\" transform=\"scale(0.015625)\"/>\n       </defs>\n       <use xlink:href=\"#DejaVuSans-31\"/>\n       <use xlink:href=\"#DejaVuSans-2e\" x=\"63.623047\"/>\n       <use xlink:href=\"#DejaVuSans-30\" x=\"95.410156\"/>\n      </g>\n     </g>\n    </g>\n    <g id=\"xtick_4\">\n     <g id=\"line2d_7\">\n      <path d=\"M 237.12043 288.430125 \nL 237.12043 22.318125 \n\" clip-path=\"url(#p623f076adf)\" style=\"fill: none; stroke: #b0b0b0; stroke-width: 0.8; stroke-linecap: square\"/>\n     </g>\n     <g id=\"line2d_8\">\n      <g>\n       <use xlink:href=\"#m1e613b42f2\" x=\"237.12043\" y=\"288.430125\" style=\"stroke: #000000; stroke-width: 0.8\"/>\n      </g>\n     </g>\n     <g id=\"text_4\">\n      <!-- 1.5 -->\n      <g transform=\"translate(229.168868 303.028562) scale(0.1 -0.1)\">\n       <use xlink:href=\"#DejaVuSans-31\"/>\n       <use xlink:href=\"#DejaVuSans-2e\" x=\"63.623047\"/>\n       <use xlink:href=\"#DejaVuSans-35\" x=\"95.410156\"/>\n      </g>\n     </g>\n    </g>\n    <g id=\"xtick_5\">\n     <g id=\"line2d_9\">\n      <path d=\"M 295.094456 288.430125 \nL 295.094456 22.318125 \n\" clip-path=\"url(#p623f076adf)\" style=\"fill: none; stroke: #b0b0b0; stroke-width: 0.8; stroke-linecap: square\"/>\n     </g>\n     <g id=\"line2d_10\">\n      <g>\n       <use xlink:href=\"#m1e613b42f2\" x=\"295.094456\" y=\"288.430125\" style=\"stroke: #000000; stroke-width: 0.8\"/>\n      </g>\n     </g>\n     <g id=\"text_5\">\n      <!-- 2.0 -->\n      <g transform=\"translate(287.142894 303.028562) scale(0.1 -0.1)\">\n       <defs>\n        <path id=\"DejaVuSans-32\" d=\"M 1228 531 \nL 3431 531 \nL 3431 0 \nL 469 0 \nL 469 531 \nQ 828 903 1448 1529 \nQ 2069 2156 2228 2338 \nQ 2531 2678 2651 2914 \nQ 2772 3150 2772 3378 \nQ 2772 3750 2511 3984 \nQ 2250 4219 1831 4219 \nQ 1534 4219 1204 4116 \nQ 875 4013 500 3803 \nL 500 4441 \nQ 881 4594 1212 4672 \nQ 1544 4750 1819 4750 \nQ 2544 4750 2975 4387 \nQ 3406 4025 3406 3419 \nQ 3406 3131 3298 2873 \nQ 3191 2616 2906 2266 \nQ 2828 2175 2409 1742 \nQ 1991 1309 1228 531 \nz\n\" transform=\"scale(0.015625)\"/>\n       </defs>\n       <use xlink:href=\"#DejaVuSans-32\"/>\n       <use xlink:href=\"#DejaVuSans-2e\" x=\"63.623047\"/>\n       <use xlink:href=\"#DejaVuSans-30\" x=\"95.410156\"/>\n      </g>\n     </g>\n    </g>\n    <g id=\"xtick_6\">\n     <g id=\"line2d_11\">\n      <path d=\"M 353.068482 288.430125 \nL 353.068482 22.318125 \n\" clip-path=\"url(#p623f076adf)\" style=\"fill: none; stroke: #b0b0b0; stroke-width: 0.8; stroke-linecap: square\"/>\n     </g>\n     <g id=\"line2d_12\">\n      <g>\n       <use xlink:href=\"#m1e613b42f2\" x=\"353.068482\" y=\"288.430125\" style=\"stroke: #000000; stroke-width: 0.8\"/>\n      </g>\n     </g>\n     <g id=\"text_6\">\n      <!-- 2.5 -->\n      <g transform=\"translate(345.11692 303.028562) scale(0.1 -0.1)\">\n       <use xlink:href=\"#DejaVuSans-32\"/>\n       <use xlink:href=\"#DejaVuSans-2e\" x=\"63.623047\"/>\n       <use xlink:href=\"#DejaVuSans-35\" x=\"95.410156\"/>\n      </g>\n     </g>\n    </g>\n    <g id=\"text_7\">\n     <!-- Time (S) -->\n     <g transform=\"translate(204.627188 316.706687) scale(0.1 -0.1)\">\n      <defs>\n       <path id=\"DejaVuSans-54\" d=\"M -19 4666 \nL 3928 4666 \nL 3928 4134 \nL 2272 4134 \nL 2272 0 \nL 1638 0 \nL 1638 4134 \nL -19 4134 \nL -19 4666 \nz\n\" transform=\"scale(0.015625)\"/>\n       <path id=\"DejaVuSans-69\" d=\"M 603 3500 \nL 1178 3500 \nL 1178 0 \nL 603 0 \nL 603 3500 \nz\nM 603 4863 \nL 1178 4863 \nL 1178 4134 \nL 603 4134 \nL 603 4863 \nz\n\" transform=\"scale(0.015625)\"/>\n       <path id=\"DejaVuSans-6d\" d=\"M 3328 2828 \nQ 3544 3216 3844 3400 \nQ 4144 3584 4550 3584 \nQ 5097 3584 5394 3201 \nQ 5691 2819 5691 2113 \nL 5691 0 \nL 5113 0 \nL 5113 2094 \nQ 5113 2597 4934 2840 \nQ 4756 3084 4391 3084 \nQ 3944 3084 3684 2787 \nQ 3425 2491 3425 1978 \nL 3425 0 \nL 2847 0 \nL 2847 2094 \nQ 2847 2600 2669 2842 \nQ 2491 3084 2119 3084 \nQ 1678 3084 1418 2786 \nQ 1159 2488 1159 1978 \nL 1159 0 \nL 581 0 \nL 581 3500 \nL 1159 3500 \nL 1159 2956 \nQ 1356 3278 1631 3431 \nQ 1906 3584 2284 3584 \nQ 2666 3584 2933 3390 \nQ 3200 3197 3328 2828 \nz\n\" transform=\"scale(0.015625)\"/>\n       <path id=\"DejaVuSans-65\" d=\"M 3597 1894 \nL 3597 1613 \nL 953 1613 \nQ 991 1019 1311 708 \nQ 1631 397 2203 397 \nQ 2534 397 2845 478 \nQ 3156 559 3463 722 \nL 3463 178 \nQ 3153 47 2828 -22 \nQ 2503 -91 2169 -91 \nQ 1331 -91 842 396 \nQ 353 884 353 1716 \nQ 353 2575 817 3079 \nQ 1281 3584 2069 3584 \nQ 2775 3584 3186 3129 \nQ 3597 2675 3597 1894 \nz\nM 3022 2063 \nQ 3016 2534 2758 2815 \nQ 2500 3097 2075 3097 \nQ 1594 3097 1305 2825 \nQ 1016 2553 972 2059 \nL 3022 2063 \nz\n\" transform=\"scale(0.015625)\"/>\n       <path id=\"DejaVuSans-20\" transform=\"scale(0.015625)\"/>\n       <path id=\"DejaVuSans-28\" d=\"M 1984 4856 \nQ 1566 4138 1362 3434 \nQ 1159 2731 1159 2009 \nQ 1159 1288 1364 580 \nQ 1569 -128 1984 -844 \nL 1484 -844 \nQ 1016 -109 783 600 \nQ 550 1309 550 2009 \nQ 550 2706 781 3412 \nQ 1013 4119 1484 4856 \nL 1984 4856 \nz\n\" transform=\"scale(0.015625)\"/>\n       <path id=\"DejaVuSans-53\" d=\"M 3425 4513 \nL 3425 3897 \nQ 3066 4069 2747 4153 \nQ 2428 4238 2131 4238 \nQ 1616 4238 1336 4038 \nQ 1056 3838 1056 3469 \nQ 1056 3159 1242 3001 \nQ 1428 2844 1947 2747 \nL 2328 2669 \nQ 3034 2534 3370 2195 \nQ 3706 1856 3706 1288 \nQ 3706 609 3251 259 \nQ 2797 -91 1919 -91 \nQ 1588 -91 1214 -16 \nQ 841 59 441 206 \nL 441 856 \nQ 825 641 1194 531 \nQ 1563 422 1919 422 \nQ 2459 422 2753 634 \nQ 3047 847 3047 1241 \nQ 3047 1584 2836 1778 \nQ 2625 1972 2144 2069 \nL 1759 2144 \nQ 1053 2284 737 2584 \nQ 422 2884 422 3419 \nQ 422 4038 858 4394 \nQ 1294 4750 2059 4750 \nQ 2388 4750 2728 4690 \nQ 3069 4631 3425 4513 \nz\n\" transform=\"scale(0.015625)\"/>\n       <path id=\"DejaVuSans-29\" d=\"M 513 4856 \nL 1013 4856 \nQ 1481 4119 1714 3412 \nQ 1947 2706 1947 2009 \nQ 1947 1309 1714 600 \nQ 1481 -109 1013 -844 \nL 513 -844 \nQ 928 -128 1133 580 \nQ 1338 1288 1338 2009 \nQ 1338 2731 1133 3434 \nQ 928 4138 513 4856 \nz\n\" transform=\"scale(0.015625)\"/>\n      </defs>\n      <use xlink:href=\"#DejaVuSans-54\"/>\n      <use xlink:href=\"#DejaVuSans-69\" x=\"57.958984\"/>\n      <use xlink:href=\"#DejaVuSans-6d\" x=\"85.742188\"/>\n      <use xlink:href=\"#DejaVuSans-65\" x=\"183.154297\"/>\n      <use xlink:href=\"#DejaVuSans-20\" x=\"244.677734\"/>\n      <use xlink:href=\"#DejaVuSans-28\" x=\"276.464844\"/>\n      <use xlink:href=\"#DejaVuSans-53\" x=\"315.478516\"/>\n      <use xlink:href=\"#DejaVuSans-29\" x=\"378.955078\"/>\n     </g>\n    </g>\n   </g>\n   <g id=\"matplotlib.axis_2\">\n    <g id=\"ytick_1\">\n     <g id=\"line2d_13\">\n      <path d=\"M 46.965625 276.334125 \nL 404.085625 276.334125 \n\" clip-path=\"url(#p623f076adf)\" style=\"fill: none; stroke: #b0b0b0; stroke-width: 0.8; stroke-linecap: square\"/>\n     </g>\n     <g id=\"line2d_14\">\n      <defs>\n       <path id=\"mc14f0a7546\" d=\"M 0 0 \nL -3.5 0 \n\" style=\"stroke: #000000; stroke-width: 0.8\"/>\n      </defs>\n      <g>\n       <use xlink:href=\"#mc14f0a7546\" x=\"46.965625\" y=\"276.334125\" style=\"stroke: #000000; stroke-width: 0.8\"/>\n      </g>\n     </g>\n     <g id=\"text_8\">\n      <!-- 0 -->\n      <g transform=\"translate(33.603125 280.133344) scale(0.1 -0.1)\">\n       <use xlink:href=\"#DejaVuSans-30\"/>\n      </g>\n     </g>\n    </g>\n    <g id=\"ytick_2\">\n     <g id=\"line2d_15\">\n      <path d=\"M 46.965625 240.300961 \nL 404.085625 240.300961 \n\" clip-path=\"url(#p623f076adf)\" style=\"fill: none; stroke: #b0b0b0; stroke-width: 0.8; stroke-linecap: square\"/>\n     </g>\n     <g id=\"line2d_16\">\n      <g>\n       <use xlink:href=\"#mc14f0a7546\" x=\"46.965625\" y=\"240.300961\" style=\"stroke: #000000; stroke-width: 0.8\"/>\n      </g>\n     </g>\n     <g id=\"text_9\">\n      <!-- 50 -->\n      <g transform=\"translate(27.240625 244.10018) scale(0.1 -0.1)\">\n       <use xlink:href=\"#DejaVuSans-35\"/>\n       <use xlink:href=\"#DejaVuSans-30\" x=\"63.623047\"/>\n      </g>\n     </g>\n    </g>\n    <g id=\"ytick_3\">\n     <g id=\"line2d_17\">\n      <path d=\"M 46.965625 204.267797 \nL 404.085625 204.267797 \n\" clip-path=\"url(#p623f076adf)\" style=\"fill: none; stroke: #b0b0b0; stroke-width: 0.8; stroke-linecap: square\"/>\n     </g>\n     <g id=\"line2d_18\">\n      <g>\n       <use xlink:href=\"#mc14f0a7546\" x=\"46.965625\" y=\"204.267797\" style=\"stroke: #000000; stroke-width: 0.8\"/>\n      </g>\n     </g>\n     <g id=\"text_10\">\n      <!-- 100 -->\n      <g transform=\"translate(20.878125 208.067016) scale(0.1 -0.1)\">\n       <use xlink:href=\"#DejaVuSans-31\"/>\n       <use xlink:href=\"#DejaVuSans-30\" x=\"63.623047\"/>\n       <use xlink:href=\"#DejaVuSans-30\" x=\"127.246094\"/>\n      </g>\n     </g>\n    </g>\n    <g id=\"ytick_4\">\n     <g id=\"line2d_19\">\n      <path d=\"M 46.965625 168.234633 \nL 404.085625 168.234633 \n\" clip-path=\"url(#p623f076adf)\" style=\"fill: none; stroke: #b0b0b0; stroke-width: 0.8; stroke-linecap: square\"/>\n     </g>\n     <g id=\"line2d_20\">\n      <g>\n       <use xlink:href=\"#mc14f0a7546\" x=\"46.965625\" y=\"168.234633\" style=\"stroke: #000000; stroke-width: 0.8\"/>\n      </g>\n     </g>\n     <g id=\"text_11\">\n      <!-- 150 -->\n      <g transform=\"translate(20.878125 172.033852) scale(0.1 -0.1)\">\n       <use xlink:href=\"#DejaVuSans-31\"/>\n       <use xlink:href=\"#DejaVuSans-35\" x=\"63.623047\"/>\n       <use xlink:href=\"#DejaVuSans-30\" x=\"127.246094\"/>\n      </g>\n     </g>\n    </g>\n    <g id=\"ytick_5\">\n     <g id=\"line2d_21\">\n      <path d=\"M 46.965625 132.20147 \nL 404.085625 132.20147 \n\" clip-path=\"url(#p623f076adf)\" style=\"fill: none; stroke: #b0b0b0; stroke-width: 0.8; stroke-linecap: square\"/>\n     </g>\n     <g id=\"line2d_22\">\n      <g>\n       <use xlink:href=\"#mc14f0a7546\" x=\"46.965625\" y=\"132.20147\" style=\"stroke: #000000; stroke-width: 0.8\"/>\n      </g>\n     </g>\n     <g id=\"text_12\">\n      <!-- 200 -->\n      <g transform=\"translate(20.878125 136.000688) scale(0.1 -0.1)\">\n       <use xlink:href=\"#DejaVuSans-32\"/>\n       <use xlink:href=\"#DejaVuSans-30\" x=\"63.623047\"/>\n       <use xlink:href=\"#DejaVuSans-30\" x=\"127.246094\"/>\n      </g>\n     </g>\n    </g>\n    <g id=\"ytick_6\">\n     <g id=\"line2d_23\">\n      <path d=\"M 46.965625 96.168306 \nL 404.085625 96.168306 \n\" clip-path=\"url(#p623f076adf)\" style=\"fill: none; stroke: #b0b0b0; stroke-width: 0.8; stroke-linecap: square\"/>\n     </g>\n     <g id=\"line2d_24\">\n      <g>\n       <use xlink:href=\"#mc14f0a7546\" x=\"46.965625\" y=\"96.168306\" style=\"stroke: #000000; stroke-width: 0.8\"/>\n      </g>\n     </g>\n     <g id=\"text_13\">\n      <!-- 250 -->\n      <g transform=\"translate(20.878125 99.967525) scale(0.1 -0.1)\">\n       <use xlink:href=\"#DejaVuSans-32\"/>\n       <use xlink:href=\"#DejaVuSans-35\" x=\"63.623047\"/>\n       <use xlink:href=\"#DejaVuSans-30\" x=\"127.246094\"/>\n      </g>\n     </g>\n    </g>\n    <g id=\"ytick_7\">\n     <g id=\"line2d_25\">\n      <path d=\"M 46.965625 60.135142 \nL 404.085625 60.135142 \n\" clip-path=\"url(#p623f076adf)\" style=\"fill: none; stroke: #b0b0b0; stroke-width: 0.8; stroke-linecap: square\"/>\n     </g>\n     <g id=\"line2d_26\">\n      <g>\n       <use xlink:href=\"#mc14f0a7546\" x=\"46.965625\" y=\"60.135142\" style=\"stroke: #000000; stroke-width: 0.8\"/>\n      </g>\n     </g>\n     <g id=\"text_14\">\n      <!-- 300 -->\n      <g transform=\"translate(20.878125 63.934361) scale(0.1 -0.1)\">\n       <defs>\n        <path id=\"DejaVuSans-33\" d=\"M 2597 2516 \nQ 3050 2419 3304 2112 \nQ 3559 1806 3559 1356 \nQ 3559 666 3084 287 \nQ 2609 -91 1734 -91 \nQ 1441 -91 1130 -33 \nQ 819 25 488 141 \nL 488 750 \nQ 750 597 1062 519 \nQ 1375 441 1716 441 \nQ 2309 441 2620 675 \nQ 2931 909 2931 1356 \nQ 2931 1769 2642 2001 \nQ 2353 2234 1838 2234 \nL 1294 2234 \nL 1294 2753 \nL 1863 2753 \nQ 2328 2753 2575 2939 \nQ 2822 3125 2822 3475 \nQ 2822 3834 2567 4026 \nQ 2313 4219 1838 4219 \nQ 1578 4219 1281 4162 \nQ 984 4106 628 3988 \nL 628 4550 \nQ 988 4650 1302 4700 \nQ 1616 4750 1894 4750 \nQ 2613 4750 3031 4423 \nQ 3450 4097 3450 3541 \nQ 3450 3153 3228 2886 \nQ 3006 2619 2597 2516 \nz\n\" transform=\"scale(0.015625)\"/>\n       </defs>\n       <use xlink:href=\"#DejaVuSans-33\"/>\n       <use xlink:href=\"#DejaVuSans-30\" x=\"63.623047\"/>\n       <use xlink:href=\"#DejaVuSans-30\" x=\"127.246094\"/>\n      </g>\n     </g>\n    </g>\n    <g id=\"ytick_8\">\n     <g id=\"line2d_27\">\n      <path d=\"M 46.965625 24.101978 \nL 404.085625 24.101978 \n\" clip-path=\"url(#p623f076adf)\" style=\"fill: none; stroke: #b0b0b0; stroke-width: 0.8; stroke-linecap: square\"/>\n     </g>\n     <g id=\"line2d_28\">\n      <g>\n       <use xlink:href=\"#mc14f0a7546\" x=\"46.965625\" y=\"24.101978\" style=\"stroke: #000000; stroke-width: 0.8\"/>\n      </g>\n     </g>\n     <g id=\"text_15\">\n      <!-- 350 -->\n      <g transform=\"translate(20.878125 27.901197) scale(0.1 -0.1)\">\n       <use xlink:href=\"#DejaVuSans-33\"/>\n       <use xlink:href=\"#DejaVuSans-35\" x=\"63.623047\"/>\n       <use xlink:href=\"#DejaVuSans-30\" x=\"127.246094\"/>\n      </g>\n     </g>\n    </g>\n    <g id=\"text_16\">\n     <!-- Thrust (N) -->\n     <g transform=\"translate(14.798438 180.617094) rotate(-90) scale(0.1 -0.1)\">\n      <defs>\n       <path id=\"DejaVuSans-68\" d=\"M 3513 2113 \nL 3513 0 \nL 2938 0 \nL 2938 2094 \nQ 2938 2591 2744 2837 \nQ 2550 3084 2163 3084 \nQ 1697 3084 1428 2787 \nQ 1159 2491 1159 1978 \nL 1159 0 \nL 581 0 \nL 581 4863 \nL 1159 4863 \nL 1159 2956 \nQ 1366 3272 1645 3428 \nQ 1925 3584 2291 3584 \nQ 2894 3584 3203 3211 \nQ 3513 2838 3513 2113 \nz\n\" transform=\"scale(0.015625)\"/>\n       <path id=\"DejaVuSans-72\" d=\"M 2631 2963 \nQ 2534 3019 2420 3045 \nQ 2306 3072 2169 3072 \nQ 1681 3072 1420 2755 \nQ 1159 2438 1159 1844 \nL 1159 0 \nL 581 0 \nL 581 3500 \nL 1159 3500 \nL 1159 2956 \nQ 1341 3275 1631 3429 \nQ 1922 3584 2338 3584 \nQ 2397 3584 2469 3576 \nQ 2541 3569 2628 3553 \nL 2631 2963 \nz\n\" transform=\"scale(0.015625)\"/>\n       <path id=\"DejaVuSans-75\" d=\"M 544 1381 \nL 544 3500 \nL 1119 3500 \nL 1119 1403 \nQ 1119 906 1312 657 \nQ 1506 409 1894 409 \nQ 2359 409 2629 706 \nQ 2900 1003 2900 1516 \nL 2900 3500 \nL 3475 3500 \nL 3475 0 \nL 2900 0 \nL 2900 538 \nQ 2691 219 2414 64 \nQ 2138 -91 1772 -91 \nQ 1169 -91 856 284 \nQ 544 659 544 1381 \nz\nM 1991 3584 \nL 1991 3584 \nz\n\" transform=\"scale(0.015625)\"/>\n       <path id=\"DejaVuSans-73\" d=\"M 2834 3397 \nL 2834 2853 \nQ 2591 2978 2328 3040 \nQ 2066 3103 1784 3103 \nQ 1356 3103 1142 2972 \nQ 928 2841 928 2578 \nQ 928 2378 1081 2264 \nQ 1234 2150 1697 2047 \nL 1894 2003 \nQ 2506 1872 2764 1633 \nQ 3022 1394 3022 966 \nQ 3022 478 2636 193 \nQ 2250 -91 1575 -91 \nQ 1294 -91 989 -36 \nQ 684 19 347 128 \nL 347 722 \nQ 666 556 975 473 \nQ 1284 391 1588 391 \nQ 1994 391 2212 530 \nQ 2431 669 2431 922 \nQ 2431 1156 2273 1281 \nQ 2116 1406 1581 1522 \nL 1381 1569 \nQ 847 1681 609 1914 \nQ 372 2147 372 2553 \nQ 372 3047 722 3315 \nQ 1072 3584 1716 3584 \nQ 2034 3584 2315 3537 \nQ 2597 3491 2834 3397 \nz\n\" transform=\"scale(0.015625)\"/>\n       <path id=\"DejaVuSans-74\" d=\"M 1172 4494 \nL 1172 3500 \nL 2356 3500 \nL 2356 3053 \nL 1172 3053 \nL 1172 1153 \nQ 1172 725 1289 603 \nQ 1406 481 1766 481 \nL 2356 481 \nL 2356 0 \nL 1766 0 \nQ 1100 0 847 248 \nQ 594 497 594 1153 \nL 594 3053 \nL 172 3053 \nL 172 3500 \nL 594 3500 \nL 594 4494 \nL 1172 4494 \nz\n\" transform=\"scale(0.015625)\"/>\n       <path id=\"DejaVuSans-4e\" d=\"M 628 4666 \nL 1478 4666 \nL 3547 763 \nL 3547 4666 \nL 4159 4666 \nL 4159 0 \nL 3309 0 \nL 1241 3903 \nL 1241 0 \nL 628 0 \nL 628 4666 \nz\n\" transform=\"scale(0.015625)\"/>\n      </defs>\n      <use xlink:href=\"#DejaVuSans-54\"/>\n      <use xlink:href=\"#DejaVuSans-68\" x=\"61.083984\"/>\n      <use xlink:href=\"#DejaVuSans-72\" x=\"124.462891\"/>\n      <use xlink:href=\"#DejaVuSans-75\" x=\"165.576172\"/>\n      <use xlink:href=\"#DejaVuSans-73\" x=\"228.955078\"/>\n      <use xlink:href=\"#DejaVuSans-74\" x=\"281.054688\"/>\n      <use xlink:href=\"#DejaVuSans-20\" x=\"320.263672\"/>\n      <use xlink:href=\"#DejaVuSans-28\" x=\"352.050781\"/>\n      <use xlink:href=\"#DejaVuSans-4e\" x=\"391.064453\"/>\n      <use xlink:href=\"#DejaVuSans-29\" x=\"465.869141\"/>\n     </g>\n    </g>\n   </g>\n   <g id=\"line2d_29\">\n    <path d=\"M 63.198352 276.334125 \nL 63.848311 169.341893 \nL 64.82325 183.344598 \nL 65.148229 184.820541 \nL 68.723004 115.695551 \nL 69.047984 75.629065 \nL 69.372963 65.630088 \nL 71.972799 53.7818 \nL 72.297779 52.976217 \nL 88.871735 42.82823 \nL 94.396387 48.498638 \nL 120.719728 34.438221 \nL 121.369687 34.461188 \nL 178.891063 42.818765 \nL 237.387378 68.731199 \nL 261.760842 83.958827 \nL 263.38574 85.89878 \nL 297.18361 127.099206 \nL 314.732505 149.804987 \nL 351.455191 189.970684 \nL 351.78017 189.813161 \nL 354.704986 186.161711 \nL 355.029966 185.999587 \nL 378.103512 210.060732 \nL 378.428492 210.80986 \nL 383.953143 243.665862 \nL 387.852898 257.570696 \nL 387.852898 257.570696 \n\" clip-path=\"url(#p623f076adf)\" style=\"fill: none; stroke: #1f77b4; stroke-width: 1.5; stroke-linecap: square\"/>\n   </g>\n   <g id=\"patch_3\">\n    <path d=\"M 46.965625 288.430125 \nL 46.965625 22.318125 \n\" style=\"fill: none; stroke: #000000; stroke-width: 0.8; stroke-linejoin: miter; stroke-linecap: square\"/>\n   </g>\n   <g id=\"patch_4\">\n    <path d=\"M 404.085625 288.430125 \nL 404.085625 22.318125 \n\" style=\"fill: none; stroke: #000000; stroke-width: 0.8; stroke-linejoin: miter; stroke-linecap: square\"/>\n   </g>\n   <g id=\"patch_5\">\n    <path d=\"M 46.965625 288.430125 \nL 404.085625 288.430125 \n\" style=\"fill: none; stroke: #000000; stroke-width: 0.8; stroke-linejoin: miter; stroke-linecap: square\"/>\n   </g>\n   <g id=\"patch_6\">\n    <path d=\"M 46.965625 22.318125 \nL 404.085625 22.318125 \n\" style=\"fill: none; stroke: #000000; stroke-width: 0.8; stroke-linejoin: miter; stroke-linecap: square\"/>\n   </g>\n   <g id=\"text_17\">\n    <!-- Thrust (N) x Time (S) -->\n    <g transform=\"translate(162.790938 16.318125) scale(0.12 -0.12)\">\n     <defs>\n      <path id=\"DejaVuSans-78\" d=\"M 3513 3500 \nL 2247 1797 \nL 3578 0 \nL 2900 0 \nL 1881 1375 \nL 863 0 \nL 184 0 \nL 1544 1831 \nL 300 3500 \nL 978 3500 \nL 1906 2253 \nL 2834 3500 \nL 3513 3500 \nz\n\" transform=\"scale(0.015625)\"/>\n     </defs>\n     <use xlink:href=\"#DejaVuSans-54\"/>\n     <use xlink:href=\"#DejaVuSans-68\" x=\"61.083984\"/>\n     <use xlink:href=\"#DejaVuSans-72\" x=\"124.462891\"/>\n     <use xlink:href=\"#DejaVuSans-75\" x=\"165.576172\"/>\n     <use xlink:href=\"#DejaVuSans-73\" x=\"228.955078\"/>\n     <use xlink:href=\"#DejaVuSans-74\" x=\"281.054688\"/>\n     <use xlink:href=\"#DejaVuSans-20\" x=\"320.263672\"/>\n     <use xlink:href=\"#DejaVuSans-28\" x=\"352.050781\"/>\n     <use xlink:href=\"#DejaVuSans-4e\" x=\"391.064453\"/>\n     <use xlink:href=\"#DejaVuSans-29\" x=\"465.869141\"/>\n     <use xlink:href=\"#DejaVuSans-20\" x=\"504.882812\"/>\n     <use xlink:href=\"#DejaVuSans-78\" x=\"536.669922\"/>\n     <use xlink:href=\"#DejaVuSans-20\" x=\"595.849609\"/>\n     <use xlink:href=\"#DejaVuSans-54\" x=\"627.636719\"/>\n     <use xlink:href=\"#DejaVuSans-69\" x=\"685.595703\"/>\n     <use xlink:href=\"#DejaVuSans-6d\" x=\"713.378906\"/>\n     <use xlink:href=\"#DejaVuSans-65\" x=\"810.791016\"/>\n     <use xlink:href=\"#DejaVuSans-20\" x=\"872.314453\"/>\n     <use xlink:href=\"#DejaVuSans-28\" x=\"904.101562\"/>\n     <use xlink:href=\"#DejaVuSans-53\" x=\"943.115234\"/>\n     <use xlink:href=\"#DejaVuSans-29\" x=\"1006.591797\"/>\n    </g>\n   </g>\n  </g>\n </g>\n <defs>\n  <clipPath id=\"p623f076adf\">\n   <rect x=\"46.965625\" y=\"22.318125\" width=\"357.12\" height=\"266.112\"/>\n  </clipPath>\n </defs>\n</svg>\n"
          },
          "metadata": {}
        }
      ],
      "source": [
        "J250W.info()"
      ]
    },
    {
      "cell_type": "markdown",
      "metadata": {
        "id": "kN7y1EwLNVFf"
      },
      "source": [
        "### Creating a Rocket\n"
      ]
    },
    {
      "cell_type": "markdown",
      "metadata": {
        "id": "_Ee-0vb5NVFg"
      },
      "source": [
        "A rocket is composed of several components. Namely, we must have a motor (good thing we have the Pro75M1670 ready), a couple of aerodynamic surfaces (nose cone, fins and tail) and parachutes (if we are not launching a missile).\n",
        "\n",
        "You can find more information about the `Rocket` class in the [Rocket Class Usage Docs](https://docs.rocketpy.org/en/latest/user/rocket.html).\n",
        "\n",
        "Let's start by initializing our rocket, named Calisto, entering inertia properties, some dimensions and drag curves.\n",
        "\n",
        "**Pay special attention to *position* related parameters:**\n",
        "More details on [Positions and Coordinate Systems](https://docs.rocketpy.org/en/latest/user/positions.html)\n",
        "\n"
      ]
    },
    {
      "cell_type": "code",
      "execution_count": null,
      "metadata": {
        "id": "D1fyK8u_NVFh"
      },
      "outputs": [],
      "source": [
        "sionna = Rocket(\n",
        "    radius = 79 / 2000,\n",
        "    mass = 2.135,\n",
        "    inertia=(6.321, 6.321, 0.034),\n",
        "    power_off_drag=\"\",\n",
        "    power_on_drag=\"\",\n",
        "    center_of_mass_without_motor=0,\n",
        "    coordinate_system_orientation=\"tail_to_nose\",\n",
        ")\n",
        "\n",
        "rail_buttons = calisto.set_rail_buttons(\n",
        "    upper_button_position=0.0818,\n",
        "    lower_button_position=-0.618,\n",
        "    angular_position=45,\n",
        ")"
      ]
    },
    {
      "cell_type": "markdown",
      "metadata": {
        "id": "iGvahUdcBWSN"
      },
      "source": [
        "To add the motor to our rocket we need only inform what motor we are adding (Pro75M1670) and inform the position, in meters, of the motor's nozzle exit area relative to the previously defined coordinate system.\n"
      ]
    },
    {
      "cell_type": "code",
      "execution_count": null,
      "metadata": {
        "id": "VSbFbka_BWSN",
        "colab": {
          "base_uri": "https://localhost:8080/",
          "height": 176
        },
        "outputId": "7a64ece2-0f30-4422-b1f9-2006681418f2"
      },
      "outputs": [
        {
          "output_type": "error",
          "ename": "NameError",
          "evalue": "name 'Pro75M1670' is not defined",
          "traceback": [
            "\u001b[0;31m---------------------------------------------------------------------------\u001b[0m",
            "\u001b[0;31mNameError\u001b[0m                                 Traceback (most recent call last)",
            "\u001b[0;32m<ipython-input-16-418330a9246a>\u001b[0m in \u001b[0;36m<cell line: 1>\u001b[0;34m()\u001b[0m\n\u001b[0;32m----> 1\u001b[0;31m \u001b[0mcalisto\u001b[0m\u001b[0;34m.\u001b[0m\u001b[0madd_motor\u001b[0m\u001b[0;34m(\u001b[0m\u001b[0mPro75M1670\u001b[0m\u001b[0;34m,\u001b[0m \u001b[0mposition\u001b[0m\u001b[0;34m=\u001b[0m\u001b[0;34m-\u001b[0m\u001b[0;36m1.255\u001b[0m\u001b[0;34m)\u001b[0m\u001b[0;34m\u001b[0m\u001b[0;34m\u001b[0m\u001b[0m\n\u001b[0m",
            "\u001b[0;31mNameError\u001b[0m: name 'Pro75M1670' is not defined"
          ]
        }
      ],
      "source": [
        "sionna.add_motor(J250W, position=-1.255)"
      ]
    },
    {
      "cell_type": "markdown",
      "metadata": {
        "id": "CfOfqmroNVFk"
      },
      "source": [
        "#### Adding Aerodynamic Surfaces\n"
      ]
    },
    {
      "cell_type": "markdown",
      "metadata": {
        "id": "LuUdEmWhNVFl"
      },
      "source": [
        "Now we define the aerodynamic surfaces. They are really straight forward with special attention needed only for the position values. Here is a quick guide:\n",
        "\n",
        "- The positions given **must** be relative to the same coordinate system as the rockets;\n",
        "- Position of the Nosecone refers to the tip of the nose;\n",
        "- Position of fins refers to the point belonging to the root chord which is highest in the rocket coordinate system;\n",
        "- Position of the tail the point belonging to the tail which is highest in the rocket coordinate system.\n",
        "\n",
        "See more details in [Positions and Coordinate Systems](https://docs.rocketpy.org/en/latest/user/positions.html)"
      ]
    },
    {
      "cell_type": "code",
      "execution_count": null,
      "metadata": {
        "id": "AQbv244VNVFm"
      },
      "outputs": [],
      "source": [
        "nose_cone = calisto.add_nose(\n",
        "    length=0.381, kind=\"ogive\", position=1.31\n",
        ")\n",
        "\n",
        "fin_set = calisto.add_trapezoidal_fins(\n",
        "    n=3,\n",
        "    root_chord=0.2,\n",
        "    tip_chord=0.06,\n",
        "    span=0.045,\n",
        "    position=-0.2,\n",
        "    cant_angle=0,\n",
        "    airfoil=(\"../../data/calisto/NACA0012-radians.csv\",\"radians\"),\n",
        ")\n",
        "\n",
        "tail = calisto.add_tail(\n",
        "    top_radius=0.0635, bottom_radius=0.0435, length=0.060, position=-1.194656\n",
        ")"
      ]
    },
    {
      "cell_type": "markdown",
      "metadata": {
        "id": "OT5rYWkEBWSO"
      },
      "source": [
        "To see all information regarding the rocket we just defined we run:\n"
      ]
    },
    {
      "cell_type": "code",
      "execution_count": null,
      "metadata": {
        "id": "HBDqSUzhBWSO"
      },
      "outputs": [],
      "source": [
        "calisto.all_info()"
      ]
    },
    {
      "cell_type": "markdown",
      "metadata": {
        "id": "D8oKc7s2NVFp"
      },
      "source": [
        "#### Adding Parachutes\n"
      ]
    },
    {
      "cell_type": "markdown",
      "metadata": {
        "id": "IxAX61ZENVFq"
      },
      "source": [
        "Finally, we have parachutes! Calisto will have two parachutes, Drogue and Main. The Drogue parachute will open at apogee while the Main parachute will open at 800m above ground level\n",
        "\n",
        "For more details see [Adding Parachutes](https://docs.rocketpy.org/en/latest/user/rocket.html#adding-parachutes)"
      ]
    },
    {
      "cell_type": "code",
      "execution_count": null,
      "metadata": {
        "id": "f0PmLcF8NVFr"
      },
      "outputs": [],
      "source": [
        "Main = calisto.add_parachute(\n",
        "    \"Main\",\n",
        "    cd_s=10.0,\n",
        "    trigger=800,\n",
        "    sampling_rate=105,\n",
        "    lag=1.5,\n",
        "    noise=(0, 8.3, 0.5),\n",
        ")\n",
        "\n",
        "Drogue = calisto.add_parachute(\n",
        "    \"Drogue\",\n",
        "    cd_s=1.0,\n",
        "    trigger=\"apogee\",\n",
        "    sampling_rate=105,\n",
        "    lag=1.5,\n",
        "    noise=(0, 8.3, 0.5),\n",
        ")"
      ]
    },
    {
      "cell_type": "markdown",
      "metadata": {
        "id": "xIoXe33FNVFv"
      },
      "source": [
        "Just be careful if you run this last cell multiple times! If you do so, your rocket will end up with lots of parachutes which activate together, which may cause problems during the flight simulation. We advise you to re-run all cells which define our rocket before running this, preventing unwanted old parachutes. Alternatively, you can run the following lines to remove parachutes.\n",
        "\n",
        "```python\n",
        "Calisto.parachutes.remove(Drogue)\n",
        "Calisto.parachutes.remove(Main)\n",
        "```\n"
      ]
    },
    {
      "cell_type": "markdown",
      "metadata": {
        "id": "4PR0fgSbNVFw"
      },
      "source": [
        "## Simulating a Flight\n",
        "\n",
        "Simulating a flight trajectory is as simple as initializing a Flight class object givin the rocket and environnement set up above as inputs. The launch rail inclination and heading are also given here.\n"
      ]
    },
    {
      "cell_type": "code",
      "execution_count": null,
      "metadata": {
        "id": "v__Ud2p2NVFx"
      },
      "outputs": [],
      "source": [
        "test_flight = Flight(\n",
        "    rocket=calisto, environment=env, rail_length=5.2, inclination=85, heading=0\n",
        ")"
      ]
    },
    {
      "cell_type": "markdown",
      "metadata": {
        "id": "8SjrGQqzNVF0"
      },
      "source": [
        "## Analyzing the Results\n",
        "\n",
        "RocketPy gives you many plots, thats for sure! They are divided into sections to keep them organized. Alternatively, see the Flight class documentation to see how to get plots for specific variables only, instead of all of them at once.\n"
      ]
    },
    {
      "cell_type": "code",
      "execution_count": null,
      "metadata": {
        "id": "Hh4A_RQzNVF0",
        "scrolled": false
      },
      "outputs": [],
      "source": [
        "test_flight.all_info()"
      ]
    },
    {
      "cell_type": "markdown",
      "metadata": {
        "id": "o6hvdxKhBWSU"
      },
      "source": [
        "Export Flight Trajectory to a .kml file so it can be opened on Google Earth\n"
      ]
    },
    {
      "cell_type": "code",
      "execution_count": null,
      "metadata": {
        "id": "fGTEvymGBWSV"
      },
      "outputs": [],
      "source": [
        "test_flight.export_kml(\n",
        "    file_name=\"trajectory.kml\",\n",
        "    extrude=True,\n",
        "    altitude_mode=\"relative_to_ground\",\n",
        ")"
      ]
    },
    {
      "cell_type": "markdown",
      "metadata": {
        "id": "Aun9D2OINVF4"
      },
      "source": [
        "## Using Simulation for Design\n",
        "\n",
        "Here, we go through a couple of examples which make use of RocketPy in cool ways to help us design our rocket.\n"
      ]
    },
    {
      "cell_type": "markdown",
      "metadata": {
        "id": "B0DDqW1BBWSV"
      },
      "source": [
        "### Apogee as a Function of Mass\n",
        "\n",
        "This one is a classic one! We always need to know how much our rocket's apogee will change when our payload gets heavier.\n"
      ]
    },
    {
      "cell_type": "code",
      "execution_count": null,
      "metadata": {
        "id": "iO4FFF53BWSV"
      },
      "outputs": [],
      "source": [
        "from rocketpy.utilities import apogee_by_mass\n",
        "\n",
        "apogee_by_mass(flight=test_flight, min_mass=5, max_mass=20, points=10, plot=True)"
      ]
    },
    {
      "cell_type": "markdown",
      "metadata": {
        "id": "b-EAhDraBWSV"
      },
      "source": [
        "### Out of Rail Speed as a Function of Mass\n",
        "\n",
        "Lets make a really important plot. Out of rail speed is the speed our rocket has when it is leaving the launch rail. This is crucial to make sure it can fly safely after leaving the rail. A common rule of thumb is that our rocket's out of rail speed should be 4 times the wind speed so that it does not stall and become unstable.\n"
      ]
    },
    {
      "cell_type": "code",
      "execution_count": null,
      "metadata": {
        "id": "GVn56hKDBWSV"
      },
      "outputs": [],
      "source": [
        "from rocketpy.utilities import liftoff_speed_by_mass\n",
        "\n",
        "liftoff_speed_by_mass(flight=test_flight, min_mass=5, max_mass=20, points=10, plot=True)"
      ]
    },
    {
      "cell_type": "markdown",
      "metadata": {
        "id": "HLKYNov-BWSW"
      },
      "source": [
        "### Dynamic Stability Analysis\n",
        "\n",
        "Ever wondered how static stability translates into dynamic stability? Different static margins result in different dynamic behavior, which also depends on the rocket's rotational inertial.\n",
        "\n",
        "Let's make use of RocketPy's helper class called Function to explore how the dynamic stability of Calisto varies if we change the fins span by a certain factor.\n"
      ]
    },
    {
      "cell_type": "code",
      "execution_count": null,
      "metadata": {
        "id": "HfiKkNF2BWSW"
      },
      "outputs": [],
      "source": [
        "# Helper class\n",
        "from rocketpy import Function\n",
        "import copy\n",
        "\n",
        "# Prepare a copy of the rocket\n",
        "calisto2 = copy.deepcopy(calisto)\n",
        "\n",
        "# Prepare Environment Class\n",
        "custom_env = Environment()\n",
        "custom_env.set_atmospheric_model(type=\"custom_atmosphere\", wind_v=-5)\n",
        "\n",
        "# Simulate Different Static Margins by Varying Fin Position\n",
        "simulation_results = []\n",
        "\n",
        "for factor in [-0.5, -0.2, 0.1, 0.4, 0.7]:\n",
        "    # Modify rocket fin set by removing previous one and adding new one\n",
        "    calisto2.aerodynamic_surfaces.pop(-1)\n",
        "\n",
        "    fin_set = calisto2.add_trapezoidal_fins(\n",
        "        n=4,\n",
        "        root_chord=0.120,\n",
        "        tip_chord=0.040,\n",
        "        span=0.100,\n",
        "        position=-1.04956 * factor,\n",
        "    )\n",
        "    # Simulate\n",
        "    print(\n",
        "        \"Simulating Rocket with Static Margin of {:1.3f}->{:1.3f} c\".format(\n",
        "            calisto2.static_margin(0),\n",
        "            calisto2.static_margin(calisto2.motor.burn_out_time),\n",
        "        )\n",
        "    )\n",
        "    test_flight = Flight(\n",
        "        rocket=calisto2,\n",
        "        environment=custom_env,\n",
        "        rail_length=5.2,\n",
        "        inclination=90,\n",
        "        heading=0,\n",
        "        max_time_step=0.01,\n",
        "        max_time=5,\n",
        "        terminate_on_apogee=True,\n",
        "        verbose=True,\n",
        "    )\n",
        "    # Store Results\n",
        "    static_margin_at_ignition = calisto2.static_margin(0)\n",
        "    static_margin_at_out_of_rail = calisto2.static_margin(test_flight.out_of_rail_time)\n",
        "    static_margin_at_steady_state = calisto2.static_margin(test_flight.t_final)\n",
        "    simulation_results += [\n",
        "        (\n",
        "            test_flight.attitude_angle,\n",
        "            \"{:1.2f} c | {:1.2f} c | {:1.2f} c\".format(\n",
        "                static_margin_at_ignition,\n",
        "                static_margin_at_out_of_rail,\n",
        "                static_margin_at_steady_state,\n",
        "            ),\n",
        "        )\n",
        "    ]\n",
        "\n",
        "Function.compare_plots(\n",
        "    simulation_results,\n",
        "    lower=0,\n",
        "    upper=1.5,\n",
        "    xlabel=\"Time (s)\",\n",
        "    ylabel=\"Attitude Angle (deg)\",\n",
        ")"
      ]
    },
    {
      "cell_type": "markdown",
      "metadata": {
        "id": "L5ym4DezBWSW"
      },
      "source": [
        "### Characteristic Frequency Calculation\n",
        "\n",
        "Here we analyse the characteristic frequency of oscillation of our rocket just as it leaves the launch rail. Note that when we ran test_flight.all_info(), one of the plots already showed us the frequency spectrum of our flight. Here, however, we have more control of what we are plotting.\n"
      ]
    },
    {
      "cell_type": "code",
      "execution_count": null,
      "metadata": {
        "id": "Ore5LIULBWSW"
      },
      "outputs": [],
      "source": [
        "import numpy as np\n",
        "import matplotlib.pyplot as plt\n",
        "\n",
        "# Simulate first 5 seconds of Flight\n",
        "flight = Flight(\n",
        "    rocket=calisto,\n",
        "    environment=env,\n",
        "    rail_length=5.2,\n",
        "    inclination=90,\n",
        "    heading=0,\n",
        "    max_time_step=0.01,\n",
        "    max_time=5,\n",
        ")\n",
        "\n",
        "# Perform a Fourier Analysis\n",
        "Fs = 100.0\n",
        "# sampling rate\n",
        "Ts = 1.0 / Fs\n",
        "# sampling interval\n",
        "t = np.arange(1, 400, Ts)  # time vector\n",
        "ff = 5\n",
        "# frequency of the signal\n",
        "y = flight.attitude_angle(t) - np.mean(flight.attitude_angle(t))\n",
        "n = len(y)  # length of the signal\n",
        "k = np.arange(n)\n",
        "T = n / Fs\n",
        "frq = k / T  # two sides frequency range\n",
        "frq = frq[range(n // 2)]  # one side frequency range\n",
        "Y = np.fft.fft(y) / n  # fft computing and normalization\n",
        "Y = Y[range(n // 2)]\n",
        "\n",
        "# Create the plot\n",
        "fig, ax = plt.subplots(2, 1)\n",
        "ax[0].plot(t, y)\n",
        "ax[0].set_xlabel(\"Time\")\n",
        "ax[0].set_ylabel(\"Signal\")\n",
        "ax[0].set_xlim((0, 5))\n",
        "ax[0].grid()\n",
        "ax[1].plot(frq, abs(Y), \"r\")  # plotting the spectrum\n",
        "ax[1].set_xlabel(\"Freq (Hz)\")\n",
        "ax[1].set_ylabel(\"|Y(freq)|\")\n",
        "ax[1].set_xlim((0, 5))\n",
        "ax[1].grid()\n",
        "plt.subplots_adjust(hspace=0.5)\n",
        "plt.show()"
      ]
    }
  ],
  "metadata": {
    "colab": {
      "provenance": [],
      "include_colab_link": true
    },
    "hide_input": false,
    "kernelspec": {
      "display_name": "Python 3.10.0 ('rocketpy_dev')",
      "language": "python",
      "name": "python3"
    },
    "language_info": {
      "codemirror_mode": {
        "name": "ipython",
        "version": 3
      },
      "file_extension": ".py",
      "mimetype": "text/x-python",
      "name": "python",
      "nbconvert_exporter": "python",
      "pygments_lexer": "ipython3",
      "version": "3.10.5"
    },
    "vscode": {
      "interpreter": {
        "hash": "18e93d5347af13ace37d47ea4e2a2ad720f0331bd9cb28f9983f5585f4dfaa5c"
      }
    }
  },
  "nbformat": 4,
  "nbformat_minor": 0
}